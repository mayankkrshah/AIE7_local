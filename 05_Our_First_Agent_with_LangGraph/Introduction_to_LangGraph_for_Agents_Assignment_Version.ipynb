{
  "cells": [
    {
      "cell_type": "markdown",
      "metadata": {
        "id": "gJXW_DgiSebM"
      },
      "source": [
        "# LangGraph and LangSmith - Agentic RAG Powered by LangChain\n",
        "\n",
        "In the following notebook we'll complete the following tasks:\n",
        "\n",
        "- 🤝 Breakout Room #1:\n",
        "  1. Install required libraries\n",
        "  2. Set Environment Variables\n",
        "  3. Creating our Tool Belt\n",
        "  4. Creating Our State\n",
        "  5. Creating and Compiling A Graph!\n",
        "\n",
        "- 🤝 Breakout Room #2:\n",
        "  1. Evaluating the LangGraph Application with LangSmith\n",
        "  2. Adding Helpfulness Check and \"Loop\" Limits\n",
        "  3. LangGraph for the \"Patterns\" of GenAI"
      ]
    },
    {
      "cell_type": "markdown",
      "metadata": {
        "id": "djQ3nRAgoF67"
      },
      "source": [
        "# 🤝 Breakout Room #1"
      ]
    },
    {
      "cell_type": "markdown",
      "metadata": {
        "id": "e7pQDUhUnIo8"
      },
      "source": [
        "## Part 1: LangGraph - Building Cyclic Applications with LangChain\n",
        "\n",
        "LangGraph is a tool that leverages LangChain Expression Language to build coordinated multi-actor and stateful applications that includes cyclic behaviour.\n",
        "\n",
        "### Why Cycles?\n",
        "\n",
        "In essence, we can think of a cycle in our graph as a more robust and customizable loop. It allows us to keep our application agent-forward while still giving the powerful functionality of traditional loops.\n",
        "\n",
        "Due to the inclusion of cycles over loops, we can also compose rather complex flows through our graph in a much more readable and natural fashion. Effectively allowing us to recreate application flowcharts in code in an almost 1-to-1 fashion.\n",
        "\n",
        "### Why LangGraph?\n",
        "\n",
        "Beyond the agent-forward approach - we can easily compose and combine traditional \"DAG\" (directed acyclic graph) chains with powerful cyclic behaviour due to the tight integration with LCEL. This means it's a natural extension to LangChain's core offerings!"
      ]
    },
    {
      "cell_type": "markdown",
      "metadata": {
        "id": "3_fLDElOVoop"
      },
      "source": [
        "## Task 1:  Dependencies\n"
      ]
    },
    {
      "cell_type": "markdown",
      "metadata": {
        "id": "wujPjGJuoPwg"
      },
      "source": [
        "## Task 2: Environment Variables\n",
        "\n",
        "We'll want to set both our OpenAI API key and our LangSmith environment variables."
      ]
    },
    {
      "cell_type": "code",
      "execution_count": 45,
      "metadata": {
        "colab": {
          "base_uri": "https://localhost:8080/"
        },
        "id": "Jdh8CoVWHRvs",
        "outputId": "3fa78560-393c-4ee5-b871-9886bf0d70f4"
      },
      "outputs": [],
      "source": [
        "import os\n",
        "# import getpass\n",
        "from dotenv import load_dotenv\n",
        "\n",
        "# Load environment variables from .env file\n",
        "load_dotenv()\n",
        "\n",
        "os.environ[\"OPENAI_API_KEY\"] = os.getenv(\"OPENAI_API_KEY\")\n",
        "os.environ[\"TAVILY_API_KEY\"] = os.getenv(\"TAVILY_API_KEY\")\n",
        "os.environ[\"LANGCHAIN_API_KEY\"] = os.getenv(\"LANGCHAIN_API_KEY\")\n",
        "\n",
        "\n",
        "# os.environ[\"OPENAI_API_KEY\"] = getpass.getpass(\"OpenAI API Key:\")"
      ]
    },
    {
      "cell_type": "code",
      "execution_count": null,
      "metadata": {
        "colab": {
          "base_uri": "https://localhost:8080/"
        },
        "id": "Jkla2fpx28QK",
        "outputId": "52d7ad22-fcb1-4abe-853b-216c55a12650"
      },
      "outputs": [],
      "source": [
        "# os.environ[\"TAVILY_API_KEY\"] = getpass.getpass(\"TAVILY_API_KEY\")"
      ]
    },
    {
      "cell_type": "code",
      "execution_count": 46,
      "metadata": {
        "colab": {
          "base_uri": "https://localhost:8080/"
        },
        "id": "Nv0glIDyHmRt",
        "outputId": "b69df90a-b4e1-4ddb-9de0-882d98b68ab2"
      },
      "outputs": [],
      "source": [
        "from uuid import uuid4\n",
        "\n",
        "os.environ[\"LANGCHAIN_TRACING_V2\"] = \"true\"\n",
        "os.environ[\"LANGCHAIN_PROJECT\"] = f\"AIE7 - LangGraph - {uuid4().hex[0:8]}\"\n",
        "# os.environ[\"LANGCHAIN_API_KEY\"] = getpass.getpass(\"LangSmith API Key: \")"
      ]
    },
    {
      "cell_type": "markdown",
      "metadata": {
        "id": "sBRyQmEAVzua"
      },
      "source": [
        "## Task 3: Creating our Tool Belt\n",
        "\n",
        "As is usually the case, we'll want to equip our agent with a toolbelt to help answer questions and add external knowledge.\n",
        "\n",
        "There's a tonne of tools in the [LangChain Community Repo](https://github.com/langchain-ai/langchain-community/tree/main/libs/community) but we'll stick to a couple just so we can observe the cyclic nature of LangGraph in action!\n",
        "\n",
        "We'll leverage:\n",
        "\n",
        "- [Tavily Search Results](https://github.com/langchain-ai/langchain-community/blob/main/libs/community/langchain_community/tools/tavily_search/tool.py)\n",
        "- [Arxiv](https://github.com/langchain-ai/langchain-community/blob/main/libs/community/langchain_community/tools/arxiv/tool.py)"
      ]
    },
    {
      "cell_type": "markdown",
      "metadata": {
        "id": "2k6n_Dob2F46"
      },
      "source": [
        "#### 🏗️ Activity #1:\n",
        "\n",
        "Please add the tools to use into our toolbelt.\n",
        "\n",
        "> NOTE: Each tool in our toolbelt should be a method."
      ]
    },
    {
      "cell_type": "code",
      "execution_count": 47,
      "metadata": {
        "id": "lAxaSvlfIeOg"
      },
      "outputs": [],
      "source": [
        "from langchain_community.tools.tavily_search import TavilySearchResults\n",
        "from langchain_community.tools.arxiv.tool import ArxivQueryRun\n",
        "\n",
        "# Added 2 new tools\n",
        "from langchain_community.tools import WikipediaQueryRun\n",
        "from langchain_community.utilities import WikipediaAPIWrapper\n",
        "from langchain.agents import tool\n",
        "\n",
        "tavily_tool = TavilySearchResults(max_results=5)\n",
        "wiki_tool = WikipediaQueryRun(api_wrapper=WikipediaAPIWrapper())\n",
        "\n",
        "@tool\n",
        "def evaluate_expression(expr: str) -> float:\n",
        "    \"\"\"Evaluate a simple math expression like '3 * (4 + 2)'.\"\"\"\n",
        "    try:\n",
        "        return eval(expr)\n",
        "    except Exception as e:\n",
        "        return f\"Error: {str(e)}\"\n",
        "\n",
        "tool_belt = [\n",
        "    tavily_tool,\n",
        "    ArxivQueryRun(),\n",
        "    wiki_tool,\n",
        "    evaluate_expression\n",
        "]"
      ]
    },
    {
      "cell_type": "markdown",
      "metadata": {
        "id": "VI-C669ZYVI5"
      },
      "source": [
        "### Model\n",
        "\n",
        "Now we can set-up our model! We'll leverage the familiar OpenAI model suite for this example - but it's not *necessary* to use with LangGraph. LangGraph supports all models - though you might not find success with smaller models - as such, they recommend you stick with:\n",
        "\n",
        "- OpenAI's GPT-3.5 and GPT-4\n",
        "- Anthropic's Claude\n",
        "- Google's Gemini\n",
        "\n",
        "> NOTE: Because we're leveraging the OpenAI function calling API - we'll need to use OpenAI *for this specific example* (or any other service that exposes an OpenAI-style function calling API."
      ]
    },
    {
      "cell_type": "code",
      "execution_count": 48,
      "metadata": {
        "id": "QkNS8rNZJs4z"
      },
      "outputs": [],
      "source": [
        "from langchain_openai import ChatOpenAI\n",
        "\n",
        "model = ChatOpenAI(model=\"gpt-4.1-nano\", temperature=0)"
      ]
    },
    {
      "cell_type": "markdown",
      "metadata": {
        "id": "Ugkj3GzuZpQv"
      },
      "source": [
        "Now that we have our model set-up, let's \"put on the tool belt\", which is to say: We'll bind our LangChain formatted tools to the model in an OpenAI function calling format."
      ]
    },
    {
      "cell_type": "code",
      "execution_count": 49,
      "metadata": {
        "id": "4OdMqFafZ_0V"
      },
      "outputs": [],
      "source": [
        "model = model.bind_tools(tool_belt)"
      ]
    },
    {
      "cell_type": "markdown",
      "metadata": {
        "id": "ERzuGo6W18Lr"
      },
      "source": [
        "#### ❓ Question #1:\n",
        "How does the model determine which tool to use?\n",
        "\n",
        "Answer:\n",
        "\n",
        "The model determines which tool to use through OpenAI's function calling mechanism combined with tool descriptions and the current context. Here's how it works:\n",
        "\n",
        "1. Model reads the question\n",
        "2. Looks at available tool descriptions\n",
        "3. Picks the tool that best matches what we are asking for\n",
        "4. If no tool fits, just answers normally\n",
        "\n",
        "Basically model just picks the right tool based on user query!\n"
      ]
    },
    {
      "cell_type": "markdown",
      "metadata": {
        "id": "_296Ub96Z_H8"
      },
      "source": [
        "## Task 4: Putting the State in Stateful\n",
        "\n",
        "Earlier we used this phrasing:\n",
        "\n",
        "`coordinated multi-actor and stateful applications`\n",
        "\n",
        "So what does that \"stateful\" mean?\n",
        "\n",
        "To put it simply - we want to have some kind of object which we can pass around our application that holds information about what the current situation (state) is. Since our system will be constructed of many parts moving in a coordinated fashion - we want to be able to ensure we have some commonly understood idea of that state.\n",
        "\n",
        "LangGraph leverages a `StatefulGraph` which uses an `AgentState` object to pass information between the various nodes of the graph.\n",
        "\n",
        "There are more options than what we'll see below - but this `AgentState` object is one that is stored in a `TypedDict` with the key `messages` and the value is a `Sequence` of `BaseMessages` that will be appended to whenever the state changes.\n",
        "\n",
        "Let's think about a simple example to help understand exactly what this means (we'll simplify a great deal to try and clearly communicate what state is doing):\n",
        "\n",
        "1. We initialize our state object:\n",
        "  - `{\"messages\" : []}`\n",
        "2. Our user submits a query to our application.\n",
        "  - New State: `HumanMessage(#1)`\n",
        "  - `{\"messages\" : [HumanMessage(#1)}`\n",
        "3. We pass our state object to an Agent node which is able to read the current state. It will use the last `HumanMessage` as input. It gets some kind of output which it will add to the state.\n",
        "  - New State: `AgentMessage(#1, additional_kwargs {\"function_call\" : \"WebSearchTool\"})`\n",
        "  - `{\"messages\" : [HumanMessage(#1), AgentMessage(#1, ...)]}`\n",
        "4. We pass our state object to a \"conditional node\" (more on this later) which reads the last state to determine if we need to use a tool - which it can determine properly because of our provided object!"
      ]
    },
    {
      "cell_type": "code",
      "execution_count": 50,
      "metadata": {
        "id": "mxL9b_NZKUdL"
      },
      "outputs": [],
      "source": [
        "from typing import TypedDict, Annotated\n",
        "from langgraph.graph.message import add_messages\n",
        "import operator\n",
        "from langchain_core.messages import BaseMessage\n",
        "\n",
        "class AgentState(TypedDict):\n",
        "  messages: Annotated[list, add_messages]"
      ]
    },
    {
      "cell_type": "markdown",
      "metadata": {
        "id": "vWsMhfO9grLu"
      },
      "source": [
        "## Task 5: It's Graphing Time!\n",
        "\n",
        "Now that we have state, and we have tools, and we have an LLM - we can finally start making our graph!\n",
        "\n",
        "Let's take a second to refresh ourselves about what a graph is in this context.\n",
        "\n",
        "Graphs, also called networks in some circles, are a collection of connected objects.\n",
        "\n",
        "The objects in question are typically called nodes, or vertices, and the connections are called edges.\n",
        "\n",
        "Let's look at a simple graph.\n",
        "\n",
        "![image](https://i.imgur.com/2NFLnIc.png)\n",
        "\n",
        "Here, we're using the coloured circles to represent the nodes and the yellow lines to represent the edges. In this case, we're looking at a fully connected graph - where each node is connected by an edge to each other node.\n",
        "\n",
        "If we were to think about nodes in the context of LangGraph - we would think of a function, or an LCEL runnable.\n",
        "\n",
        "If we were to think about edges in the context of LangGraph - we might think of them as \"paths to take\" or \"where to pass our state object next\".\n",
        "\n",
        "Let's create some nodes and expand on our diagram.\n",
        "\n",
        "> NOTE: Due to the tight integration with LCEL - we can comfortably create our nodes in an async fashion!"
      ]
    },
    {
      "cell_type": "code",
      "execution_count": 51,
      "metadata": {
        "id": "91flJWtZLUrl"
      },
      "outputs": [],
      "source": [
        "from langgraph.prebuilt import ToolNode\n",
        "\n",
        "def call_model(state):\n",
        "  messages = state[\"messages\"]\n",
        "  response = model.invoke(messages)\n",
        "  return {\"messages\" : [response]}\n",
        "\n",
        "tool_node = ToolNode(tool_belt)"
      ]
    },
    {
      "cell_type": "markdown",
      "metadata": {
        "id": "2bwR7MgWj3Wg"
      },
      "source": [
        "Now we have two total nodes. We have:\n",
        "\n",
        "- `call_model` is a node that will...well...call the model\n",
        "- `tool_node` is a node which can call a tool\n",
        "\n",
        "Let's start adding nodes! We'll update our diagram along the way to keep track of what this looks like!\n"
      ]
    },
    {
      "cell_type": "code",
      "execution_count": 52,
      "metadata": {
        "colab": {
          "base_uri": "https://localhost:8080/"
        },
        "id": "_vF4_lgtmQNo",
        "outputId": "a4384377-8f7a-415f-be1b-fee6169cb101"
      },
      "outputs": [
        {
          "data": {
            "text/plain": [
              "<langgraph.graph.state.StateGraph at 0x123361a70>"
            ]
          },
          "execution_count": 75,
          "metadata": {},
          "output_type": "execute_result"
        }
      ],
      "source": [
        "from langgraph.graph import StateGraph, END\n",
        "\n",
        "uncompiled_graph = StateGraph(AgentState)\n",
        "\n",
        "uncompiled_graph.add_node(\"agent\", call_model)\n",
        "uncompiled_graph.add_node(\"action\", tool_node)"
      ]
    },
    {
      "cell_type": "markdown",
      "metadata": {
        "id": "b8CjRlbVmRpW"
      },
      "source": [
        "Let's look at what we have so far:\n",
        "\n",
        "![image](https://i.imgur.com/md7inqG.png)"
      ]
    },
    {
      "cell_type": "markdown",
      "metadata": {
        "id": "uaXHpPeSnOWC"
      },
      "source": [
        "Next, we'll add our entrypoint. All our entrypoint does is indicate which node is called first."
      ]
    },
    {
      "cell_type": "code",
      "execution_count": 53,
      "metadata": {
        "colab": {
          "base_uri": "https://localhost:8080/"
        },
        "id": "YGCbaYqRnmiw",
        "outputId": "5351807c-2ac7-4316-a3a3-878abeacd114"
      },
      "outputs": [
        {
          "data": {
            "text/plain": [
              "<langgraph.graph.state.StateGraph at 0x123361a70>"
            ]
          },
          "execution_count": 76,
          "metadata": {},
          "output_type": "execute_result"
        }
      ],
      "source": [
        "uncompiled_graph.set_entry_point(\"agent\")"
      ]
    },
    {
      "cell_type": "markdown",
      "metadata": {
        "id": "BUsfGoSpoF9U"
      },
      "source": [
        "![image](https://i.imgur.com/wNixpJe.png)"
      ]
    },
    {
      "cell_type": "markdown",
      "metadata": {
        "id": "0Q_pQgHmoW0M"
      },
      "source": [
        "Now we want to build a \"conditional edge\" which will use the output state of a node to determine which path to follow.\n",
        "\n",
        "We can help conceptualize this by thinking of our conditional edge as a conditional in a flowchart!\n",
        "\n",
        "Notice how our function simply checks if there is a \"function_call\" kwarg present.\n",
        "\n",
        "Then we create an edge where the origin node is our agent node and our destination node is *either* the action node or the END (finish the graph).\n",
        "\n",
        "It's important to highlight that the dictionary passed in as the third parameter (the mapping) should be created with the possible outputs of our conditional function in mind. In this case `should_continue` outputs either `\"end\"` or `\"continue\"` which are subsequently mapped to the action node or the END node."
      ]
    },
    {
      "cell_type": "code",
      "execution_count": 54,
      "metadata": {
        "colab": {
          "base_uri": "https://localhost:8080/"
        },
        "id": "1BZgb81VQf9o",
        "outputId": "73a07c15-5f0b-40f2-b033-38b57d056dd8"
      },
      "outputs": [
        {
          "data": {
            "text/plain": [
              "<langgraph.graph.state.StateGraph at 0x123361a70>"
            ]
          },
          "execution_count": 77,
          "metadata": {},
          "output_type": "execute_result"
        }
      ],
      "source": [
        "def should_continue(state):\n",
        "  last_message = state[\"messages\"][-1]\n",
        "\n",
        "  if last_message.tool_calls:\n",
        "    return \"action\"\n",
        "\n",
        "  return END\n",
        "\n",
        "uncompiled_graph.add_conditional_edges(\n",
        "    \"agent\",\n",
        "    should_continue\n",
        ")"
      ]
    },
    {
      "cell_type": "markdown",
      "metadata": {
        "id": "-Cvhcf4jp0Ce"
      },
      "source": [
        "Let's visualize what this looks like.\n",
        "\n",
        "![image](https://i.imgur.com/8ZNwKI5.png)"
      ]
    },
    {
      "cell_type": "markdown",
      "metadata": {
        "id": "yKCjWJCkrJb9"
      },
      "source": [
        "Finally, we can add our last edge which will connect our action node to our agent node. This is because we *always* want our action node (which is used to call our tools) to return its output to our agent!"
      ]
    },
    {
      "cell_type": "code",
      "execution_count": 55,
      "metadata": {
        "colab": {
          "base_uri": "https://localhost:8080/"
        },
        "id": "UvcgbHf1rIXZ",
        "outputId": "45d4bdd6-d6bb-4a1d-bb79-cad43c130bf2"
      },
      "outputs": [
        {
          "data": {
            "text/plain": [
              "<langgraph.graph.state.StateGraph at 0x123361a70>"
            ]
          },
          "execution_count": 78,
          "metadata": {},
          "output_type": "execute_result"
        }
      ],
      "source": [
        "uncompiled_graph.add_edge(\"action\", \"agent\")"
      ]
    },
    {
      "cell_type": "markdown",
      "metadata": {
        "id": "EiWDwBQtrw7Z"
      },
      "source": [
        "Let's look at the final visualization.\n",
        "\n",
        "![image](https://i.imgur.com/NWO7usO.png)"
      ]
    },
    {
      "cell_type": "markdown",
      "metadata": {
        "id": "KYqDpErlsCsu"
      },
      "source": [
        "All that's left to do now is to compile our workflow - and we're off!"
      ]
    },
    {
      "cell_type": "code",
      "execution_count": 56,
      "metadata": {
        "id": "zt9-KS8DpzNx"
      },
      "outputs": [],
      "source": [
        "simple_agent_graph = uncompiled_graph.compile()"
      ]
    },
    {
      "cell_type": "markdown",
      "metadata": {
        "id": "xhNWIwBL1W4Q"
      },
      "source": [
        "#### ❓ Question #2:\n",
        "\n",
        "Is there any specific limit to how many times we can cycle?\n",
        "\n",
        "Answer:\n",
        "\n",
        "Yes, LangGraph enforces a default recursion limit of 25. That means an agent can cycle between nodes—like \"agent\" and \"action\"—up to 25 times before the graph halts automatically. This built-in safeguard helps prevent infinite loops, runaway API calls, and excessive costs.\n",
        "\n",
        "\n",
        "The standard way to impose a limit is by using the recursion_limit parameter when compiling the graph. For example:\n",
        "\n",
        "```python\n",
        "graph = uncompiled_graph.compile(recursion_limit=5)\n",
        "```\n",
        "\n",
        "This sets a hard cap—once the agent hits 5 recursive steps, the graph will stop automatically. It’s the recommended and built-in way to prevent runaway loops.\n",
        "\n",
        "Apart from that, we can also add custom limits inside our node logic. One common method is checking how many messages have been exchanged:\n",
        "\n",
        "```python\n",
        "if len(state[\"messages\"]) > 10:\n",
        "    return END\n",
        "```\n",
        "\n",
        "This is helpful in chat scenarios where we want to stop after a certain number of back-and-forths.\n",
        "Another way is to look at the content of the message and stop based on a condition:\n",
        "\n",
        "```python\n",
        "if \"STOP\" in state[\"latest_message\"][\"content\"]:\n",
        "    return END\n",
        "```\n",
        "\n",
        "This gives more flexibility and lets the agent exit based on dynamic inputs.\n",
        "\n",
        "In short, LangGraph doesn’t enforce a limit by default, but recursion_limit is the standard way to do it, and we can always layer on additional logic if needed.\n"
      ]
    },
    {
      "cell_type": "markdown",
      "metadata": {
        "id": "VEYcTShCsPaa"
      },
      "source": [
        "## Using Our Graph\n",
        "\n",
        "Now that we've created and compiled our graph - we can call it *just as we'd call any other* `Runnable`!\n",
        "\n",
        "Let's try out a few examples to see how it fairs:"
      ]
    },
    {
      "cell_type": "code",
      "execution_count": 57,
      "metadata": {
        "colab": {
          "base_uri": "https://localhost:8080/"
        },
        "id": "Qn4n37PQRPII",
        "outputId": "5eeedfae-089d-496e-e71f-071939fa5832"
      },
      "outputs": [
        {
          "name": "stdout",
          "output_type": "stream",
          "text": [
            "Receiving update from node: 'agent'\n",
            "[AIMessage(content='', additional_kwargs={'tool_calls': [{'id': 'call_FlzrbIUaDKtUksSf5JVdoWIB', 'function': {'arguments': '{\"query\":\"current captain of the Winnipeg Jets\"}', 'name': 'tavily_search_results_json'}, 'type': 'function'}], 'refusal': None}, response_metadata={'token_usage': {'completion_tokens': 23, 'prompt_tokens': 250, 'total_tokens': 273, 'completion_tokens_details': {'accepted_prediction_tokens': 0, 'audio_tokens': 0, 'reasoning_tokens': 0, 'rejected_prediction_tokens': 0}, 'prompt_tokens_details': {'audio_tokens': 0, 'cached_tokens': 0}}, 'model_name': 'gpt-4.1-nano-2025-04-14', 'system_fingerprint': None, 'id': 'chatcmpl-BtC6BraVBGeYWU5rql2oJX92JokCW', 'service_tier': 'default', 'finish_reason': 'tool_calls', 'logprobs': None}, id='run--c4a9d22a-abec-40ee-8205-032685f36d7a-0', tool_calls=[{'name': 'tavily_search_results_json', 'args': {'query': 'current captain of the Winnipeg Jets'}, 'id': 'call_FlzrbIUaDKtUksSf5JVdoWIB', 'type': 'tool_call'}], usage_metadata={'input_tokens': 250, 'output_tokens': 23, 'total_tokens': 273, 'input_token_details': {'audio': 0, 'cache_read': 0}, 'output_token_details': {'audio': 0, 'reasoning': 0}})]\n",
            "\n",
            "\n",
            "\n",
            "Receiving update from node: 'action'\n",
            "[ToolMessage(content='[{\"title\": \"Adam Lowry - Wikipedia\", \"url\": \"https://en.wikipedia.org/wiki/Adam_Lowry\", \"content\": \"| Awards and achievements | | |\\\\n| --- | --- | --- |\\\\n| Preceded by Stefan Elliott | Winner of the Daryl K. (Doc) Seaman Trophy_Seaman_Trophy \\\\\"Daryl K. (Doc) Seaman Trophy\\\\\")  2010 | Succeeded by Colin Smith \\\\\"Colin Smith (ice hockey)\\\\\") |\\\\n| Sporting positions | | |\\\\n| Preceded by Blake Wheeler | Winnipeg Jets captain  2023–present | Incumbent | [...] Adam Lowry (born March 29, 1993) is an American-born Canadian professional ice hockey centre \\\\\"Center (ice hockey)\\\\\") and  captain \\\\\"Captain (ice hockey)\\\\\") of the Winnipeg Jets of the National Hockey League (NHL).\\\\n\\\\n## Early life [...] Entering the 2023–24 season, Lowry was named captain of the Jets on September 12, 2023. He became the third in the team\\'s history since relocating to Winnipeg, and the tenth overall in franchise history.\\\\n\\\\nOn May 4, 2025, Lowry scored at 16:10 in double overtime to win 4-3 against the St. Louis Blues in Game 7 of the Jets-Blues first round playoff series.\\\\n\\\\n## Personal life\", \"score\": 0.8482825}, {\"title\": \"Adam Lowry named Jets captain | Winnipeg Jets - NHL.com\", \"url\": \"https://www.nhl.com/jets/news/adam-lowry-named-jets-captain\", \"content\": \"That honour was given to Winnipeg Jet forward Adam Lowry officially Tuesday morning as he becomes the third captain in franchise history since the team moved here from Atlanta. He follows Andrew Ladd and Blake Wheeler who served as captain for five and six years respectively.\\\\n\\\\nâ\\x80\\x9cWhen I found out, I was pretty excited, almost a little speechless. Itâ\\x80\\x99s something growing up you kind of can dream about and something that seems almost unattainable,â\\x80\\x9d said Lowry. [...] â\\x80\\x9cHeâ\\x80\\x99s a true professional, he has total respect from every player on the team, every player around the league and certainly from the coaching staff as well. We just feel at this point itâ\\x80\\x99s the right time to name Adam as our captain.â\\x80\\x9d [...] â\\x80\\x9cGetting to be a captain of a Canadian NHL team is pretty special and something Iâ\\x80\\x99m really looking forward too.â\\x80\\x9d\", \"score\": 0.8449346}, {\"title\": \"Lowry named Jets captain, replaces Wheeler | NHL.com\", \"url\": \"https://www.nhl.com/news/adam-lowry-named-winnipeg-captain\", \"content\": \"NHL logo\\\\nNHL logo\\\\n\\\\n# Lowry named Jets captain, replaces Wheeler\\\\n\\\\n30-year-old forward entering 10th season with Winnipeg\\\\n\\\\nLowry_Jets\\\\n\\\\nAdam Lowry was named captain of the Winnipeg Jets on Tuesday.\\\\n\\\\nThe 30-year-old forward was selected by the Jets in the third round (No. 67) of the 2011 NHL Draft and has played his entire nine-season NHL career with Winnipeg. [...] Lowry replaces Blake Wheeler, who was removed as captain Sept. 16, 2022, and signed with the New York Rangers after having his contract bought out this offseason. The Jets opted for three alternate captains last season; Lowry, forward Mark Scheifele and defenseman Josh Morrissey. Coach Rick Bowness said Scheifele and Morrissey will remain alternate captains. [...] Lowry said he\\'s learned from the captains he\\'s played with in Winnipeg, Wheeler and Andrew Ladd, and believes the important thing is staying true to the player he\\'s always been.\", \"score\": 0.84027237}, {\"title\": \"Progress report on Winnipeg Jets captain Adam Lowry who is ...\", \"url\": \"https://illegalcurve.com/progress-report-on-winnipeg-jets-captain-adam-lowry-who-is-almost-off-the-crutches/\", \"content\": \"Illegal Curve Hockey\\\\nIllegal Curve Hockey\\\\n\\\\n## Illegal Curve Hockey\\\\n\\\\n### Winnipeg Jets\\\\n\\\\n# Progress report on Winnipeg Jets captain Adam Lowry who is “almost off the crutches”\\\\n\\\\nLatest update from Jets GM Kevin Cheveldayoff on his captain.\\\\n\\\\nby [...] The Jets are getting ready for the 2025 NHL Draft this weekend which meant it was an opportunity to hear from Winnipeg GM Kevin Cheveldayoff who spoke for about 25 minutes this morning on a wide variety of topics including the health of team captain Adam Lowry. We learned late last month that Lowry had undergone successful hip surgery which would require 5-6 months of rehab and which was expected to cost him the first bit of the 2025-26 season.\\\\n\\\\nPhoto Credit: Colby Spence (Illegal Curve) [...] Copyright © 2025 Illegal Curve. Website designed by More Hot Leads\", \"score\": 0.8014549}, {\"title\": \"Team Captains of Winnipeg Jets - Elite Prospects\", \"url\": \"https://www.eliteprospects.com/team/9966/winnipeg-jets/captaincy-history\", \"content\": \"| Season | League | “C” Captain(s) | “A” Alternate Captain(s) |\\\\n| --- | --- | --- | --- |\\\\n| 2025-2026  2025-26 | NHL | Adam Lowry |  |\\\\n| 2024-2025  2024-25 | NHL | Adam Lowry | Josh Morrissey  Neal Pionk  Mark Scheifele |\\\\n| 2023-2024  2023-24 | NHL | Adam Lowry | Josh Morrissey  Mark Scheifele |\\\\n| 2022-2023  2022-23 | NHL |  | Adam Lowry  Josh Morrissey  Mark Scheifele |\\\\n| 2021-2022  2021-22 | NHL | Blake Wheeler | Josh Morrissey  Mark Scheifele | [...] | Name | League |\\\\n| --- | --- |\\\\n| USA Kieffer Bellows (F) | SHL |\\\\n| Canada Chase Stillman (F) | AHL |\\\\n| Latvia Arturs Silovs (G) | NHL |\\\\n| Canada Scott Sabourin (F) | AHL |\\\\n| Finland Kasperi Lehtonen (D) | HockeyEttan |\\\\n| Sweden Eric Engstrand (F) | Denmark |\\\\n| USA Ryan McKiernan (D) | DEL |\\\\n| Canada Josh Currie (F) | DEL |\\\\n| Russia Nikita Alexandrov (F) | AHL |\\\\n| USA Cole Bardreau (F) | AHL |\\\\n| Canada Brian Bellows (F) | NHL |\\\\n| Canada Sidney Crosby (F) | NHL | [...] | 2020-2021  2020-21 | NHL | Blake Wheeler | Josh Morrissey  Mark Scheifele |\\\\n| 2019-2020  2019-20 | NHL | Blake Wheeler | Mark Scheifele  Bryan Little  Josh Morrissey |\\\\n| 2018-2019  2018-19 | NHL | Blake Wheeler | Mark Scheifele  Bryan Little  Dustin Byfuglien |\\\\n| 2017-2018  2017-18 | NHL | Blake Wheeler | Dustin Byfuglien  Bryan Little  Mark Scheifele |\\\\n| 2016-2017  2016-17 | NHL | Blake Wheeler | Dustin Byfuglien  Mark Scheifele |\", \"score\": 0.7663815}]', name='tavily_search_results_json', id='c265daab-8621-44e7-b95c-a118fdeb607e', tool_call_id='call_FlzrbIUaDKtUksSf5JVdoWIB', artifact={'query': 'current captain of the Winnipeg Jets', 'follow_up_questions': None, 'answer': None, 'images': [], 'results': [{'url': 'https://en.wikipedia.org/wiki/Adam_Lowry', 'title': 'Adam Lowry - Wikipedia', 'content': '| Awards and achievements | | |\\n| --- | --- | --- |\\n| Preceded by Stefan Elliott | Winner of the Daryl K. (Doc) Seaman Trophy_Seaman_Trophy \"Daryl K. (Doc) Seaman Trophy\")  2010 | Succeeded by Colin Smith \"Colin Smith (ice hockey)\") |\\n| Sporting positions | | |\\n| Preceded by Blake Wheeler | Winnipeg Jets captain  2023–present | Incumbent | [...] Adam Lowry (born March 29, 1993) is an American-born Canadian professional ice hockey centre \"Center (ice hockey)\") and  captain \"Captain (ice hockey)\") of the Winnipeg Jets of the National Hockey League (NHL).\\n\\n## Early life [...] Entering the 2023–24 season, Lowry was named captain of the Jets on September 12, 2023. He became the third in the team\\'s history since relocating to Winnipeg, and the tenth overall in franchise history.\\n\\nOn May 4, 2025, Lowry scored at 16:10 in double overtime to win 4-3 against the St. Louis Blues in Game 7 of the Jets-Blues first round playoff series.\\n\\n## Personal life', 'score': 0.8482825, 'raw_content': None}, {'url': 'https://www.nhl.com/jets/news/adam-lowry-named-jets-captain', 'title': 'Adam Lowry named Jets captain | Winnipeg Jets - NHL.com', 'content': 'That honour was given to Winnipeg Jet forward Adam Lowry officially Tuesday morning as he becomes the third captain in franchise history since the team moved here from Atlanta. He follows Andrew Ladd and Blake Wheeler who served as captain for five and six years respectively.\\n\\nâ\\x80\\x9cWhen I found out, I was pretty excited, almost a little speechless. Itâ\\x80\\x99s something growing up you kind of can dream about and something that seems almost unattainable,â\\x80\\x9d said Lowry. [...] â\\x80\\x9cHeâ\\x80\\x99s a true professional, he has total respect from every player on the team, every player around the league and certainly from the coaching staff as well. We just feel at this point itâ\\x80\\x99s the right time to name Adam as our captain.â\\x80\\x9d [...] â\\x80\\x9cGetting to be a captain of a Canadian NHL team is pretty special and something Iâ\\x80\\x99m really looking forward too.â\\x80\\x9d', 'score': 0.8449346, 'raw_content': None}, {'url': 'https://www.nhl.com/news/adam-lowry-named-winnipeg-captain', 'title': 'Lowry named Jets captain, replaces Wheeler | NHL.com', 'content': \"NHL logo\\nNHL logo\\n\\n# Lowry named Jets captain, replaces Wheeler\\n\\n30-year-old forward entering 10th season with Winnipeg\\n\\nLowry_Jets\\n\\nAdam Lowry was named captain of the Winnipeg Jets on Tuesday.\\n\\nThe 30-year-old forward was selected by the Jets in the third round (No. 67) of the 2011 NHL Draft and has played his entire nine-season NHL career with Winnipeg. [...] Lowry replaces Blake Wheeler, who was removed as captain Sept. 16, 2022, and signed with the New York Rangers after having his contract bought out this offseason. The Jets opted for three alternate captains last season; Lowry, forward Mark Scheifele and defenseman Josh Morrissey. Coach Rick Bowness said Scheifele and Morrissey will remain alternate captains. [...] Lowry said he's learned from the captains he's played with in Winnipeg, Wheeler and Andrew Ladd, and believes the important thing is staying true to the player he's always been.\", 'score': 0.84027237, 'raw_content': None}, {'url': 'https://illegalcurve.com/progress-report-on-winnipeg-jets-captain-adam-lowry-who-is-almost-off-the-crutches/', 'title': 'Progress report on Winnipeg Jets captain Adam Lowry who is ...', 'content': 'Illegal Curve Hockey\\nIllegal Curve Hockey\\n\\n## Illegal Curve Hockey\\n\\n### Winnipeg Jets\\n\\n# Progress report on Winnipeg Jets captain Adam Lowry who is “almost off the crutches”\\n\\nLatest update from Jets GM Kevin Cheveldayoff on his captain.\\n\\nby [...] The Jets are getting ready for the 2025 NHL Draft this weekend which meant it was an opportunity to hear from Winnipeg GM Kevin Cheveldayoff who spoke for about 25 minutes this morning on a wide variety of topics including the health of team captain Adam Lowry. We learned late last month that Lowry had undergone successful hip surgery which would require 5-6 months of rehab and which was expected to cost him the first bit of the 2025-26 season.\\n\\nPhoto Credit: Colby Spence (Illegal Curve) [...] Copyright © 2025 Illegal Curve. Website designed by More Hot Leads', 'score': 0.8014549, 'raw_content': None}, {'url': 'https://www.eliteprospects.com/team/9966/winnipeg-jets/captaincy-history', 'title': 'Team Captains of Winnipeg Jets - Elite Prospects', 'content': '| Season | League | “C” Captain(s) | “A” Alternate Captain(s) |\\n| --- | --- | --- | --- |\\n| 2025-2026  2025-26 | NHL | Adam Lowry |  |\\n| 2024-2025  2024-25 | NHL | Adam Lowry | Josh Morrissey  Neal Pionk  Mark Scheifele |\\n| 2023-2024  2023-24 | NHL | Adam Lowry | Josh Morrissey  Mark Scheifele |\\n| 2022-2023  2022-23 | NHL |  | Adam Lowry  Josh Morrissey  Mark Scheifele |\\n| 2021-2022  2021-22 | NHL | Blake Wheeler | Josh Morrissey  Mark Scheifele | [...] | Name | League |\\n| --- | --- |\\n| USA Kieffer Bellows (F) | SHL |\\n| Canada Chase Stillman (F) | AHL |\\n| Latvia Arturs Silovs (G) | NHL |\\n| Canada Scott Sabourin (F) | AHL |\\n| Finland Kasperi Lehtonen (D) | HockeyEttan |\\n| Sweden Eric Engstrand (F) | Denmark |\\n| USA Ryan McKiernan (D) | DEL |\\n| Canada Josh Currie (F) | DEL |\\n| Russia Nikita Alexandrov (F) | AHL |\\n| USA Cole Bardreau (F) | AHL |\\n| Canada Brian Bellows (F) | NHL |\\n| Canada Sidney Crosby (F) | NHL | [...] | 2020-2021  2020-21 | NHL | Blake Wheeler | Josh Morrissey  Mark Scheifele |\\n| 2019-2020  2019-20 | NHL | Blake Wheeler | Mark Scheifele  Bryan Little  Josh Morrissey |\\n| 2018-2019  2018-19 | NHL | Blake Wheeler | Mark Scheifele  Bryan Little  Dustin Byfuglien |\\n| 2017-2018  2017-18 | NHL | Blake Wheeler | Dustin Byfuglien  Bryan Little  Mark Scheifele |\\n| 2016-2017  2016-17 | NHL | Blake Wheeler | Dustin Byfuglien  Mark Scheifele |', 'score': 0.7663815, 'raw_content': None}], 'response_time': 4.04})]\n",
            "\n",
            "\n",
            "\n",
            "Receiving update from node: 'agent'\n",
            "[AIMessage(content='The current captain of the Winnipeg Jets is Adam Lowry.', additional_kwargs={'refusal': None}, response_metadata={'token_usage': {'completion_tokens': 13, 'prompt_tokens': 1941, 'total_tokens': 1954, 'completion_tokens_details': {'accepted_prediction_tokens': 0, 'audio_tokens': 0, 'reasoning_tokens': 0, 'rejected_prediction_tokens': 0}, 'prompt_tokens_details': {'audio_tokens': 0, 'cached_tokens': 0}}, 'model_name': 'gpt-4.1-nano-2025-04-14', 'system_fingerprint': None, 'id': 'chatcmpl-BtC6H6KFEto21mPgsHfPLh3H3Kydj', 'service_tier': 'default', 'finish_reason': 'stop', 'logprobs': None}, id='run--41451326-86be-4fa6-9642-3d3b7c40244e-0', usage_metadata={'input_tokens': 1941, 'output_tokens': 13, 'total_tokens': 1954, 'input_token_details': {'audio': 0, 'cache_read': 0}, 'output_token_details': {'audio': 0, 'reasoning': 0}})]\n",
            "\n",
            "\n",
            "\n"
          ]
        }
      ],
      "source": [
        "from langchain_core.messages import HumanMessage\n",
        "\n",
        "inputs = {\"messages\" : [HumanMessage(content=\"Who is the current captain of the Winnipeg Jets?\")]}\n",
        "\n",
        "async for chunk in simple_agent_graph.astream(inputs, stream_mode=\"updates\"):\n",
        "    for node, values in chunk.items():\n",
        "        print(f\"Receiving update from node: '{node}'\")\n",
        "        print(values[\"messages\"])\n",
        "        print(\"\\n\\n\")"
      ]
    },
    {
      "cell_type": "markdown",
      "metadata": {
        "id": "DBHnUtLSscRr"
      },
      "source": [
        "Let's look at what happened:\n",
        "\n",
        "1. Our state object was populated with our request\n",
        "2. The state object was passed into our entry point (agent node) and the agent node added an `AIMessage` to the state object and passed it along the conditional edge\n",
        "3. The conditional edge received the state object, found the \"tool_calls\" `additional_kwarg`, and sent the state object to the action node\n",
        "4. The action node added the response from the OpenAI function calling endpoint to the state object and passed it along the edge to the agent node\n",
        "5. The agent node added a response to the state object and passed it along the conditional edge\n",
        "6. The conditional edge received the state object, could not find the \"tool_calls\" `additional_kwarg` and passed the state object to END where we see it output in the cell above!\n",
        "\n",
        "Now let's look at an example that shows a multiple tool usage - all with the same flow!"
      ]
    },
    {
      "cell_type": "code",
      "execution_count": 58,
      "metadata": {
        "colab": {
          "base_uri": "https://localhost:8080/"
        },
        "id": "afv2BuEsV5JG",
        "outputId": "ff009536-d281-4a56-c126-9cd245352bfe"
      },
      "outputs": [
        {
          "name": "stdout",
          "output_type": "stream",
          "text": [
            "Receiving update from node: 'agent'\n",
            "[AIMessage(content='', additional_kwargs={'tool_calls': [{'id': 'call_aKNJVbV2s4asVbewUznH6EOv', 'function': {'arguments': '{\"query\": \"QLoRA\"}', 'name': 'arxiv'}, 'type': 'function'}, {'id': 'call_ezTV00rCpgaERmxRlGqwewmr', 'function': {'arguments': '{\"query\": \"latest Tweet of the author of QLoRA\"}', 'name': 'tavily_search_results_json'}, 'type': 'function'}], 'refusal': None}, response_metadata={'token_usage': {'completion_tokens': 58, 'prompt_tokens': 266, 'total_tokens': 324, 'completion_tokens_details': {'accepted_prediction_tokens': 0, 'audio_tokens': 0, 'reasoning_tokens': 0, 'rejected_prediction_tokens': 0}, 'prompt_tokens_details': {'audio_tokens': 0, 'cached_tokens': 0}}, 'model_name': 'gpt-4.1-nano-2025-04-14', 'system_fingerprint': None, 'id': 'chatcmpl-BtC6LUdqujOfeq3wBBtgVl2q5n8ri', 'service_tier': 'default', 'finish_reason': 'tool_calls', 'logprobs': None}, id='run--9af09cae-253b-4ba1-a874-2d1a9395d32f-0', tool_calls=[{'name': 'arxiv', 'args': {'query': 'QLoRA'}, 'id': 'call_aKNJVbV2s4asVbewUznH6EOv', 'type': 'tool_call'}, {'name': 'tavily_search_results_json', 'args': {'query': 'latest Tweet of the author of QLoRA'}, 'id': 'call_ezTV00rCpgaERmxRlGqwewmr', 'type': 'tool_call'}], usage_metadata={'input_tokens': 266, 'output_tokens': 58, 'total_tokens': 324, 'input_token_details': {'audio': 0, 'cache_read': 0}, 'output_token_details': {'audio': 0, 'reasoning': 0}})]\n",
            "\n",
            "\n",
            "\n",
            "Receiving update from node: 'action'\n",
            "Tool Used: arxiv\n",
            "[ToolMessage(content='Published: 2023-05-23\\nTitle: QLoRA: Efficient Finetuning of Quantized LLMs\\nAuthors: Tim Dettmers, Artidoro Pagnoni, Ari Holtzman, Luke Zettlemoyer\\nSummary: We present QLoRA, an efficient finetuning approach that reduces memory usage\\nenough to finetune a 65B parameter model on a single 48GB GPU while preserving\\nfull 16-bit finetuning task performance. QLoRA backpropagates gradients through\\na frozen, 4-bit quantized pretrained language model into Low Rank\\nAdapters~(LoRA). Our best model family, which we name Guanaco, outperforms all\\nprevious openly released models on the Vicuna benchmark, reaching 99.3% of the\\nperformance level of ChatGPT while only requiring 24 hours of finetuning on a\\nsingle GPU. QLoRA introduces a number of innovations to save memory without\\nsacrificing performance: (a) 4-bit NormalFloat (NF4), a new data type that is\\ninformation theoretically optimal for normally distributed weights (b) double\\nquantization to reduce the average memory footprint by quantizing the\\nquantization constants, and (c) paged optimziers to manage memory spikes. We\\nuse QLoRA to finetune more than 1,000 models, providing a detailed analysis of\\ninstruction following and chatbot performance across 8 instruction datasets,\\nmultiple model types (LLaMA, T5), and model scales that would be infeasible to\\nrun with regular finetuning (e.g. 33B and 65B parameter models). Our results\\nshow that QLoRA finetuning on a small high-quality dataset leads to\\nstate-of-the-art results, even when using smaller models than the previous\\nSoTA. We provide a detailed analysis of chatbot performance based on both human\\nand GPT-4 evaluations showing that GPT-4 evaluations are a cheap and reasonable\\nalternative to human evaluation. Furthermore, we find that current chatbot\\nbenchmarks are not trustworthy to accurately evaluate the performance levels of\\nchatbots. A lemon-picked analysis demonstrates where Guanaco fails compared to\\nChatGPT. We release all of our models and code, including CUDA kernels for\\n4-bit training.\\n\\nPublished: 2024-05-27\\nTitle: Accurate LoRA-Finetuning Quantization of LLMs via Information Retention\\nAuthors: Haotong Qin, Xudong Ma, Xingyu Zheng, Xiaoyang Li, Yang Zhang, Shouda Liu, Jie Luo, Xianglong Liu, Michele Magno\\nSummary: The LoRA-finetuning quantization of LLMs has been extensively studied to\\nobtain accurate yet compact LLMs for deployment on resource-constrained\\nhardware. However, existing methods cause the quantized LLM to severely degrade\\nand even fail to benefit from the finetuning of LoRA. This paper proposes a\\nnovel IR-QLoRA for pushing quantized LLMs with LoRA to be highly accurate\\nthrough information retention. The proposed IR-QLoRA mainly relies on two\\ntechnologies derived from the perspective of unified information: (1)\\nstatistics-based Information Calibration Quantization allows the quantized\\nparameters of LLM to retain original information accurately; (2)\\nfinetuning-based Information Elastic Connection makes LoRA utilizes elastic\\nrepresentation transformation with diverse information. Comprehensive\\nexperiments show that IR-QLoRA can significantly improve accuracy across LLaMA\\nand LLaMA2 families under 2-4 bit-widths, e.g., 4- bit LLaMA-7B achieves 1.4%\\nimprovement on MMLU compared with the state-of-the-art methods. The significant\\nperformance gain requires only a tiny 0.31% additional time consumption,\\nrevealing the satisfactory efficiency of our IR-QLoRA. We highlight that\\nIR-QLoRA enjoys excellent versatility, compatible with various frameworks\\n(e.g., NormalFloat and Integer quantization) and brings general accuracy gains.\\nThe code is available at https://github.com/htqin/ir-qlora.\\n\\nPublished: 2025-02-05\\nTitle: Resource-Efficient & Effective Code Summarization\\nAuthors: Saima Afrin, Joseph Call, Khai-Nguyen Nguyen, Oscar Chaparro, Antonio Mastropaolo\\nSummary: Code Language Models (CLMs) have demonstrated high effectiveness in\\nautomating software engineering tasks such as bug fixing, code generation, and\\ncode documentation. This ', name='arxiv', id='fcff1077-25a7-404b-9a10-3f2acb4b9bff', tool_call_id='call_aKNJVbV2s4asVbewUznH6EOv'), ToolMessage(content='[{\"title\": \"chansung on X: \\\\\"Thanks to @Tim_Dettmers and the authors of ...\", \"url\": \"https://twitter.com/algo_diver/status/1661984515173269504\", \"content\": \"Thanks to @Tim_Dettmers and the authors of QLoRA, I have added Guanaco(7B, 13B) in my Model Zoo project (aka LLM As Chatbot) without pain.\", \"score\": 0.57293844}, {\"title\": \"QLoRA: Fine-Tuning Large Language Models (LLM\\'s) - Medium\", \"url\": \"https://medium.com/@dillipprasad60/qlora-explained-a-deep-dive-into-parametric-efficient-fine-tuning-in-large-language-models-llms-c1a4794b1766\", \"content\": \"4. LoRA And QLoRA: An Efficient Approach to Fine-tuning Large Models Under the hood by Srikaran\\\\n\\\\n--\\\\n\\\\n--\\\\n\\\\n6\\\\n\\\\nDilli Prasad Amur\\\\nDilli Prasad Amur\\\\n\\\\n## Written by Dilli Prasad Amur\\\\n\\\\n## Responses (6)\\\\n\\\\nHelp\\\\n\\\\nStatus\\\\n\\\\nAbout\\\\n\\\\nCareers\\\\n\\\\nPress\\\\n\\\\nBlog\\\\n\\\\nPrivacy\\\\n\\\\nRules\\\\n\\\\nTerms\\\\n\\\\nText to speech [...] NVIDIA unified memory facilitates automatic page-to-page transfers between the CPU and GPU, similar to regular memory paging between CPU RAM and the disk. When the GPU runs out of memory, these optimizer states are moved to the CPU RAM and are transferred back into GPU memory when needed.\\\\n\\\\n## References and useful resources:\\\\n\\\\n1. QLoRA Paper\\\\n\\\\n2. QLoRA: Quantization for Fine Tuning\\\\n\\\\n3. Democratizing Foundation Models via k-bit Quantization by Tim Dettmers [...] Sign up\\\\n\\\\nSign in\\\\n\\\\nSign up\\\\n\\\\nSign in\\\\n\\\\n# QLoRA: Fine-Tuning Large Language Models (LLM’s)\\\\n\\\\nDilli Prasad Amur\\\\n\\\\n--\\\\n\\\\n6\\\\n\\\\nListen\\\\n\\\\nShare\", \"score\": 0.46818325}, {\"title\": \"#QLORA - Search / X\", \"url\": \"https://twitter.com/search?q=%23QLORA&src=hashtag_click&f=live\", \"content\": \"One method that really stood out for me is #QLoRA , it makes fine-tuning large models way more memory-efficient without a major drop in performance.\", \"score\": 0.26200938}, {\"title\": \"QLoRA: Fine-Tuning Large Models on My Desktop - LinkedIn\", \"url\": \"https://www.linkedin.com/pulse/qlora-fine-tuning-large-models-my-desktop-muhtasim-munif-fahim-snnfc\", \"content\": \"The math was simple and depressing: fine-tuning a 7B parameter model traditionally requires storing gradients for every single parameter. That\\'s\", \"score\": 0.21643391}, {\"title\": \"Jeremy Howard on X: \\\\\"Lots of interesting details on using fsdp with ...\", \"url\": \"https://twitter.com/jeremyphoward/status/1768343044510908616\", \"content\": \"We published our technical deep dive into FSDP+QLoRA, a technique which enables training 70B models on dual consumer GPUs.\", \"score\": 0.17490332}]', name='tavily_search_results_json', id='31eb1fbd-f3e2-488d-8e9d-51eb55faa8cc', tool_call_id='call_ezTV00rCpgaERmxRlGqwewmr', artifact={'query': 'latest Tweet of the author of QLoRA', 'follow_up_questions': None, 'answer': None, 'images': [], 'results': [{'url': 'https://twitter.com/algo_diver/status/1661984515173269504', 'title': 'chansung on X: \"Thanks to @Tim_Dettmers and the authors of ...', 'content': 'Thanks to @Tim_Dettmers and the authors of QLoRA, I have added Guanaco(7B, 13B) in my Model Zoo project (aka LLM As Chatbot) without pain.', 'score': 0.57293844, 'raw_content': None}, {'url': 'https://medium.com/@dillipprasad60/qlora-explained-a-deep-dive-into-parametric-efficient-fine-tuning-in-large-language-models-llms-c1a4794b1766', 'title': \"QLoRA: Fine-Tuning Large Language Models (LLM's) - Medium\", 'content': '4. LoRA And QLoRA: An Efficient Approach to Fine-tuning Large Models Under the hood by Srikaran\\n\\n--\\n\\n--\\n\\n6\\n\\nDilli Prasad Amur\\nDilli Prasad Amur\\n\\n## Written by Dilli Prasad Amur\\n\\n## Responses (6)\\n\\nHelp\\n\\nStatus\\n\\nAbout\\n\\nCareers\\n\\nPress\\n\\nBlog\\n\\nPrivacy\\n\\nRules\\n\\nTerms\\n\\nText to speech [...] NVIDIA unified memory facilitates automatic page-to-page transfers between the CPU and GPU, similar to regular memory paging between CPU RAM and the disk. When the GPU runs out of memory, these optimizer states are moved to the CPU RAM and are transferred back into GPU memory when needed.\\n\\n## References and useful resources:\\n\\n1. QLoRA Paper\\n\\n2. QLoRA: Quantization for Fine Tuning\\n\\n3. Democratizing Foundation Models via k-bit Quantization by Tim Dettmers [...] Sign up\\n\\nSign in\\n\\nSign up\\n\\nSign in\\n\\n# QLoRA: Fine-Tuning Large Language Models (LLM’s)\\n\\nDilli Prasad Amur\\n\\n--\\n\\n6\\n\\nListen\\n\\nShare', 'score': 0.46818325, 'raw_content': None}, {'url': 'https://twitter.com/search?q=%23QLORA&src=hashtag_click&f=live', 'title': '#QLORA - Search / X', 'content': 'One method that really stood out for me is #QLoRA , it makes fine-tuning large models way more memory-efficient without a major drop in performance.', 'score': 0.26200938, 'raw_content': None}, {'url': 'https://www.linkedin.com/pulse/qlora-fine-tuning-large-models-my-desktop-muhtasim-munif-fahim-snnfc', 'title': 'QLoRA: Fine-Tuning Large Models on My Desktop - LinkedIn', 'content': \"The math was simple and depressing: fine-tuning a 7B parameter model traditionally requires storing gradients for every single parameter. That's\", 'score': 0.21643391, 'raw_content': None}, {'url': 'https://twitter.com/jeremyphoward/status/1768343044510908616', 'title': 'Jeremy Howard on X: \"Lots of interesting details on using fsdp with ...', 'content': 'We published our technical deep dive into FSDP+QLoRA, a technique which enables training 70B models on dual consumer GPUs.', 'score': 0.17490332, 'raw_content': None}], 'response_time': 4.27})]\n",
            "\n",
            "\n",
            "\n",
            "Receiving update from node: 'agent'\n",
            "[AIMessage(content='I found the QLoRA paper on Arxiv, titled \"QLoRA: Efficient Finetuning of Quantized LLMs,\" authored by Tim Dettmers, Artidoro Pagnoni, Ari Holtzman, and Luke Zettlemoyer, published on May 23, 2023. Additionally, I found recent Tweets related to the authors and the QLoRA technique. For example, a Tweet by chansung mentions adding Guanaco models to their Model Zoo, thanks to the work of Tim Dettmers and the QLoRA authors. Other Tweets discuss the efficiency and application of QLoRA in fine-tuning large models. Would you like to see more details or specific Tweets from each author?', additional_kwargs={'refusal': None}, response_metadata={'token_usage': {'completion_tokens': 148, 'prompt_tokens': 2016, 'total_tokens': 2164, 'completion_tokens_details': {'accepted_prediction_tokens': 0, 'audio_tokens': 0, 'reasoning_tokens': 0, 'rejected_prediction_tokens': 0}, 'prompt_tokens_details': {'audio_tokens': 0, 'cached_tokens': 0}}, 'model_name': 'gpt-4.1-nano-2025-04-14', 'system_fingerprint': None, 'id': 'chatcmpl-BtC6RaQG5wCSNQaKPEyEqAihPvpxM', 'service_tier': 'default', 'finish_reason': 'stop', 'logprobs': None}, id='run--17f78bca-5fed-4b30-a459-3a0f4d10e6e7-0', usage_metadata={'input_tokens': 2016, 'output_tokens': 148, 'total_tokens': 2164, 'input_token_details': {'audio': 0, 'cache_read': 0}, 'output_token_details': {'audio': 0, 'reasoning': 0}})]\n",
            "\n",
            "\n",
            "\n"
          ]
        }
      ],
      "source": [
        "inputs = {\"messages\" : [HumanMessage(content=\"Search Arxiv for the QLoRA paper, then search each of the authors to find out their latest Tweet using Tavily!\")]}\n",
        "\n",
        "async for chunk in simple_agent_graph.astream(inputs, stream_mode=\"updates\"):\n",
        "    for node, values in chunk.items():\n",
        "        print(f\"Receiving update from node: '{node}'\")\n",
        "        if node == \"action\":\n",
        "          print(f\"Tool Used: {values['messages'][0].name}\")\n",
        "        print(values[\"messages\"])\n",
        "\n",
        "        print(\"\\n\\n\")"
      ]
    },
    {
      "cell_type": "code",
      "execution_count": 59,
      "metadata": {},
      "outputs": [
        {
          "name": "stdout",
          "output_type": "stream",
          "text": [
            "Math tool - from node: agent\n",
            "[AIMessage(content='', additional_kwargs={'tool_calls': [{'id': 'call_P2aSibYe3tmY9v9af1MUrV2Z', 'function': {'arguments': '{\"expr\":\"(5 + 3) * 2\"}', 'name': 'evaluate_expression'}, 'type': 'function'}], 'refusal': None}, response_metadata={'token_usage': {'completion_tokens': 22, 'prompt_tokens': 252, 'total_tokens': 274, 'completion_tokens_details': {'accepted_prediction_tokens': 0, 'audio_tokens': 0, 'reasoning_tokens': 0, 'rejected_prediction_tokens': 0}, 'prompt_tokens_details': {'audio_tokens': 0, 'cached_tokens': 0}}, 'model_name': 'gpt-4.1-nano-2025-04-14', 'system_fingerprint': None, 'id': 'chatcmpl-BtC6W0a4cxI7WhirI4XBW2ZZEr4aN', 'service_tier': 'default', 'finish_reason': 'tool_calls', 'logprobs': None}, id='run--ddd8d3be-40df-4c10-8fdf-2315cc6c68da-0', tool_calls=[{'name': 'evaluate_expression', 'args': {'expr': '(5 + 3) * 2'}, 'id': 'call_P2aSibYe3tmY9v9af1MUrV2Z', 'type': 'tool_call'}], usage_metadata={'input_tokens': 252, 'output_tokens': 22, 'total_tokens': 274, 'input_token_details': {'audio': 0, 'cache_read': 0}, 'output_token_details': {'audio': 0, 'reasoning': 0}})]\n",
            "\n",
            "\n",
            "Math tool - from node: action\n",
            "[ToolMessage(content='16', name='evaluate_expression', id='9a7991b4-ab6f-45c2-bf88-e7cad575dbcb', tool_call_id='call_P2aSibYe3tmY9v9af1MUrV2Z')]\n",
            "\n",
            "\n",
            "Math tool - from node: agent\n",
            "[AIMessage(content='The result of (5 + 3) * 2 is 16.', additional_kwargs={'refusal': None}, response_metadata={'token_usage': {'completion_tokens': 17, 'prompt_tokens': 283, 'total_tokens': 300, 'completion_tokens_details': {'accepted_prediction_tokens': 0, 'audio_tokens': 0, 'reasoning_tokens': 0, 'rejected_prediction_tokens': 0}, 'prompt_tokens_details': {'audio_tokens': 0, 'cached_tokens': 0}}, 'model_name': 'gpt-4.1-nano-2025-04-14', 'system_fingerprint': None, 'id': 'chatcmpl-BtC6WB2feFm13aHGlaEgDw86gQtPI', 'service_tier': 'default', 'finish_reason': 'stop', 'logprobs': None}, id='run--1a18a3e6-b71e-4525-a6ed-f511dac49d06-0', usage_metadata={'input_tokens': 283, 'output_tokens': 17, 'total_tokens': 300, 'input_token_details': {'audio': 0, 'cache_read': 0}, 'output_token_details': {'audio': 0, 'reasoning': 0}})]\n",
            "\n",
            "\n",
            "Wiki tool - from node: agent\n",
            "[AIMessage(content='', additional_kwargs={'tool_calls': [{'id': 'call_b2W2s6U4zHGfSV5sZ4OfFZds', 'function': {'arguments': '{\"query\":\"LangChain\"}', 'name': 'wikipedia'}, 'type': 'function'}], 'refusal': None}, response_metadata={'token_usage': {'completion_tokens': 14, 'prompt_tokens': 250, 'total_tokens': 264, 'completion_tokens_details': {'accepted_prediction_tokens': 0, 'audio_tokens': 0, 'reasoning_tokens': 0, 'rejected_prediction_tokens': 0}, 'prompt_tokens_details': {'audio_tokens': 0, 'cached_tokens': 0}}, 'model_name': 'gpt-4.1-nano-2025-04-14', 'system_fingerprint': None, 'id': 'chatcmpl-BtC6XIqQ4yu5wmsVMmS9wYRB3pmma', 'service_tier': 'default', 'finish_reason': 'tool_calls', 'logprobs': None}, id='run--d89dc102-e9ef-449d-8d10-09e7a5235412-0', tool_calls=[{'name': 'wikipedia', 'args': {'query': 'LangChain'}, 'id': 'call_b2W2s6U4zHGfSV5sZ4OfFZds', 'type': 'tool_call'}], usage_metadata={'input_tokens': 250, 'output_tokens': 14, 'total_tokens': 264, 'input_token_details': {'audio': 0, 'cache_read': 0}, 'output_token_details': {'audio': 0, 'reasoning': 0}})]\n",
            "\n",
            "\n",
            "Wiki tool - from node: action\n",
            "[ToolMessage(content='Page: LangChain\\nSummary: LangChain is a software framework that helps facilitate the integration of large language models (LLMs) into applications. As a language model integration framework, LangChain\\'s use-cases largely overlap with those of language models in general, including document analysis and summarization, chatbots, and code analysis.\\n\\n\\n\\nPage: Model Context Protocol\\nSummary: The Model Context Protocol (MCP) is an open standard, open-source framework introduced by Anthropic in November 2024 to standardize the way artificial intelligence (AI) systems like large language models (LLMs) integrate and share data with external tools, systems, and data sources. MCP provides a universal interface for reading files, executing functions, and handling contextual prompts. Following its announcement, the protocol was adopted by major AI providers, including OpenAI and Google DeepMind.\\n\\nPage: Intelligent agent\\nSummary: In artificial intelligence, an intelligent agent is an entity that perceives its environment, takes actions autonomously to achieve goals, and may improve its performance through machine learning or by acquiring knowledge. AI textbooks define artificial intelligence as the \"study and design of intelligent agents,\" emphasizing that goal-directed behavior is central to intelligence.\\nA specialized subset of intelligent agents, agentic AI (also known as an AI agent or simply agent), expands this concept by proactively pursuing goals, making decisions, and taking actions over extended periods.\\nIntelligent agents can range from simple to highly complex. A basic thermostat or control system is considered an intelligent agent, as is a human being, or any other system that meets the same criteria—such as a firm, a state, or a biome.\\nIntelligent agents operate based on an objective function, which encapsulates their goals. They are designed to create and execute plans that maximize the expected value of this function upon completion. For example, a reinforcement learning agent has a reward function, which allows programmers to shape its desired behavior. Similarly, an evolutionary algorithm\\'s behavior is guided by a fitness function.\\nIntelligent agents in artificial intelligence are closely related to agents in economics, and versions of the intelligent agent paradigm are studied in cognitive science, ethics, and the philosophy of practical reason, as well as in many interdisciplinary socio-cognitive modeling and computer social simulations.\\nIntelligent agents are often described schematically as abstract functional systems similar to computer programs. To distinguish theoretical models from real-world implementations, abstract descriptions of intelligent agents are called abstract intelligent agents. Intelligent agents are also closely related to software agents—autonomous computer programs that carry out tasks on behalf of users. They are also referred to using a term borrowed from economics: a \"rational agent\".', name='wikipedia', id='6834985d-2560-407f-8f73-d5fe1eb746b4', tool_call_id='call_b2W2s6U4zHGfSV5sZ4OfFZds')]\n",
            "\n",
            "\n",
            "Wiki tool - from node: agent\n",
            "[AIMessage(content='LangChain is a software framework designed to facilitate the integration of large language models (LLMs) into various applications. Its primary use cases include document analysis and summarization, chatbots, and code analysis.', additional_kwargs={'refusal': None}, response_metadata={'token_usage': {'completion_tokens': 42, 'prompt_tokens': 800, 'total_tokens': 842, 'completion_tokens_details': {'accepted_prediction_tokens': 0, 'audio_tokens': 0, 'reasoning_tokens': 0, 'rejected_prediction_tokens': 0}, 'prompt_tokens_details': {'audio_tokens': 0, 'cached_tokens': 0}}, 'model_name': 'gpt-4.1-nano-2025-04-14', 'system_fingerprint': None, 'id': 'chatcmpl-BtC6lNMfnlr9lMcM3veAmQI4pvzf7', 'service_tier': 'default', 'finish_reason': 'stop', 'logprobs': None}, id='run--63567bd6-84ed-4976-b382-763dd4469bda-0', usage_metadata={'input_tokens': 800, 'output_tokens': 42, 'total_tokens': 842, 'input_token_details': {'audio': 0, 'cache_read': 0}, 'output_token_details': {'audio': 0, 'reasoning': 0}})]\n",
            "\n",
            "\n"
          ]
        }
      ],
      "source": [
        "# 🔢 Test: Math tool\n",
        "math_test = {\"messages\": [HumanMessage(content=\"What is (5 + 3) * 2?\")]}\n",
        "\n",
        "async for chunk in simple_agent_graph.astream(math_test, stream_mode=\"updates\"):\n",
        "    for node, values in chunk.items():\n",
        "        print(f\"Math tool - from node: {node}\")\n",
        "        print(values[\"messages\"])\n",
        "        print(\"\\n\")\n",
        "\n",
        "# 📚 Test: Wikipedia tool\n",
        "wiki_test = {\"messages\": [HumanMessage(content=\"Give a short summary about LangChain from Wikipedia.\")]}\n",
        "\n",
        "async for chunk in simple_agent_graph.astream(wiki_test, stream_mode=\"updates\"):\n",
        "    for node, values in chunk.items():\n",
        "        print(f\"Wiki tool - from node: {node}\")\n",
        "        print(values[\"messages\"])\n",
        "        print(\"\\n\")\n"
      ]
    },
    {
      "cell_type": "markdown",
      "metadata": {
        "id": "CXzDlZVz1Hnf"
      },
      "source": [
        "#### 🏗️ Activity #2:\n",
        "\n",
        "Please write out the steps the agent took to arrive at the correct answer.\n",
        "\n",
        "Answer:\n",
        "\n",
        "Based on the test output, here are the steps the agent took to arrive at the correct answer for \"What is (5 + 3) * 2?\":\n",
        "\n",
        "1. **Initial Processing (Agent Node)**: The agent received the user's math question and determined it needed to use a tool to calculate the result. It generated a tool call for the `evaluate_expression` function with the argument `\"(5 + 3) * 2\"`.\n",
        "\n",
        "2. **Tool Execution (Action Node)**: The system executed the `evaluate_expression` tool, which evaluated the mathematical expression and returned the result `16`.\n",
        "\n",
        "3. **Final Response (Agent Node)**: The agent received the tool result and formulated a natural language response: \"The result of (5 + 3) * 2 is 16.\"\n",
        "\n",
        "4. **Completion**: Since there were no more tool calls needed and the response was complete, the conditional edge directed the flow to END, finishing the conversation.\n",
        "\n",
        "**Summary of the flow**: User Input → Agent (tool call) → Action (execute math tool) → Agent (final response) → END\n"
      ]
    },
    {
      "cell_type": "markdown",
      "metadata": {},
      "source": [
        "# 🤝 Breakout Room #2"
      ]
    },
    {
      "cell_type": "markdown",
      "metadata": {
        "id": "v7c8-Uyarh1v"
      },
      "source": [
        "## Part 1: LangSmith Evaluator"
      ]
    },
    {
      "cell_type": "markdown",
      "metadata": {
        "id": "pV3XeFOT1Sar"
      },
      "source": [
        "### Pre-processing for LangSmith"
      ]
    },
    {
      "cell_type": "markdown",
      "metadata": {
        "id": "wruQCuzewUuO"
      },
      "source": [
        "To do a little bit more preprocessing, let's wrap our LangGraph agent in a simple chain."
      ]
    },
    {
      "cell_type": "code",
      "execution_count": 60,
      "metadata": {
        "id": "oeXdQgbxwhTv"
      },
      "outputs": [],
      "source": [
        "def convert_inputs(input_object):\n",
        "  return {\"messages\" : [HumanMessage(content=input_object[\"question\"])]}\n",
        "\n",
        "def parse_output(input_state):\n",
        "  return input_state[\"messages\"][-1].content\n",
        "\n",
        "agent_chain_with_formatting = convert_inputs | simple_agent_graph | parse_output"
      ]
    },
    {
      "cell_type": "code",
      "execution_count": 63,
      "metadata": {
        "colab": {
          "base_uri": "https://localhost:8080/",
          "height": 105
        },
        "id": "orYxBZXSxJjZ",
        "outputId": "76be837b-6424-4516-8f63-07fbd8c25bf5"
      },
      "outputs": [
        {
          "name": "stderr",
          "output_type": "stream",
          "text": [
            "/Users/mayankshah/Documents/ai-makerspace/aie7-bootcamp/AIE7_local/05_Our_First_Agent_with_LangGraph/.venv/lib/python3.13/site-packages/wikipedia/wikipedia.py:389: GuessedAtParserWarning: No parser was explicitly specified, so I'm using the best available HTML parser for this system (\"html.parser\"). This usually isn't a problem, but if you run this code on another system, or in a different virtual environment, it may use a different parser and behave differently.\n",
            "\n",
            "The code that caused this warning is on line 389 of the file /Users/mayankshah/Documents/ai-makerspace/aie7-bootcamp/AIE7_local/05_Our_First_Agent_with_LangGraph/.venv/lib/python3.13/site-packages/wikipedia/wikipedia.py. To get rid of this warning, pass the additional argument 'features=\"html.parser\"' to the BeautifulSoup constructor.\n",
            "\n",
            "  lis = BeautifulSoup(html).find_all('li')\n"
          ]
        },
        {
          "data": {
            "text/plain": [
              "'The result of (5 + 3) * 2 is 16.'"
            ]
          },
          "execution_count": 84,
          "metadata": {},
          "output_type": "execute_result"
        }
      ],
      "source": [
        "agent_chain_with_formatting.invoke({\"question\" : \"What is RAG?\"})\n",
        "agent_chain_with_formatting.invoke({\n",
        "    \"question\": \"Summarize the Wikipedia entry for OpenAI.\"\n",
        "})\n",
        "agent_chain_with_formatting.invoke({\n",
        "    \"question\": \"What is (5 + 3) * 2?\"\n",
        "})\n"
      ]
    },
    {
      "cell_type": "markdown",
      "metadata": {
        "id": "f9UkCIqkpyZu"
      },
      "source": [
        "### Task 1: Creating An Evaluation Dataset\n",
        "\n",
        "Just as we saw last week, we'll want to create a dataset to test our Agent's ability to answer questions.\n",
        "\n",
        "In order to do this - we'll want to provide some questions and some answers. Let's look at how we can create such a dataset below.\n",
        "\n",
        "```python\n",
        "questions = [\n",
        "    \"What optimizer is used in QLoRA?\",\n",
        "    \"What data type was created in the QLoRA paper?\",\n",
        "    \"What is a Retrieval Augmented Generation system?\",\n",
        "    \"Who authored the QLoRA paper?\",\n",
        "    \"What is the most popular deep learning framework?\",\n",
        "    \"What significant improvements does the LoRA system make?\",\n",
        "    \"What is the result of 3 * (7 + 1)?\",\n",
        "    \"Summarize the Wikipedia entry for OpenAI.\"        \n",
        "]\n",
        "\n",
        "answers = [\n",
        "    {\"must_mention\" : [\"paged\", \"optimizer\"]},\n",
        "    {\"must_mention\" : [\"NF4\", \"NormalFloat\"]},\n",
        "    {\"must_mention\" : [\"ground\", \"context\"]},\n",
        "    {\"must_mention\" : [\"Tim\", \"Dettmers\"]},\n",
        "    {\"must_mention\" : [\"PyTorch\", \"TensorFlow\"]},\n",
        "    {\"must_mention\" : [\"reduce\", \"parameters\"]},\n",
        "    {\"must_mention\": [\"24\"]}, \n",
        "    {\"must_mention\": [\"OpenAI\", \"research\"]} \n",
        "]\n",
        "```"
      ]
    },
    {
      "cell_type": "markdown",
      "metadata": {
        "id": "VfMXF2KAsQxs"
      },
      "source": [
        "#### 🏗️ Activity #3:\n",
        "\n",
        "Please create a dataset in the above format with at least 5 questions."
      ]
    },
    {
      "cell_type": "code",
      "execution_count": 25,
      "metadata": {
        "id": "CbagRuJop83E"
      },
      "outputs": [],
      "source": [
        "questions = [\n",
        "    \"What optimizer is used in QLoRA?\",\n",
        "    \"What data type was created in the QLoRA paper?\",\n",
        "    \"What is a Retrieval Augmented Generation system?\",\n",
        "    \"Who authored the QLoRA paper?\",\n",
        "    \"What is the most popular deep learning framework?\",\n",
        "    \"What significant improvements does the LoRA system make?\",\n",
        "    \"What is the result of 3 * (7 + 1)?\",\n",
        "    \"Summarize the Wikipedia entry for OpenAI.\"  \n",
        "]\n",
        "\n",
        "answers = [\n",
        "    {\"must_mention\" : [\"paged\", \"optimizer\"]},\n",
        "    {\"must_mention\" : [\"NF4\", \"NormalFloat\"]},\n",
        "    {\"must_mention\" : [\"ground\", \"context\"]},\n",
        "    {\"must_mention\" : [\"Tim\", \"Dettmers\"]},\n",
        "    {\"must_mention\" : [\"PyTorch\", \"TensorFlow\"]},\n",
        "    {\"must_mention\" : [\"reduce\", \"parameters\"]},\n",
        "    {\"must_mention\": [\"24\"]}, \n",
        "    {\"must_mention\": [\"OpenAI\", \"research\"]} \n",
        "]"
      ]
    },
    {
      "cell_type": "code",
      "execution_count": 26,
      "metadata": {},
      "outputs": [
        {
          "name": "stdout",
          "output_type": "stream",
          "text": [
            "Receiving update from node: 'agent'\n",
            "[AIMessage(content='', additional_kwargs={'tool_calls': [{'id': 'call_vG8DVoAAYOWSTTQFHcl7VK7Z', 'function': {'arguments': '{\"query\":\"current captain of the Winnipeg Jets\"}', 'name': 'tavily_search_results_json'}, 'type': 'function'}], 'refusal': None}, response_metadata={'token_usage': {'completion_tokens': 23, 'prompt_tokens': 250, 'total_tokens': 273, 'completion_tokens_details': {'accepted_prediction_tokens': 0, 'audio_tokens': 0, 'reasoning_tokens': 0, 'rejected_prediction_tokens': 0}, 'prompt_tokens_details': {'audio_tokens': 0, 'cached_tokens': 0}}, 'model_name': 'gpt-4.1-nano-2025-04-14', 'system_fingerprint': None, 'id': 'chatcmpl-Bt3X3iW4j38IrpNBRtmXHE0rECMje', 'service_tier': 'default', 'finish_reason': 'tool_calls', 'logprobs': None}, id='run--c8bae562-68e1-4c40-ba50-bb30bdc6f829-0', tool_calls=[{'name': 'tavily_search_results_json', 'args': {'query': 'current captain of the Winnipeg Jets'}, 'id': 'call_vG8DVoAAYOWSTTQFHcl7VK7Z', 'type': 'tool_call'}], usage_metadata={'input_tokens': 250, 'output_tokens': 23, 'total_tokens': 273, 'input_token_details': {'audio': 0, 'cache_read': 0}, 'output_token_details': {'audio': 0, 'reasoning': 0}})]\n",
            "\n",
            "\n",
            "\n",
            "Receiving update from node: 'action'\n",
            "[ToolMessage(content='[{\"title\": \"Winnipeg Jets - Wikipedia\", \"url\": \"https://en.wikipedia.org/wiki/Winnipeg_Jets\", \"content\": \"|  v  t  e  Winnipeg Jets | |\\\\n| --- | --- |\\\\n|  Formerly the Atlanta Thrashers  Founded in 1999  Based in Winnipeg, Manitoba | |\\\\n| Franchise |  Team  General managers  Coaches  Players  Captains  Draft picks   + expansion draft  Seasons  Current season |\\\\n| History |  Records  Award winners  Broadcasters |\\\\n| Personnel | Owner(s)  True North Sports & Entertainment (Mark Chipman, chairman)  General manager  Kevin Cheveldayoff  Head coach  Scott Arniel  Team captain  Adam Lowry  Current roster | [...] the draft lottery, which they used to select Finnish prospect Patrik Laine. Later that summer, the team appointed Blake Wheeler as their new captain. [...] In the 2021–22 season, the Jets finished a disappointing sixth in the Central Division, missing the playoffs. At the start of the 2022–23 season, forward Blake Wheeler was stripped of the team captaincy. The Jets then clinched the 2023 playoffs at the end of the regular season, but were defeated by the eventual Stanley Cup champion Vegas Golden Knights in five games in the first round. Before the start of the 2023–24 season, forward Adam Lowry was appointed team captain. The Jets then clinched\", \"score\": 0.885404}, {\"title\": \"Adam Lowry - Wikipedia\", \"url\": \"https://en.wikipedia.org/wiki/Adam_Lowry\", \"content\": \"| Awards and achievements | | |\\\\n| --- | --- | --- |\\\\n| Preceded by Stefan Elliott | Winner of the Daryl K. (Doc) Seaman Trophy_Seaman_Trophy \\\\\"Daryl K. (Doc) Seaman Trophy\\\\\")  2010 | Succeeded by Colin Smith \\\\\"Colin Smith (ice hockey)\\\\\") |\\\\n| Sporting positions | | |\\\\n| Preceded by Blake Wheeler | Winnipeg Jets captain  2023–present | Incumbent | [...] Adam Lowry (born March 29, 1993) is an American-born Canadian professional ice hockey centre \\\\\"Center (ice hockey)\\\\\") and  captain \\\\\"Captain (ice hockey)\\\\\") of the Winnipeg Jets of the National Hockey League (NHL).\\\\n\\\\n## Early life [...] Entering the 2023–24 season, Lowry was named captain of the Jets on September 12, 2023. He became the third in the team\\'s history since relocating to Winnipeg, and the tenth overall in franchise history.\\\\n\\\\nOn May 4, 2025, Lowry scored at 16:10 in double overtime to win 4-3 against the St. Louis Blues in Game 7 of the Jets-Blues first round playoff series.\\\\n\\\\n## Personal life\", \"score\": 0.8482825}, {\"title\": \"Adam Lowry named Jets captain | Winnipeg Jets - NHL.com\", \"url\": \"https://www.nhl.com/jets/news/adam-lowry-named-jets-captain\", \"content\": \"That honour was given to Winnipeg Jet forward Adam Lowry officially Tuesday morning as he becomes the third captain in franchise history since the team moved here from Atlanta. He follows Andrew Ladd and Blake Wheeler who served as captain for five and six years respectively.\\\\n\\\\nâ\\x80\\x9cWhen I found out, I was pretty excited, almost a little speechless. Itâ\\x80\\x99s something growing up you kind of can dream about and something that seems almost unattainable,â\\x80\\x9d said Lowry. [...] â\\x80\\x9cHeâ\\x80\\x99s a true professional, he has total respect from every player on the team, every player around the league and certainly from the coaching staff as well. We just feel at this point itâ\\x80\\x99s the right time to name Adam as our captain.â\\x80\\x9d [...] â\\x80\\x9cGetting to be a captain of a Canadian NHL team is pretty special and something Iâ\\x80\\x99m really looking forward too.â\\x80\\x9d\", \"score\": 0.8449346}, {\"title\": \"Progress report on Winnipeg Jets captain Adam Lowry who is ...\", \"url\": \"https://illegalcurve.com/progress-report-on-winnipeg-jets-captain-adam-lowry-who-is-almost-off-the-crutches/\", \"content\": \"Illegal Curve Hockey\\\\nIllegal Curve Hockey\\\\n\\\\n## Illegal Curve Hockey\\\\n\\\\n### Winnipeg Jets\\\\n\\\\n# Progress report on Winnipeg Jets captain Adam Lowry who is “almost off the crutches”\\\\n\\\\nLatest update from Jets GM Kevin Cheveldayoff on his captain.\\\\n\\\\nby [...] The Jets are getting ready for the 2025 NHL Draft this weekend which meant it was an opportunity to hear from Winnipeg GM Kevin Cheveldayoff who spoke for about 25 minutes this morning on a wide variety of topics including the health of team captain Adam Lowry. We learned late last month that Lowry had undergone successful hip surgery which would require 5-6 months of rehab and which was expected to cost him the first bit of the 2025-26 season.\\\\n\\\\nPhoto Credit: Colby Spence (Illegal Curve) [...] Copyright © 2025 Illegal Curve. Website designed by More Hot Leads\", \"score\": 0.8014549}, {\"title\": \"Team Captains of Winnipeg Jets - Elite Prospects\", \"url\": \"https://www.eliteprospects.com/team/9966/winnipeg-jets/captaincy-history\", \"content\": \"| Season | League | “C” Captain(s) | “A” Alternate Captain(s) |\\\\n| --- | --- | --- | --- |\\\\n| 2025-2026  2025-26 | NHL | Adam Lowry |  |\\\\n| 2024-2025  2024-25 | NHL | Adam Lowry | Josh Morrissey  Neal Pionk  Mark Scheifele |\\\\n| 2023-2024  2023-24 | NHL | Adam Lowry | Josh Morrissey  Mark Scheifele |\\\\n| 2022-2023  2022-23 | NHL |  | Adam Lowry  Josh Morrissey  Mark Scheifele |\\\\n| 2021-2022  2021-22 | NHL | Blake Wheeler | Josh Morrissey  Mark Scheifele | [...] | 2020-2021  2020-21 | NHL | Blake Wheeler | Josh Morrissey  Mark Scheifele |\\\\n| 2019-2020  2019-20 | NHL | Blake Wheeler | Mark Scheifele  Bryan Little  Josh Morrissey |\\\\n| 2018-2019  2018-19 | NHL | Blake Wheeler | Mark Scheifele  Bryan Little  Dustin Byfuglien |\\\\n| 2017-2018  2017-18 | NHL | Blake Wheeler | Dustin Byfuglien  Bryan Little  Mark Scheifele |\\\\n| 2016-2017  2016-17 | NHL | Blake Wheeler | Dustin Byfuglien  Mark Scheifele | [...] | 2015-2016  2015-16 | NHL | Andrew Ladd | Mark Stuart  Blake Wheeler |\\\\n| 2014-2015  2014-15 | NHL | Andrew Ladd | Mark Stuart  Blake Wheeler |\\\\n| 2013-2014  2013-14 | NHL | Andrew Ladd | Dustin Byfuglien  Olli Jokinen  Mark Stuart |\\\\n| 2012-2013  2012-13 | NHL | Andrew Ladd | Dustin Byfuglien  Mark Stuart  Olli Jokinen |\\\\n| 2011-2012  2011-12 | NHL | Andrew Ladd | Dustin Byfuglien  Tobias Enström |\", \"score\": 0.7663815}]', name='tavily_search_results_json', id='5e9790a9-8690-4ca7-b8f0-bdd96dd9850c', tool_call_id='call_vG8DVoAAYOWSTTQFHcl7VK7Z', artifact={'query': 'current captain of the Winnipeg Jets', 'follow_up_questions': None, 'answer': None, 'images': [], 'results': [{'url': 'https://en.wikipedia.org/wiki/Winnipeg_Jets', 'title': 'Winnipeg Jets - Wikipedia', 'content': '|  v  t  e  Winnipeg Jets | |\\n| --- | --- |\\n|  Formerly the Atlanta Thrashers  Founded in 1999  Based in Winnipeg, Manitoba | |\\n| Franchise |  Team  General managers  Coaches  Players  Captains  Draft picks   + expansion draft  Seasons  Current season |\\n| History |  Records  Award winners  Broadcasters |\\n| Personnel | Owner(s)  True North Sports & Entertainment (Mark Chipman, chairman)  General manager  Kevin Cheveldayoff  Head coach  Scott Arniel  Team captain  Adam Lowry  Current roster | [...] the draft lottery, which they used to select Finnish prospect Patrik Laine. Later that summer, the team appointed Blake Wheeler as their new captain. [...] In the 2021–22 season, the Jets finished a disappointing sixth in the Central Division, missing the playoffs. At the start of the 2022–23 season, forward Blake Wheeler was stripped of the team captaincy. The Jets then clinched the 2023 playoffs at the end of the regular season, but were defeated by the eventual Stanley Cup champion Vegas Golden Knights in five games in the first round. Before the start of the 2023–24 season, forward Adam Lowry was appointed team captain. The Jets then clinched', 'score': 0.885404, 'raw_content': None}, {'url': 'https://en.wikipedia.org/wiki/Adam_Lowry', 'title': 'Adam Lowry - Wikipedia', 'content': '| Awards and achievements | | |\\n| --- | --- | --- |\\n| Preceded by Stefan Elliott | Winner of the Daryl K. (Doc) Seaman Trophy_Seaman_Trophy \"Daryl K. (Doc) Seaman Trophy\")  2010 | Succeeded by Colin Smith \"Colin Smith (ice hockey)\") |\\n| Sporting positions | | |\\n| Preceded by Blake Wheeler | Winnipeg Jets captain  2023–present | Incumbent | [...] Adam Lowry (born March 29, 1993) is an American-born Canadian professional ice hockey centre \"Center (ice hockey)\") and  captain \"Captain (ice hockey)\") of the Winnipeg Jets of the National Hockey League (NHL).\\n\\n## Early life [...] Entering the 2023–24 season, Lowry was named captain of the Jets on September 12, 2023. He became the third in the team\\'s history since relocating to Winnipeg, and the tenth overall in franchise history.\\n\\nOn May 4, 2025, Lowry scored at 16:10 in double overtime to win 4-3 against the St. Louis Blues in Game 7 of the Jets-Blues first round playoff series.\\n\\n## Personal life', 'score': 0.8482825, 'raw_content': None}, {'url': 'https://www.nhl.com/jets/news/adam-lowry-named-jets-captain', 'title': 'Adam Lowry named Jets captain | Winnipeg Jets - NHL.com', 'content': 'That honour was given to Winnipeg Jet forward Adam Lowry officially Tuesday morning as he becomes the third captain in franchise history since the team moved here from Atlanta. He follows Andrew Ladd and Blake Wheeler who served as captain for five and six years respectively.\\n\\nâ\\x80\\x9cWhen I found out, I was pretty excited, almost a little speechless. Itâ\\x80\\x99s something growing up you kind of can dream about and something that seems almost unattainable,â\\x80\\x9d said Lowry. [...] â\\x80\\x9cHeâ\\x80\\x99s a true professional, he has total respect from every player on the team, every player around the league and certainly from the coaching staff as well. We just feel at this point itâ\\x80\\x99s the right time to name Adam as our captain.â\\x80\\x9d [...] â\\x80\\x9cGetting to be a captain of a Canadian NHL team is pretty special and something Iâ\\x80\\x99m really looking forward too.â\\x80\\x9d', 'score': 0.8449346, 'raw_content': None}, {'url': 'https://illegalcurve.com/progress-report-on-winnipeg-jets-captain-adam-lowry-who-is-almost-off-the-crutches/', 'title': 'Progress report on Winnipeg Jets captain Adam Lowry who is ...', 'content': 'Illegal Curve Hockey\\nIllegal Curve Hockey\\n\\n## Illegal Curve Hockey\\n\\n### Winnipeg Jets\\n\\n# Progress report on Winnipeg Jets captain Adam Lowry who is “almost off the crutches”\\n\\nLatest update from Jets GM Kevin Cheveldayoff on his captain.\\n\\nby [...] The Jets are getting ready for the 2025 NHL Draft this weekend which meant it was an opportunity to hear from Winnipeg GM Kevin Cheveldayoff who spoke for about 25 minutes this morning on a wide variety of topics including the health of team captain Adam Lowry. We learned late last month that Lowry had undergone successful hip surgery which would require 5-6 months of rehab and which was expected to cost him the first bit of the 2025-26 season.\\n\\nPhoto Credit: Colby Spence (Illegal Curve) [...] Copyright © 2025 Illegal Curve. Website designed by More Hot Leads', 'score': 0.8014549, 'raw_content': None}, {'url': 'https://www.eliteprospects.com/team/9966/winnipeg-jets/captaincy-history', 'title': 'Team Captains of Winnipeg Jets - Elite Prospects', 'content': '| Season | League | “C” Captain(s) | “A” Alternate Captain(s) |\\n| --- | --- | --- | --- |\\n| 2025-2026  2025-26 | NHL | Adam Lowry |  |\\n| 2024-2025  2024-25 | NHL | Adam Lowry | Josh Morrissey  Neal Pionk  Mark Scheifele |\\n| 2023-2024  2023-24 | NHL | Adam Lowry | Josh Morrissey  Mark Scheifele |\\n| 2022-2023  2022-23 | NHL |  | Adam Lowry  Josh Morrissey  Mark Scheifele |\\n| 2021-2022  2021-22 | NHL | Blake Wheeler | Josh Morrissey  Mark Scheifele | [...] | 2020-2021  2020-21 | NHL | Blake Wheeler | Josh Morrissey  Mark Scheifele |\\n| 2019-2020  2019-20 | NHL | Blake Wheeler | Mark Scheifele  Bryan Little  Josh Morrissey |\\n| 2018-2019  2018-19 | NHL | Blake Wheeler | Mark Scheifele  Bryan Little  Dustin Byfuglien |\\n| 2017-2018  2017-18 | NHL | Blake Wheeler | Dustin Byfuglien  Bryan Little  Mark Scheifele |\\n| 2016-2017  2016-17 | NHL | Blake Wheeler | Dustin Byfuglien  Mark Scheifele | [...] | 2015-2016  2015-16 | NHL | Andrew Ladd | Mark Stuart  Blake Wheeler |\\n| 2014-2015  2014-15 | NHL | Andrew Ladd | Mark Stuart  Blake Wheeler |\\n| 2013-2014  2013-14 | NHL | Andrew Ladd | Dustin Byfuglien  Olli Jokinen  Mark Stuart |\\n| 2012-2013  2012-13 | NHL | Andrew Ladd | Dustin Byfuglien  Mark Stuart  Olli Jokinen |\\n| 2011-2012  2011-12 | NHL | Andrew Ladd | Dustin Byfuglien  Tobias Enström |', 'score': 0.7663815, 'raw_content': None}], 'response_time': 3.85})]\n",
            "\n",
            "\n",
            "\n",
            "Receiving update from node: 'agent'\n",
            "[AIMessage(content='The current captain of the Winnipeg Jets is Adam Lowry.', additional_kwargs={'refusal': None}, response_metadata={'token_usage': {'completion_tokens': 13, 'prompt_tokens': 1969, 'total_tokens': 1982, 'completion_tokens_details': {'accepted_prediction_tokens': 0, 'audio_tokens': 0, 'reasoning_tokens': 0, 'rejected_prediction_tokens': 0}, 'prompt_tokens_details': {'audio_tokens': 0, 'cached_tokens': 0}}, 'model_name': 'gpt-4.1-nano-2025-04-14', 'system_fingerprint': None, 'id': 'chatcmpl-Bt3X9uRlhY1PLiM1QeKlRkJFkFBZb', 'service_tier': 'default', 'finish_reason': 'stop', 'logprobs': None}, id='run--25e219dd-e7df-40cb-8659-f41c95af9168-0', usage_metadata={'input_tokens': 1969, 'output_tokens': 13, 'total_tokens': 1982, 'input_token_details': {'audio': 0, 'cache_read': 0}, 'output_token_details': {'audio': 0, 'reasoning': 0}})]\n",
            "\n",
            "\n",
            "\n"
          ]
        }
      ],
      "source": [
        "from langchain_core.messages import HumanMessage\n",
        "\n",
        "inputs = {\"messages\" : [HumanMessage(content=\"Who is the current captain of the Winnipeg Jets?\")]}\n",
        "\n",
        "async for chunk in simple_agent_graph.astream(inputs, stream_mode=\"updates\"):\n",
        "    for node, values in chunk.items():\n",
        "        print(f\"Receiving update from node: '{node}'\")\n",
        "        print(values[\"messages\"])\n",
        "        print(\"\\n\\n\")"
      ]
    },
    {
      "cell_type": "code",
      "execution_count": 27,
      "metadata": {},
      "outputs": [
        {
          "name": "stdout",
          "output_type": "stream",
          "text": [
            "Receiving update from node: 'agent'\n",
            "[AIMessage(content='', additional_kwargs={'tool_calls': [{'id': 'call_2xI0FHsfsNgkrKL9Gi2GZ20J', 'function': {'arguments': '{\"query\":\"current captain of the Winnipeg Jets\"}', 'name': 'tavily_search_results_json'}, 'type': 'function'}], 'refusal': None}, response_metadata={'token_usage': {'completion_tokens': 23, 'prompt_tokens': 250, 'total_tokens': 273, 'completion_tokens_details': {'accepted_prediction_tokens': 0, 'audio_tokens': 0, 'reasoning_tokens': 0, 'rejected_prediction_tokens': 0}, 'prompt_tokens_details': {'audio_tokens': 0, 'cached_tokens': 0}}, 'model_name': 'gpt-4.1-nano-2025-04-14', 'system_fingerprint': None, 'id': 'chatcmpl-Bt3XEAy9ssiE56aJibQRgxiDhbUpq', 'service_tier': 'default', 'finish_reason': 'tool_calls', 'logprobs': None}, id='run--5fb0e230-afeb-49f3-a068-e7a2118cd21c-0', tool_calls=[{'name': 'tavily_search_results_json', 'args': {'query': 'current captain of the Winnipeg Jets'}, 'id': 'call_2xI0FHsfsNgkrKL9Gi2GZ20J', 'type': 'tool_call'}], usage_metadata={'input_tokens': 250, 'output_tokens': 23, 'total_tokens': 273, 'input_token_details': {'audio': 0, 'cache_read': 0}, 'output_token_details': {'audio': 0, 'reasoning': 0}})]\n",
            "\n",
            "\n",
            "\n",
            "Receiving update from node: 'action'\n",
            "[ToolMessage(content='[{\"title\": \"Adam Lowry - Wikipedia\", \"url\": \"https://en.wikipedia.org/wiki/Adam_Lowry\", \"content\": \"Wikipedia\\\\n\\\\n# Adam Lowry\\\\n\\\\nAdam Lowry (born March 29, 1993) is an American-born Canadian professional ice hockey centre \\\\\"Center (ice hockey)\\\\\") and  captain \\\\\"Captain (ice hockey)\\\\\") of the Winnipeg Jets of the National Hockey League (NHL). [...] | Awards and achievements | | |\\\\n| --- | --- | --- |\\\\n| Preceded by Stefan Elliott | Winner of the Daryl K. (Doc) Seaman Trophy_Seaman_Trophy \\\\\"Daryl K. (Doc) Seaman Trophy\\\\\")  2010 | Succeeded by Colin Smith \\\\\"Colin Smith (ice hockey)\\\\\") |\\\\n| Sporting positions | | |\\\\n| Preceded by Blake Wheeler | Winnipeg Jets captain  2023–present | Incumbent |\\\\n\\\\n#### Languages\\\\n\\\\nWikipedia\\\\n\\\\n Wikimedia Foundation\\\\n Powered by MediaWiki\\\\n\\\\nWikimedia Foundation\\\\nPowered by MediaWiki [...] Entering the 2023–24 season, Lowry was named captain of the Jets on September 12, 2023. He became the third in the team\\'s history since relocating to Winnipeg, and the tenth overall in franchise history.\\\\n\\\\nOn May 4, 2025, Lowry scored at 16:10 in double overtime to win 4-3 against the St. Louis Blues in Game 7 of the Jets-Blues first round playoff series.\\\\n\\\\n## Personal life\", \"score\": 0.8479807}, {\"title\": \"Lowry named Jets captain, replaces Wheeler | NHL.com\", \"url\": \"https://www.nhl.com/news/adam-lowry-named-winnipeg-captain\", \"content\": \"NHL logo\\\\nNHL logo\\\\n\\\\n# Lowry named Jets captain, replaces Wheeler\\\\n\\\\n30-year-old forward entering 10th season with Winnipeg\\\\n\\\\nLowry_Jets\\\\n\\\\nAdam Lowry was named captain of the Winnipeg Jets on Tuesday.\\\\n\\\\nThe 30-year-old forward was selected by the Jets in the third round (No. 67) of the 2011 NHL Draft and has played his entire nine-season NHL career with Winnipeg. [...] Lowry replaces Blake Wheeler, who was removed as captain Sept. 16, 2022, and signed with the New York Rangers after having his contract bought out this offseason. The Jets opted for three alternate captains last season; Lowry, forward Mark Scheifele and defenseman Josh Morrissey. Coach Rick Bowness said Scheifele and Morrissey will remain alternate captains. [...] Lowry said he\\'s learned from the captains he\\'s played with in Winnipeg, Wheeler and Andrew Ladd, and believes the important thing is staying true to the player he\\'s always been.\", \"score\": 0.84027237}, {\"title\": \"Team Captains of Winnipeg Jets - Elite Prospects\", \"url\": \"https://www.eliteprospects.com/team/9966/winnipeg-jets/captaincy-history\", \"content\": \"| Season | League | “C” Captain(s) | “A” Alternate Captain(s) |\\\\n| --- | --- | --- | --- |\\\\n| 2025-2026  2025-26 | NHL | Adam Lowry |  |\\\\n| 2024-2025  2024-25 | NHL | Adam Lowry | Josh Morrissey  Neal Pionk  Mark Scheifele |\\\\n| 2023-2024  2023-24 | NHL | Adam Lowry | Josh Morrissey  Mark Scheifele |\\\\n| 2022-2023  2022-23 | NHL |  | Adam Lowry  Josh Morrissey  Mark Scheifele |\\\\n| 2021-2022  2021-22 | NHL | Blake Wheeler | Josh Morrissey  Mark Scheifele | [...] | 2020-2021  2020-21 | NHL | Blake Wheeler | Josh Morrissey  Mark Scheifele |\\\\n| 2019-2020  2019-20 | NHL | Blake Wheeler | Mark Scheifele  Bryan Little  Josh Morrissey |\\\\n| 2018-2019  2018-19 | NHL | Blake Wheeler | Mark Scheifele  Bryan Little  Dustin Byfuglien |\\\\n| 2017-2018  2017-18 | NHL | Blake Wheeler | Dustin Byfuglien  Bryan Little  Mark Scheifele |\\\\n| 2016-2017  2016-17 | NHL | Blake Wheeler | Dustin Byfuglien  Mark Scheifele | [...] | 2015-2016  2015-16 | NHL | Andrew Ladd | Mark Stuart  Blake Wheeler |\\\\n| 2014-2015  2014-15 | NHL | Andrew Ladd | Mark Stuart  Blake Wheeler |\\\\n| 2013-2014  2013-14 | NHL | Andrew Ladd | Dustin Byfuglien  Olli Jokinen  Mark Stuart |\\\\n| 2012-2013  2012-13 | NHL | Andrew Ladd | Dustin Byfuglien  Mark Stuart  Olli Jokinen |\\\\n| 2011-2012  2011-12 | NHL | Andrew Ladd | Dustin Byfuglien  Tobias Enström |\", \"score\": 0.7663815}, {\"title\": \"Jonathan Toews: Winnipeg Jets introduce ex-Chicago Blackhawk\", \"url\": \"https://www.chicagotribune.com/2025/07/04/jonathan-toews-winnipeg-jets-introduction/\", \"content\": \"The Jets announced their intention to acquire the 37-year-old center last month, but it only became official this week, with Toews signing a one-year deal worth $2 million, plus performance bonuses tied to games played and playoff success.\\\\n\\\\nThe longtime Chicago Blackhawks captain last played in April 2023. He told reporters Friday he was grateful for the opportunity to return to the ice, let alone with his hometown club in front of friends and family. [...] WINNIPEG, Manitoba — Jonathan Toews is back in the NHL with his hometown Winnipeg Jets after a two-year absence.\\\\n\\\\nThe three-time Stanley Cup champion was introduced Friday as the newest member of the Jets, donning a jersey with his signature No. 19 at a team news conference. [...] Toews is joining a Jets team that’s coming off a Presidents’ Trophy-winning season as the NHL’s top regular-season team. Earlier this week, Winnipeg lost a key offensive piece when winger Nikolaj Ehlers signed a six-year deal with the Carolina Hurricanes.\\\\n\\\\n### Share this:\\\\n\\\\n## RevContent Feed\\\\n\\\\n## Most Popular\\\\n\\\\n### Indicted on fraud charges, ex-Loretto Hospital exec wages bizarre PR campaign from Dubai\\\\n\\\\n### Daily Horoscope for July 13, 2025\\\\n\\\\n### Daily Horoscope for July 12, 2025\", \"score\": 0.5602773}, {\"title\": \"Toews grateful, excited to play again | News, Sports, Jobs - Daily Press\", \"url\": \"https://www.dailypress.net/sports/2025/07/toews-grateful-excited-to-play-again/\", \"content\": \"WINNIPEG, Manitoba (AP) — Jonathan Toews is back in the NHL with his hometown Winnipeg Jets after a two-year absence.\\\\n\\\\nThe three-time Stanley Cup champion was introduced Friday as the newest member of the Jets, donning a jersey with his signature No. 19 at a team news conference. [...] homepage logo\\\\n\\\\nhomepage logo\\\\n\\\\n# Toews grateful, excited to play again\\\\n\\\\n## \\\\n\\\\nJul 7, 2025\\\\n\\\\n#### \\\\n\\\\n##### \\\\n\\\\n###### \\\\n\\\\nWinnipeg Jets head coach Scott Arniel, left, and executive vice president and general manager Kevin Cheveldayoff, right, welcome Jonathan Toews, center, to the NHL hockey team at a news conference in Winnipeg, Manitoba, Friday, July 4, 2025. (John Woods/The Canadian Press via AP) [...] Toews is joining a Jets team that’s coming off a Presidents’ Trophy-winning season as the NHL’s top regular-season club. Earlier this week, Winnipeg lost a key offensive piece when winger Nikolaj Ehlers signed a six-year deal with the Carolina Hurricanes.\\\\n\\\\n### Newsletter\\\\n\\\\n# National Sports\\\\n\\\\n# Toews grateful, excited to play again\\\\n\\\\n# Merlier wins third stage of Tour de France\\\\n\\\\n# MLB All Star teams announced\\\\n\\\\n# Woodruff leads Brewers to win over Miami\", \"score\": 0.49729064}]', name='tavily_search_results_json', id='8bb0ce7d-7ede-4e19-813c-2c4f6d7b596e', tool_call_id='call_2xI0FHsfsNgkrKL9Gi2GZ20J', artifact={'query': 'current captain of the Winnipeg Jets', 'follow_up_questions': None, 'answer': None, 'images': [], 'results': [{'url': 'https://en.wikipedia.org/wiki/Adam_Lowry', 'title': 'Adam Lowry - Wikipedia', 'content': 'Wikipedia\\n\\n# Adam Lowry\\n\\nAdam Lowry (born March 29, 1993) is an American-born Canadian professional ice hockey centre \"Center (ice hockey)\") and  captain \"Captain (ice hockey)\") of the Winnipeg Jets of the National Hockey League (NHL). [...] | Awards and achievements | | |\\n| --- | --- | --- |\\n| Preceded by Stefan Elliott | Winner of the Daryl K. (Doc) Seaman Trophy_Seaman_Trophy \"Daryl K. (Doc) Seaman Trophy\")  2010 | Succeeded by Colin Smith \"Colin Smith (ice hockey)\") |\\n| Sporting positions | | |\\n| Preceded by Blake Wheeler | Winnipeg Jets captain  2023–present | Incumbent |\\n\\n#### Languages\\n\\nWikipedia\\n\\n Wikimedia Foundation\\n Powered by MediaWiki\\n\\nWikimedia Foundation\\nPowered by MediaWiki [...] Entering the 2023–24 season, Lowry was named captain of the Jets on September 12, 2023. He became the third in the team\\'s history since relocating to Winnipeg, and the tenth overall in franchise history.\\n\\nOn May 4, 2025, Lowry scored at 16:10 in double overtime to win 4-3 against the St. Louis Blues in Game 7 of the Jets-Blues first round playoff series.\\n\\n## Personal life', 'score': 0.8479807, 'raw_content': None}, {'url': 'https://www.nhl.com/news/adam-lowry-named-winnipeg-captain', 'title': 'Lowry named Jets captain, replaces Wheeler | NHL.com', 'content': \"NHL logo\\nNHL logo\\n\\n# Lowry named Jets captain, replaces Wheeler\\n\\n30-year-old forward entering 10th season with Winnipeg\\n\\nLowry_Jets\\n\\nAdam Lowry was named captain of the Winnipeg Jets on Tuesday.\\n\\nThe 30-year-old forward was selected by the Jets in the third round (No. 67) of the 2011 NHL Draft and has played his entire nine-season NHL career with Winnipeg. [...] Lowry replaces Blake Wheeler, who was removed as captain Sept. 16, 2022, and signed with the New York Rangers after having his contract bought out this offseason. The Jets opted for three alternate captains last season; Lowry, forward Mark Scheifele and defenseman Josh Morrissey. Coach Rick Bowness said Scheifele and Morrissey will remain alternate captains. [...] Lowry said he's learned from the captains he's played with in Winnipeg, Wheeler and Andrew Ladd, and believes the important thing is staying true to the player he's always been.\", 'score': 0.84027237, 'raw_content': None}, {'url': 'https://www.eliteprospects.com/team/9966/winnipeg-jets/captaincy-history', 'title': 'Team Captains of Winnipeg Jets - Elite Prospects', 'content': '| Season | League | “C” Captain(s) | “A” Alternate Captain(s) |\\n| --- | --- | --- | --- |\\n| 2025-2026  2025-26 | NHL | Adam Lowry |  |\\n| 2024-2025  2024-25 | NHL | Adam Lowry | Josh Morrissey  Neal Pionk  Mark Scheifele |\\n| 2023-2024  2023-24 | NHL | Adam Lowry | Josh Morrissey  Mark Scheifele |\\n| 2022-2023  2022-23 | NHL |  | Adam Lowry  Josh Morrissey  Mark Scheifele |\\n| 2021-2022  2021-22 | NHL | Blake Wheeler | Josh Morrissey  Mark Scheifele | [...] | 2020-2021  2020-21 | NHL | Blake Wheeler | Josh Morrissey  Mark Scheifele |\\n| 2019-2020  2019-20 | NHL | Blake Wheeler | Mark Scheifele  Bryan Little  Josh Morrissey |\\n| 2018-2019  2018-19 | NHL | Blake Wheeler | Mark Scheifele  Bryan Little  Dustin Byfuglien |\\n| 2017-2018  2017-18 | NHL | Blake Wheeler | Dustin Byfuglien  Bryan Little  Mark Scheifele |\\n| 2016-2017  2016-17 | NHL | Blake Wheeler | Dustin Byfuglien  Mark Scheifele | [...] | 2015-2016  2015-16 | NHL | Andrew Ladd | Mark Stuart  Blake Wheeler |\\n| 2014-2015  2014-15 | NHL | Andrew Ladd | Mark Stuart  Blake Wheeler |\\n| 2013-2014  2013-14 | NHL | Andrew Ladd | Dustin Byfuglien  Olli Jokinen  Mark Stuart |\\n| 2012-2013  2012-13 | NHL | Andrew Ladd | Dustin Byfuglien  Mark Stuart  Olli Jokinen |\\n| 2011-2012  2011-12 | NHL | Andrew Ladd | Dustin Byfuglien  Tobias Enström |', 'score': 0.7663815, 'raw_content': None}, {'url': 'https://www.chicagotribune.com/2025/07/04/jonathan-toews-winnipeg-jets-introduction/', 'title': 'Jonathan Toews: Winnipeg Jets introduce ex-Chicago Blackhawk', 'content': 'The Jets announced their intention to acquire the 37-year-old center last month, but it only became official this week, with Toews signing a one-year deal worth $2 million, plus performance bonuses tied to games played and playoff success.\\n\\nThe longtime Chicago Blackhawks captain last played in April 2023. He told reporters Friday he was grateful for the opportunity to return to the ice, let alone with his hometown club in front of friends and family. [...] WINNIPEG, Manitoba — Jonathan Toews is back in the NHL with his hometown Winnipeg Jets after a two-year absence.\\n\\nThe three-time Stanley Cup champion was introduced Friday as the newest member of the Jets, donning a jersey with his signature No. 19 at a team news conference. [...] Toews is joining a Jets team that’s coming off a Presidents’ Trophy-winning season as the NHL’s top regular-season team. Earlier this week, Winnipeg lost a key offensive piece when winger Nikolaj Ehlers signed a six-year deal with the Carolina Hurricanes.\\n\\n### Share this:\\n\\n## RevContent Feed\\n\\n## Most Popular\\n\\n### Indicted on fraud charges, ex-Loretto Hospital exec wages bizarre PR campaign from Dubai\\n\\n### Daily Horoscope for July 13, 2025\\n\\n### Daily Horoscope for July 12, 2025', 'score': 0.5602773, 'raw_content': None}, {'url': 'https://www.dailypress.net/sports/2025/07/toews-grateful-excited-to-play-again/', 'title': 'Toews grateful, excited to play again | News, Sports, Jobs - Daily Press', 'content': 'WINNIPEG, Manitoba (AP) — Jonathan Toews is back in the NHL with his hometown Winnipeg Jets after a two-year absence.\\n\\nThe three-time Stanley Cup champion was introduced Friday as the newest member of the Jets, donning a jersey with his signature No. 19 at a team news conference. [...] homepage logo\\n\\nhomepage logo\\n\\n# Toews grateful, excited to play again\\n\\n## \\n\\nJul 7, 2025\\n\\n#### \\n\\n##### \\n\\n###### \\n\\nWinnipeg Jets head coach Scott Arniel, left, and executive vice president and general manager Kevin Cheveldayoff, right, welcome Jonathan Toews, center, to the NHL hockey team at a news conference in Winnipeg, Manitoba, Friday, July 4, 2025. (John Woods/The Canadian Press via AP) [...] Toews is joining a Jets team that’s coming off a Presidents’ Trophy-winning season as the NHL’s top regular-season club. Earlier this week, Winnipeg lost a key offensive piece when winger Nikolaj Ehlers signed a six-year deal with the Carolina Hurricanes.\\n\\n### Newsletter\\n\\n# National Sports\\n\\n# Toews grateful, excited to play again\\n\\n# Merlier wins third stage of Tour de France\\n\\n# MLB All Star teams announced\\n\\n# Woodruff leads Brewers to win over Miami', 'score': 0.49729064, 'raw_content': None}], 'response_time': 4.01})]\n",
            "\n",
            "\n",
            "\n",
            "Receiving update from node: 'agent'\n",
            "[AIMessage(content='The current captain of the Winnipeg Jets is Adam Lowry.', additional_kwargs={'refusal': None}, response_metadata={'token_usage': {'completion_tokens': 13, 'prompt_tokens': 2132, 'total_tokens': 2145, 'completion_tokens_details': {'accepted_prediction_tokens': 0, 'audio_tokens': 0, 'reasoning_tokens': 0, 'rejected_prediction_tokens': 0}, 'prompt_tokens_details': {'audio_tokens': 0, 'cached_tokens': 0}}, 'model_name': 'gpt-4.1-nano-2025-04-14', 'system_fingerprint': None, 'id': 'chatcmpl-Bt3XKJAF88GHnX79imFV47zjHPXts', 'service_tier': 'default', 'finish_reason': 'stop', 'logprobs': None}, id='run--859595e1-c2ed-48c3-8619-a1c17ca380f2-0', usage_metadata={'input_tokens': 2132, 'output_tokens': 13, 'total_tokens': 2145, 'input_token_details': {'audio': 0, 'cache_read': 0}, 'output_token_details': {'audio': 0, 'reasoning': 0}})]\n",
            "\n",
            "\n",
            "\n"
          ]
        }
      ],
      "source": [
        "from langchain_core.messages import HumanMessage\n",
        "\n",
        "inputs = {\"messages\" : [HumanMessage(content=\"Who is the current captain of the Winnipeg Jets?\")]}\n",
        "\n",
        "async for chunk in simple_agent_graph.astream(inputs, stream_mode=\"updates\"):\n",
        "    for node, values in chunk.items():\n",
        "        print(f\"Receiving update from node: '{node}'\")\n",
        "        print(values[\"messages\"])\n",
        "        print(\"\\n\\n\")"
      ]
    },
    {
      "cell_type": "markdown",
      "metadata": {
        "id": "z7QVFuAmsh7L"
      },
      "source": [
        "Now we can add our dataset to our LangSmith project using the following code which we saw last Thursday!"
      ]
    },
    {
      "cell_type": "code",
      "execution_count": 28,
      "metadata": {
        "id": "RLfrZrgSsn85"
      },
      "outputs": [
        {
          "data": {
            "text/plain": [
              "{'example_ids': ['92d6e497-847a-42e2-a43f-97a6d963c402',\n",
              "  'd0c486fa-98bf-4144-9396-e3733f4476dd',\n",
              "  'b3266e73-82d0-447f-a8fb-6f9d68ad5f24',\n",
              "  '7bda2f48-41b7-4117-a191-db6537578f50',\n",
              "  'b5757379-c4e3-4d74-b6b2-9105c2da8fd2',\n",
              "  '8282b70d-6f07-45ba-91a1-3416ddb5bdf6',\n",
              "  '199b0465-f341-438a-a040-9dbf37c03089',\n",
              "  '98aeaa2f-4041-4737-a84b-5dc679ee79ea'],\n",
              " 'count': 8}"
            ]
          },
          "execution_count": 86,
          "metadata": {},
          "output_type": "execute_result"
        }
      ],
      "source": [
        "from langsmith import Client\n",
        "\n",
        "client = Client()\n",
        "\n",
        "dataset_name = f\"Retrieval Augmented Generation - Evaluation Dataset - {uuid4().hex[0:8]}\"\n",
        "\n",
        "dataset = client.create_dataset(\n",
        "    dataset_name=dataset_name,\n",
        "    description=\"Questions about the QLoRA Paper to Evaluate RAG over the same paper.\"\n",
        ")\n",
        "\n",
        "client.create_examples(\n",
        "    inputs=[{\"question\" : q} for q in questions],\n",
        "    outputs=answers,\n",
        "    dataset_id=dataset.id,\n",
        ")"
      ]
    },
    {
      "cell_type": "markdown",
      "metadata": {
        "id": "ciV73F9Q04w0"
      },
      "source": [
        "#### ❓ Question #3:\n",
        "\n",
        "How are the correct answers associated with the questions?\n",
        "\n",
        "> NOTE: Feel free to indicate if this is problematic or not\n",
        "\n",
        "Answer:\n",
        "\n",
        "The correct answers are associated with the questions through positional indexing - meaning the order of elements in both lists determines the correspondence. The first question (index 0) matches the first answer (index 0), the second question (index 1) matches the second answer (index 1), and so forth.\n",
        "\n",
        "```python\n",
        "questions = [\n",
        "    \"What optimizer is used in QLoRA?\",                    # Position 0\n",
        "    \"What data type was created in the QLoRA paper?\",      # Position 1\n",
        "    \"What is a Retrieval Augmented Generation system?\",    # Position 2\n",
        "    # ... etc\n",
        "]\n",
        "\n",
        "answers = [\n",
        "    {\"must_mention\" : [\"paged\", \"optimizer\"]},      # Position 0 → matches question 0\n",
        "    {\"must_mention\" : [\"NF4\", \"NormalFloat\"]},      # Position 1 → matches question 1  \n",
        "    {\"must_mention\" : [\"ground\", \"context\"]},       # Position 2 → matches question 2\n",
        "    # ... etc\n",
        "]\n",
        "```\n",
        "\n",
        "In the above case the first question is mapped to the first answer. Similarly for all pairings in the list.\n",
        "\n",
        "When the dataset is created the list is zipped together based on their positions.\n",
        "\n",
        "The above approach is problematic because of several reasons.\n",
        "1. Fragile Dependencies: Any modification to one list without corresponding changes to the other breaks all associations.\n",
        "2. Silent Failures: Mismatched indices won't throw errors but will create incorrect question-answer pairings.\n",
        "3. Maintenance Overhead: Developers must manually ensure both lists stay synchronized\n",
        "4. Poor Readability: The relationship between questions and answers isn't immediately apparent\n",
        "5. No Validation: No automatic checks to ensure lists have matching lengths or logical pairings\n",
        "\n",
        "The more robust approach would be to use a list of dictionaries or tuples where each question is explicitly paired with its answer.\n",
        "\n"
      ]
    },
    {
      "cell_type": "markdown",
      "metadata": {
        "id": "-lRTXUrTtP9Y"
      },
      "source": [
        "### Task 2: Adding Evaluators\n",
        "\n",
        "Now we can add a custom evaluator to see if our responses contain the expected information.\n",
        "\n",
        "We'll be using a fairly naive exact-match process to determine if our response contains specific strings."
      ]
    },
    {
      "cell_type": "code",
      "execution_count": 29,
      "metadata": {
        "id": "QrAUXMFftlAY"
      },
      "outputs": [],
      "source": [
        "from langsmith.evaluation import EvaluationResult, run_evaluator\n",
        "\n",
        "@run_evaluator\n",
        "def must_mention(run, example) -> EvaluationResult:\n",
        "    prediction = run.outputs.get(\"output\") or \"\"\n",
        "    required = example.outputs.get(\"must_mention\") or []\n",
        "    score = all(phrase in prediction for phrase in required)\n",
        "    return EvaluationResult(key=\"must_mention\", score=score)"
      ]
    },
    {
      "cell_type": "markdown",
      "metadata": {
        "id": "PNtHORUh0jZY"
      },
      "source": [
        "#### ❓ Question #4:\n",
        "\n",
        "What are some ways you could improve this metric as-is?\n",
        "\n",
        "> NOTE: Alternatively you can suggest where gaps exist in this method.\n",
        "\n",
        "Answer:\n",
        "\n",
        "There are certain limitations with the current metric:\n",
        "\n",
        "1. Exact Match Only:\n",
        "   It only looks for exact phrases, so it misses correct answers that use synonyms or paraphrasing.\n",
        "2. No Context Check:\n",
        "   It doesn’t verify if the required words are used meaningfully or just listed.\n",
        "3. All-or-Nothing Scoring:\n",
        "   If even one required phrase is missing, the answer gets no credit.\n",
        "4. Insensitive to Case/Formatting:\n",
        "   It may fail if the answer uses different capitalization or punctuation.\n",
        "\n",
        "There are several ways to improve the current metric.\n",
        "1. Fuzzy or Case-Insensitive Matching:\n",
        "   Allow minor spelling differences and ignore capitalization.\n",
        "2. Synonym/Semantic Matching:\n",
        "   Use NLP tools to recognize similar meanings, not just exact words.\n",
        "3. Partial Credit:\n",
        "   Score based on how many required concepts are present, not just all-or-nothing.\n",
        "4. Contextual Validation:\n",
        "   Check that required phrases are used in a relevant and correct context, not just mentioned.\n",
        "\n"
      ]
    },
    {
      "cell_type": "markdown",
      "metadata": {
        "id": "r1RJr349zhv7"
      },
      "source": [
        "Task 3: Evaluating\n",
        "\n",
        "All that is left to do is evaluate our agent's response!"
      ]
    },
    {
      "cell_type": "code",
      "execution_count": 30,
      "metadata": {
        "colab": {
          "base_uri": "https://localhost:8080/",
          "height": 118,
          "referenced_widgets": [
            "efcf57067cf743d8b4ce059a61cbe02e",
            "53e33aae3b97490c82aec7bbb0d6ebba",
            "ad84e0e971d3455db2efe7dd0d1f803e",
            "72adef9b70dd48198b7322b6c5b113cf",
            "8a61d045ffd44ac58f3f13eb10044836",
            "041e22a9b5514e36bd4d1dac01d5d398",
            "886d762f2a7c421382efb5502c6d42a1",
            "ab91fd625bbd43afbf8c6398193a88d0",
            "716557ad09874dcb989d75f7c74424cd",
            "77d4c0ebaae045b58efc4f789c9a2360",
            "0d622ccc56264fac8fd7508dbdbe6e29"
          ]
        },
        "id": "p5TeCUUkuGld",
        "outputId": "2f7d62a2-e78d-447a-d07b-f9e4d500fb79"
      },
      "outputs": [
        {
          "name": "stdout",
          "output_type": "stream",
          "text": [
            "View the evaluation results for experiment: 'Search Pipeline - Evaluation - ddc9-7009ebe5' at:\n",
            "https://smith.langchain.com/o/3c2c7006-57b9-4cbe-911e-6f73b4734883/datasets/93032b24-f940-4271-898f-1388b87db08a/compare?selectedSessions=8bca64de-8d0f-4ed1-b4b3-706f278a75c1\n",
            "\n",
            "\n"
          ]
        },
        {
          "data": {
            "application/vnd.jupyter.widget-view+json": {
              "model_id": "1397fe581d9e42f099879ec45a96a0f4",
              "version_major": 2,
              "version_minor": 0
            },
            "text/plain": [
              "0it [00:00, ?it/s]"
            ]
          },
          "metadata": {},
          "output_type": "display_data"
        }
      ],
      "source": [
        "experiment_results = client.evaluate(\n",
        "    agent_chain_with_formatting,\n",
        "    data=dataset_name,\n",
        "    evaluators=[must_mention],\n",
        "    experiment_prefix=f\"Search Pipeline - Evaluation - {uuid4().hex[0:4]}\",\n",
        "    metadata={\"version\": \"1.0.0\"},\n",
        ")"
      ]
    },
    {
      "cell_type": "code",
      "execution_count": 23,
      "metadata": {
        "colab": {
          "base_uri": "https://localhost:8080/",
          "height": 342
        },
        "id": "eeEqU7s05Byu",
        "outputId": "78395075-a05d-4ebd-c798-ed968b935318"
      },
      "outputs": [
        {
          "data": {
            "text/html": [
              "<ExperimentResults Search Pipeline - Evaluation - e10f-8b5d3d5a>"
            ],
            "text/plain": [
              "<ExperimentResults Search Pipeline - Evaluation - e10f-8b5d3d5a>"
            ]
          },
          "execution_count": 23,
          "metadata": {},
          "output_type": "execute_result"
        }
      ],
      "source": [
        "experiment_results"
      ]
    },
    {
      "cell_type": "markdown",
      "metadata": {
        "id": "jhTNe4kWrplB"
      },
      "source": [
        "## Part 2: LangGraph with Helpfulness:"
      ]
    },
    {
      "cell_type": "markdown",
      "metadata": {
        "id": "w1wKRddbIY_S"
      },
      "source": [
        "### Task 3: Adding Helpfulness Check and \"Loop\" Limits\n",
        "\n",
        "Now that we've done evaluation - let's see if we can add an extra step where we review the content we've generated to confirm if it fully answers the user's query!\n",
        "\n",
        "We're going to make a few key adjustments to account for this:\n",
        "\n",
        "1. We're going to add an artificial limit on how many \"loops\" the agent can go through - this will help us to avoid the potential situation where we never exit the loop.\n",
        "2. We'll add to our existing conditional edge to obtain the behaviour we desire."
      ]
    },
    {
      "cell_type": "markdown",
      "metadata": {
        "id": "npTYJ8ayR5B3"
      },
      "source": [
        "First, let's define our state again - we can check the length of the state object, so we don't need additional state for this."
      ]
    },
    {
      "cell_type": "code",
      "execution_count": 31,
      "metadata": {
        "id": "-LQ84YhyJG0w"
      },
      "outputs": [],
      "source": [
        "class AgentState(TypedDict):\n",
        "  messages: Annotated[list, add_messages]"
      ]
    },
    {
      "cell_type": "markdown",
      "metadata": {
        "id": "sD7EV0HqSQcb"
      },
      "source": [
        "Now we can set our graph up! This process will be almost entirely the same - with the inclusion of one additional node/conditional edge!"
      ]
    },
    {
      "cell_type": "markdown",
      "metadata": {
        "id": "oajBwLkFVi1N"
      },
      "source": [
        "#### 🏗️ Activity #5:\n",
        "\n",
        "Please write markdown for the following cells to explain what each is doing.\n",
        "\n"
      ]
    },
    {
      "cell_type": "markdown",
      "metadata": {},
      "source": [
        "Answer:\n",
        "\n",
        "In this cell, we begin constructing a new LangGraph called graph_with_helpfulness_check using the StateGraph API with the AgentState type. This graph will manage the flow of messages between the agent (LLM) and the tools.\n",
        "\n",
        "We define two main nodes:\n",
        "\n",
        "\"agent\" node:\n",
        "This represents the thinking step of the agent. It uses the call_model function, which invokes the language model to process the user’s input and decide whether to respond directly or trigger a tool.\n",
        "\n",
        "\"action\" node:\n",
        "This node is responsible for executing any tool calls made by the agent. It uses the tool_node component, which wraps all available tools (Wikipedia, Math evaluator, Arxiv, Tavily) and ensures the correct one is called based on the model’s output.\n",
        "\n",
        "This structure sets up the core building blocks for a reasoning-and-action loop: the agent can think, decide to use a tool, receive the tool result, and think again — enabling more helpful and accurate responses."
      ]
    },
    {
      "cell_type": "code",
      "execution_count": null,
      "metadata": {},
      "outputs": [],
      "source": [
        "graph_with_helpfulness_check = StateGraph(AgentState)\n",
        "\n",
        "graph_with_helpfulness_check.add_node(\"agent\", call_model)\n",
        "graph_with_helpfulness_check.add_node(\"action\", tool_node)"
      ]
    },
    {
      "cell_type": "markdown",
      "metadata": {},
      "source": [
        "Answer:\n",
        "In this cell, we define `\"agent\"` as the **entry point** of the graph. This means that whenever the graph execution begins (e.g., when a user query is received), it will start at the `\"agent\"` node.\n",
        "\n",
        "The `\"agent\"` node is responsible for processing the user’s input using the language model and deciding whether to respond directly or call a tool. By setting it as the entry point, we ensure that every interaction starts with reasoning before any action is taken."
      ]
    },
    {
      "cell_type": "code",
      "execution_count": null,
      "metadata": {},
      "outputs": [],
      "source": [
        "graph_with_helpfulness_check.set_entry_point(\"agent\")"
      ]
    },
    {
      "cell_type": "markdown",
      "metadata": {
        "id": "rsXeF6xlaXOZ"
      },
      "source": [
        "##### YOUR MARKDOWN HERE\n",
        "\n",
        "Answer:\n",
        "\n",
        "In the below cell, we define the function tool_call_or_helpful, which acts as a custom routing logic for our LangGraph agent. This function determines what the agent should do next based on the current conversation state.\n",
        "\n",
        "Here's what each part does:\n",
        "\n",
        "Tool Call Detection:\n",
        "If the latest message includes a tool call (tool_calls), the function immediately returns \"action\", routing the graph to the tool execution node.\n",
        "\n",
        "Conversation End Check:\n",
        "If the total number of messages exceeds 10, it returns \"END\" to stop the conversation and prevent infinite loops.\n",
        "\n",
        "Helpfulness Evaluation Logic:\n",
        "If no tool call is present and the message count is acceptable, the function evaluates whether the final agent response is helpful.\n",
        "\n",
        "It constructs a prompt that compares the initial user query and the agent's final response.\n",
        "\n",
        "This prompt is passed to a small LLM (gpt-4.1-mini) using a LangChain pipeline composed of:\n",
        "\n",
        "PromptTemplate\n",
        "\n",
        "ChatOpenAI\n",
        "\n",
        "StrOutputParser\n",
        "\n",
        "Decision Based on Helpfulness:\n",
        "\n",
        "If the model outputs \"Y\", the function routes to \"end\" (i.e., the answer was helpful enough to stop).\n",
        "\n",
        "If the model outputs \"N\", it routes to \"continue\" (i.e., the conversation should continue for refinement).\n",
        "\n",
        "This logic adds an intelligent layer to the agent, allowing it to self-assess its response and decide whether to continue or end the conversation — making the agent more adaptive and feedback-driven."
      ]
    },
    {
      "cell_type": "code",
      "execution_count": 41,
      "metadata": {
        "id": "z_Sq3A9SaV1O"
      },
      "outputs": [],
      "source": [
        "from langchain_core.prompts import PromptTemplate\n",
        "from langchain_core.output_parsers import StrOutputParser\n",
        "\n",
        "def tool_call_or_helpful(state):\n",
        "  last_message = state[\"messages\"][-1]\n",
        "\n",
        "  if last_message.tool_calls:\n",
        "    return \"action\"\n",
        "\n",
        "  initial_query = state[\"messages\"][0]\n",
        "  final_response = state[\"messages\"][-1]\n",
        "\n",
        "  if len(state[\"messages\"]) > 10:\n",
        "    return END\n",
        "\n",
        "  prompt_template = \"\"\"\\\n",
        "  Given an initial query and a final response, determine if the final response is extremely helpful or not. Please indicate helpfulness with a 'Y' and unhelpfulness as an 'N'.\n",
        "\n",
        "  Initial Query:\n",
        "  {initial_query}\n",
        "\n",
        "  Final Response:\n",
        "  {final_response}\"\"\"\n",
        "\n",
        "  helpfullness_prompt_template = PromptTemplate.from_template(prompt_template)\n",
        "\n",
        "  helpfulness_check_model = ChatOpenAI(model=\"gpt-4.1-mini\")\n",
        "\n",
        "  helpfulness_chain = helpfullness_prompt_template | helpfulness_check_model | StrOutputParser()\n",
        "\n",
        "  helpfulness_response = helpfulness_chain.invoke({\"initial_query\" : initial_query.content, \"final_response\" : final_response.content})\n",
        "\n",
        "  if \"Y\" in helpfulness_response:\n",
        "    return \"end\"\n",
        "  else:\n",
        "    return \"continue\""
      ]
    },
    {
      "cell_type": "markdown",
      "metadata": {
        "id": "Fz1u9Vf4SHxJ"
      },
      "source": [
        "#### 🏗️ Activity #4:\n",
        "\n",
        "Please write what is happening in our `tool_call_or_helpful` function!\n",
        "\n",
        "Answer:\n",
        "\n",
        "The tool_call_or_helpful function is responsible for deciding the next step in the agent’s workflow based on the current state of the conversation. Here’s what happens inside the function:\n",
        "Checks for Tool Calls:\n",
        "If the latest message from the agent includes a tool call, the function returns \"action\", which tells the system to execute the requested tool.\n",
        "Checks for Loop Limit:\n",
        "If the total number of messages in the conversation exceeds 10, the function returns \"END\" to stop the process and prevent infinite loops.\n",
        "Evaluates Helpfulness:\n",
        "If there is no tool call and the loop limit hasn’t been reached, the function uses a language model to evaluate whether the agent’s latest response is “extremely helpful” for the original user query. It does this by prompting a smaller LLM with both the initial query and the latest response, asking for a “Y” (helpful) or “N” (not helpful).\n",
        "If the model responds with “Y”, the function returns \"end\" to finish the conversation.\n",
        "If the model responds with “N”, it returns \"continue\", allowing the agent to try again and improve its answer.\n",
        "In summary:\n",
        "This function determines whether to use a tool, end the conversation, or let the agent continue, based on tool usage, conversation length, and a helpfulness check using another language model."
      ]
    },
    {
      "cell_type": "markdown",
      "metadata": {
        "id": "6BhnBW2YVsJO"
      },
      "source": [
        "##### YOUR MARKDOWN HERE\n",
        "\n",
        "Answer:\n",
        "\n",
        "This cell adds conditional routing logic to the graph. After the \"agent\" node runs, it uses the tool_call_or_helpful function to decide the next step:\n",
        "\n",
        "If \"continue\" → loop back to \"agent\"\n",
        "\n",
        "If \"action\" → go to the \"action\" node to run a tool\n",
        "\n",
        "If \"end\" → stop the graph execution\n",
        "\n",
        "This makes the agent self-evaluate its response and decide whether to act again, try a tool, or finish."
      ]
    },
    {
      "cell_type": "code",
      "execution_count": 42,
      "metadata": {
        "colab": {
          "base_uri": "https://localhost:8080/"
        },
        "id": "aVTKnWMbP_8T",
        "outputId": "7f729b1f-311c-4084-ceaf-0da437900c85"
      },
      "outputs": [
        {
          "data": {
            "text/plain": [
              "<langgraph.graph.state.StateGraph at 0x1208fb820>"
            ]
          },
          "execution_count": 93,
          "metadata": {},
          "output_type": "execute_result"
        }
      ],
      "source": [
        "graph_with_helpfulness_check.add_conditional_edges(\n",
        "    \"agent\",\n",
        "    tool_call_or_helpful,\n",
        "    {\n",
        "        \"continue\" : \"agent\",\n",
        "        \"action\" : \"action\",\n",
        "        \"end\" : END\n",
        "    }\n",
        ")"
      ]
    },
    {
      "cell_type": "markdown",
      "metadata": {
        "id": "ZGDLEWOIVtK0"
      },
      "source": [
        "##### YOUR MARKDOWN HERE\n",
        "\n",
        "Answer:\n",
        "This cell adds an edge from the \"action\" node back to the \"agent\" node.\n",
        "After a tool is used, the agent receives the tool's output and continues reasoning based on it. This creates a loop where the agent can think → act → think again, enabling multi-step reasoning with tools."
      ]
    },
    {
      "cell_type": "code",
      "execution_count": 36,
      "metadata": {
        "colab": {
          "base_uri": "https://localhost:8080/"
        },
        "id": "cbDK2MbuREgU",
        "outputId": "21a64c20-27a1-4e0e-afde-a639abaa8b55"
      },
      "outputs": [
        {
          "data": {
            "text/plain": [
              "<langgraph.graph.state.StateGraph at 0x1208fb820>"
            ]
          },
          "execution_count": 94,
          "metadata": {},
          "output_type": "execute_result"
        }
      ],
      "source": [
        "graph_with_helpfulness_check.add_edge(\"action\", \"agent\")"
      ]
    },
    {
      "cell_type": "markdown",
      "metadata": {
        "id": "rSI8AOaEVvT-"
      },
      "source": [
        "##### YOUR MARKDOWN HERE\n",
        "\n",
        "Answer:\n",
        "This cell compiles the graph_with_helpfulness_check into an executable agent called agent_with_helpfulness_check.\n",
        "It finalizes the structure of the LangGraph so it can be invoked with user inputs. After compilation, the agent is ready to run with the defined nodes, edges, and conditional logic."
      ]
    },
    {
      "cell_type": "code",
      "execution_count": 37,
      "metadata": {
        "id": "oQldl8ERQ8lf"
      },
      "outputs": [],
      "source": [
        "agent_with_helpfulness_check = graph_with_helpfulness_check.compile()"
      ]
    },
    {
      "cell_type": "markdown",
      "metadata": {
        "id": "F67FGCMRVwGz"
      },
      "source": [
        "##### YOUR MARKDOWN HERE\n",
        "\n",
        "Answer:\n",
        "\n",
        "This cell sends a multi-part user query to the agent_with_helpfulness_check and streams its execution step by step.\n",
        "\n",
        "The input includes three related questions about LoRA, Tim Dettmers, and Attention.\n",
        "\n",
        "The astream method allows us to observe each update from the graph in real time.\n",
        "\n",
        "As the agent runs, we see which node is active (\"agent\" or \"action\") and the messages being passed.\n",
        "\n",
        "This helps us understand how the agent thinks, calls tools, and builds its final response across multiple steps."
      ]
    },
    {
      "cell_type": "code",
      "execution_count": 38,
      "metadata": {
        "colab": {
          "base_uri": "https://localhost:8080/"
        },
        "id": "B3oo8E-PRK1T",
        "outputId": "f152dea8-96ad-4d29-d8b2-a064c96a8bd3"
      },
      "outputs": [
        {
          "name": "stdout",
          "output_type": "stream",
          "text": [
            "Receiving update from node: 'agent'\n",
            "[AIMessage(content='', additional_kwargs={'tool_calls': [{'id': 'call_xpYdgOQmwga0LOEzu5j7CL3y', 'function': {'arguments': '{\"query\": \"LoRA machine learning\"}', 'name': 'wikipedia'}, 'type': 'function'}, {'id': 'call_eTHOsGsPBWrohTxsmQ1Duy8j', 'function': {'arguments': '{\"query\": \"Tim Dettmers\"}', 'name': 'wikipedia'}, 'type': 'function'}, {'id': 'call_90ytXeyLg0IDtTMwev3gEHHd', 'function': {'arguments': '{\"query\": \"Attention in machine learning\"}', 'name': 'wikipedia'}, 'type': 'function'}], 'refusal': None}, response_metadata={'token_usage': {'completion_tokens': 64, 'prompt_tokens': 265, 'total_tokens': 329, 'completion_tokens_details': {'accepted_prediction_tokens': 0, 'audio_tokens': 0, 'reasoning_tokens': 0, 'rejected_prediction_tokens': 0}, 'prompt_tokens_details': {'audio_tokens': 0, 'cached_tokens': 0}}, 'model_name': 'gpt-4.1-nano-2025-04-14', 'system_fingerprint': None, 'id': 'chatcmpl-BtC9BZKUTtqsg0HeUSx5fhubZor3o', 'service_tier': 'default', 'finish_reason': 'tool_calls', 'logprobs': None}, id='run--199dc8b5-857d-45ba-8d6b-b3b574320222-0', tool_calls=[{'name': 'wikipedia', 'args': {'query': 'LoRA machine learning'}, 'id': 'call_xpYdgOQmwga0LOEzu5j7CL3y', 'type': 'tool_call'}, {'name': 'wikipedia', 'args': {'query': 'Tim Dettmers'}, 'id': 'call_eTHOsGsPBWrohTxsmQ1Duy8j', 'type': 'tool_call'}, {'name': 'wikipedia', 'args': {'query': 'Attention in machine learning'}, 'id': 'call_90ytXeyLg0IDtTMwev3gEHHd', 'type': 'tool_call'}], usage_metadata={'input_tokens': 265, 'output_tokens': 64, 'total_tokens': 329, 'input_token_details': {'audio': 0, 'cache_read': 0}, 'output_token_details': {'audio': 0, 'reasoning': 0}})]\n",
            "\n",
            "\n",
            "\n"
          ]
        },
        {
          "name": "stderr",
          "output_type": "stream",
          "text": [
            "/Users/mayankshah/Documents/ai-makerspace/aie7-bootcamp/AIE7_local/05_Our_First_Agent_with_LangGraph/.venv/lib/python3.13/site-packages/wikipedia/wikipedia.py:389: GuessedAtParserWarning: No parser was explicitly specified, so I'm using the best available HTML parser for this system (\"html.parser\"). This usually isn't a problem, but if you run this code on another system, or in a different virtual environment, it may use a different parser and behave differently.\n",
            "\n",
            "The code that caused this warning is on line 389 of the file /Users/mayankshah/Documents/ai-makerspace/aie7-bootcamp/AIE7_local/05_Our_First_Agent_with_LangGraph/.venv/lib/python3.13/site-packages/wikipedia/wikipedia.py. To get rid of this warning, pass the additional argument 'features=\"html.parser\"' to the BeautifulSoup constructor.\n",
            "\n",
            "  lis = BeautifulSoup(html).find_all('li')\n"
          ]
        },
        {
          "name": "stdout",
          "output_type": "stream",
          "text": [
            "Receiving update from node: 'action'\n",
            "[ToolMessage(content='Page: Fine-tuning (deep learning)\\nSummary: In deep learning, fine-tuning is an approach to transfer learning in which the parameters of a pre-trained neural network model are trained on new data. Fine-tuning can be done on the entire neural network, or on only a subset of its layers, in which case the layers that are not being fine-tuned are \"frozen\" (i.e., not changed during backpropagation). A model may also be augmented with \"adapters\" that consist of far fewer parameters than the original model, and fine-tuned in a parameter-efficient way by tuning the weights of the adapters and leaving the rest of the model\\'s weights frozen.\\nFor some architectures, such as convolutional neural networks, it is common to keep the earlier layers (those closest to the input layer) frozen, as they capture lower-level features, while later layers often discern high-level features that can be more related to the task that the model is trained on.\\nModels that are pre-trained on large, general corpora are usually fine-tuned by reusing their parameters as a starting point and adding a task-specific layer trained from scratch. Fine-tuning the full model is also common and often yields better results, but is more computationally expensive.\\nFine-tuning is typically accomplished via supervised learning, but there are also techniques to fine-tune a model using weak supervision. Fine-tuning can be combined with a reinforcement learning from human feedback-based objective to produce language models such as ChatGPT (a fine-tuned version of GPT models) and Sparrow.\\n\\nPage: List of datasets for machine-learning research\\nSummary: These datasets are used in machine learning (ML) research and have been cited in peer-reviewed academic journals. Datasets are an integral part of the field of machine learning. Major advances in this field can result from advances in learning algorithms (such as deep learning), computer hardware, and, less-intuitively, the availability of high-quality training datasets. High-quality labeled training datasets for supervised and semi-supervised machine learning algorithms are usually difficult and expensive to produce because of the large amount of time needed to label the data. Although they do not need to be labeled, high-quality datasets for unsupervised learning can also be difficult and costly to produce.\\nMany organizations, including governments, publish and share their datasets. The datasets are classified, based on the licenses, as Open data and Non-Open data.\\nThe datasets from various governmental-bodies are presented in List of open government data sites. The datasets are ported on open data portals. They are made available for searching, depositing and accessing through interfaces like Open API.  The datasets are made available as various sorted types and subtypes.', name='wikipedia', id='6da267a9-9b46-492e-96fa-739752762e9e', tool_call_id='call_xpYdgOQmwga0LOEzu5j7CL3y'), ToolMessage(content='Page: Data parallelism\\nSummary: Data parallelism is parallelization across multiple processors in parallel computing environments. It focuses on distributing the data across different nodes, which operate on the data in parallel. It can be applied on regular data structures like arrays and matrices by working on each element in parallel. It contrasts to task parallelism as another form of parallelism.\\nA data parallel job on an array of n elements can be divided equally among all the processors. Let us assume we want to sum all the elements of the given array and the time for a single addition operation is Ta time units. In the case of sequential execution, the time taken by the process will be n×Ta time units as it sums up all the elements of an array. On the other hand, if we execute this job as a data parallel job on 4 processors the time taken would reduce to (n/4)×Ta + merging overhead time units. Parallel execution results in a speedup of 4 over sequential execution. The locality of data references plays an important part in evaluating the performance of a data parallel programming model. Locality of data depends on the memory accesses performed by the program as well as the size of the cache.\\n\\nPage: Ari Holtzman\\nSummary: Ari Holtzman is a professor of Computer Science at the University of Chicago and an expert in the area of Natural language processing and Computational linguistics. Previously, Holtzman was a PhD student at the University of Washington where he was advised by Luke Zettlemoyer.\\nIn 2017, he was a member of the winning team for the inaugural Alexa Prize for developing a conversational AI system for the Amazon Alexa device. Holtzman has made multiple contributions in the area of text generation and language models such as the introduction of nucleus sampling in 2019, his work on AI safety and neural fake news detection, and the fine-tuning of quantized large language models.\\n\\n\\n\\nPage: Large language model\\nSummary: A large language model (LLM) is a language model trained with self-supervised machine learning on a vast amount of text, designed for natural language processing tasks, especially language generation.\\nThe largest and most capable LLMs are generative pretrained transformers (GPTs), which are largely used in generative chatbots such as ChatGPT, Gemini or Claude. LLMs can be fine-tuned for specific tasks or guided by prompt engineering. These models acquire predictive power regarding syntax, semantics, and ontologies inherent in human language corpora, but they also inherit inaccuracies and biases present in the data they are trained in.\\n\\n', name='wikipedia', id='88a00d56-050f-4f9d-9fda-1b448860eb57', tool_call_id='call_eTHOsGsPBWrohTxsmQ1Duy8j'), ToolMessage(content='Page: Attention (machine learning)\\nSummary: In machine learning, attention is a  method that determines the importance of each component in a sequence relative to the other components in that sequence. In natural language processing, importance is represented by \"soft\" weights assigned to each word in a sentence. More generally, attention encodes vectors called token embeddings across a fixed-width sequence that can range from tens to millions of tokens in size.\\nUnlike \"hard\" weights, which are computed during the backwards training pass, \"soft\" weights exist only in the forward pass and therefore change with every step of the input. Earlier designs implemented the attention mechanism in a serial recurrent neural network (RNN) language translation system, but a more recent design, namely the transformer, removed the slower sequential RNN and relied more heavily on the faster parallel attention scheme.\\nInspired by ideas about attention in humans, the attention mechanism was developed to address the weaknesses of using information from the hidden layers of recurrent neural networks. Recurrent neural networks favor more recent information contained in words at the end of a sentence, while information earlier in the sentence tends to be attenuated. Attention allows a token equal access to any part of a sentence directly, rather than only through the previous state.\\n\\n\\n\\nPage: Transformer (deep learning architecture)\\nSummary: In deep learning, transformer is an architecture based on the multi-head attention mechanism, in which text is converted to numerical representations called tokens, and each token is converted into a vector via lookup from a word embedding table. At each layer, each token is then contextualized within the scope of the context window with other (unmasked) tokens via a parallel multi-head attention mechanism, allowing the signal for key tokens to be amplified and less important tokens to be diminished. \\nTransformers have the advantage of having no recurrent units, therefore requiring less training time than earlier recurrent neural architectures (RNNs) such as long short-term memory (LSTM). Later variations have been widely adopted for training large language models (LLMs) on large (language) datasets.\\n\\nThe modern version of the transformer was proposed in the 2017 paper \"Attention Is All You Need\" by researchers at Google. Transformers were first developed as an improvement over previous architectures for machine translation, but have found many applications since. They are used in large-scale natural language processing, computer vision (vision transformers), reinforcement learning, audio, multimodal learning, robotics, and even playing chess. It has also led to the development of pre-trained systems, such as generative pre-trained transformers (GPTs) and BERT (bidirectional encoder representations from transformers).\\n\\n\\n\\nPage: Machine learning\\nSummary: Machine learning (ML) is a field of study in artificial intelligence concerned with the development and study of statistical algorithms that can learn from data and generalise to unseen data, and thus perform tasks without explicit instructions. Within a subdiscipline in machine learning, advances in the field of deep learning have allowed neural networks, a class of statistical algorithms, to surpass many previous machine learning approaches in performance.\\nML finds application in many fields, including natural language processing, computer vision, speech recognition, email filtering, agriculture, and medicine. The application of ML to business problems is known as predictive analytics.\\nStatistics and mathematical optimisation (mathematical programming) methods comprise the foundations of machine learning. Data mining is a related field of study, focusing on exploratory data analysis (EDA) via unsupervised learning. \\nFrom a theoretical viewpoint, probably approximately correct learning provides a framework for describing machine learning.', name='wikipedia', id='a6655f8b-98e2-4b79-acd3-d229fe236247', tool_call_id='call_90ytXeyLg0IDtTMwev3gEHHd')]\n",
            "\n",
            "\n",
            "\n",
            "Receiving update from node: 'agent'\n",
            "[AIMessage(content='LoRA (Low-Rank Adaptation) is a technique used in machine learning, particularly in the context of fine-tuning large models efficiently. It involves adding trainable low-rank matrices to existing model weights, allowing for parameter-efficient adaptation without updating the entire model. This approach reduces computational costs and memory requirements, making it easier to adapt large pre-trained models to specific tasks.\\n\\nTim Dettmers is a researcher known for his work in machine learning and natural language processing. He has contributed to the development of efficient training methods and model architectures, and is active in the AI research community.\\n\\nAttention in machine learning is a mechanism that determines the importance of different parts of a sequence relative to each other. It assigns weights to each component, such as words in a sentence, to focus on the most relevant information. This concept is fundamental to transformer models, which have revolutionized natural language processing by enabling models to consider all parts of the input simultaneously, rather than sequentially.\\n\\nWould you like more detailed information on any of these topics?', additional_kwargs={'refusal': None}, response_metadata={'token_usage': {'completion_tokens': 207, 'prompt_tokens': 2162, 'total_tokens': 2369, 'completion_tokens_details': {'accepted_prediction_tokens': 0, 'audio_tokens': 0, 'reasoning_tokens': 0, 'rejected_prediction_tokens': 0}, 'prompt_tokens_details': {'audio_tokens': 0, 'cached_tokens': 0}}, 'model_name': 'gpt-4.1-nano-2025-04-14', 'system_fingerprint': None, 'id': 'chatcmpl-BtC9PircdT5qT1kEjOgmHVY3ofC4d', 'service_tier': 'default', 'finish_reason': 'stop', 'logprobs': None}, id='run--aa3bca3c-d442-4461-8d7e-46b491c97883-0', usage_metadata={'input_tokens': 2162, 'output_tokens': 207, 'total_tokens': 2369, 'input_token_details': {'audio': 0, 'cache_read': 0}, 'output_token_details': {'audio': 0, 'reasoning': 0}})]\n",
            "\n",
            "\n",
            "\n"
          ]
        }
      ],
      "source": [
        "inputs = {\"messages\" : [HumanMessage(content=\"Related to machine learning, what is LoRA? Also, who is Tim Dettmers? Also, what is Attention?\")]}\n",
        "\n",
        "async for chunk in agent_with_helpfulness_check.astream(inputs, stream_mode=\"updates\"):\n",
        "    for node, values in chunk.items():\n",
        "        print(f\"Receiving update from node: '{node}'\")\n",
        "        print(values[\"messages\"])\n",
        "        print(\"\\n\\n\")"
      ]
    },
    {
      "cell_type": "markdown",
      "metadata": {
        "id": "yVmZPs6lnpsM"
      },
      "source": [
        "### Task 4: LangGraph for the \"Patterns\" of GenAI\n",
        "\n",
        "Let's ask our system about the 4 patterns of Generative AI:\n",
        "\n",
        "1. Prompt Engineering\n",
        "2. RAG\n",
        "3. Fine-tuning\n",
        "4. Agents"
      ]
    },
    {
      "cell_type": "code",
      "execution_count": 39,
      "metadata": {
        "id": "ZoLl7GlXoae-"
      },
      "outputs": [],
      "source": [
        "patterns = [\"prompt engineering\", \"RAG\", \"fine-tuning\", \"LLM-based agents\"]"
      ]
    },
    {
      "cell_type": "code",
      "execution_count": 40,
      "metadata": {
        "colab": {
          "base_uri": "https://localhost:8080/"
        },
        "id": "Zkh0YJuCp3Zl",
        "outputId": "d847426e-71b3-47e6-b1ae-351a78d68d1e"
      },
      "outputs": [
        {
          "name": "stdout",
          "output_type": "stream",
          "text": [
            "Prompt engineering is the process of designing and refining prompts to effectively communicate with AI language models, such as GPT, to obtain desired responses. It involves crafting clear, specific, and contextually appropriate prompts to improve the quality, relevance, and accuracy of the AI's outputs. Prompt engineering has become increasingly important as AI models are integrated into various applications, enabling users to leverage their capabilities more effectively.\n",
            "\n",
            "Prompt engineering started gaining significant attention around 2020-2021, coinciding with the rise of large language models like GPT-3 developed by OpenAI. As these models demonstrated impressive capabilities, the need for effective prompt design to harness their potential became evident, leading to the emergence of prompt engineering as a recognized discipline within AI and NLP communities.\n",
            "\n",
            "\n",
            "\n"
          ]
        },
        {
          "name": "stderr",
          "output_type": "stream",
          "text": [
            "/Users/mayankshah/Documents/ai-makerspace/aie7-bootcamp/AIE7_local/05_Our_First_Agent_with_LangGraph/.venv/lib/python3.13/site-packages/wikipedia/wikipedia.py:389: GuessedAtParserWarning: No parser was explicitly specified, so I'm using the best available HTML parser for this system (\"html.parser\"). This usually isn't a problem, but if you run this code on another system, or in a different virtual environment, it may use a different parser and behave differently.\n",
            "\n",
            "The code that caused this warning is on line 389 of the file /Users/mayankshah/Documents/ai-makerspace/aie7-bootcamp/AIE7_local/05_Our_First_Agent_with_LangGraph/.venv/lib/python3.13/site-packages/wikipedia/wikipedia.py. To get rid of this warning, pass the additional argument 'features=\"html.parser\"' to the BeautifulSoup constructor.\n",
            "\n",
            "  lis = BeautifulSoup(html).find_all('li')\n"
          ]
        },
        {
          "name": "stdout",
          "output_type": "stream",
          "text": [
            "RAG can refer to different things, but based on the search results, it appears that \"RAG\" is not specifically defined in the context of a new technology or trend that \"broke onto the scene.\" However, there is information about \"Ragtime,\" a musical style that was popular from the 1890s to 1910s, characterized by its syncopated rhythm and associated with African American communities.\n",
            "\n",
            "If you are referring to a different \"RAG,\" such as a recent technological or cultural phenomenon, please provide more context or specify the field you're interested in.\n",
            "\n",
            "\n",
            "\n",
            "Fine-tuning is a machine learning technique used to adapt a pre-trained model to a specific task or dataset. Instead of training a model from scratch, which can be resource-intensive and time-consuming, fine-tuning involves taking an existing model that has already learned general features from a large dataset and then further training it on a smaller, task-specific dataset. This process helps the model specialize in the new task while leveraging the knowledge it has already acquired, leading to improved performance and efficiency.\n",
            "\n",
            "Fine-tuning has been a part of the machine learning landscape for many years, but it gained significant prominence with the rise of deep learning and large pre-trained models. The breakthrough moment for fine-tuning can be traced back to the success of models like BERT (Bidirectional Encoder Representations from Transformers) in 2018, which popularized the approach of pre-training on large corpora and then fine-tuning on specific tasks such as question answering and sentiment analysis. This paradigm shift made fine-tuning a standard practice in natural language processing and beyond.\n",
            "\n",
            "Would you like me to find more detailed historical information or specific milestones related to the emergence of fine-tuning?\n",
            "\n",
            "\n",
            "\n",
            "LLM-based agents are intelligent systems that utilize large language models (LLMs) to perform a variety of tasks, such as understanding natural language, generating human-like text, and making decisions or taking actions based on the input they receive. These agents leverage the capabilities of advanced language models like GPT-3, GPT-4, and similar architectures to interact with users, automate processes, and solve complex problems across different domains.\n",
            "\n",
            "The concept of LLM-based agents started gaining significant attention around 2020-2021, as large language models became more powerful and accessible. The release of OpenAI's GPT-3 in June 2020 marked a major milestone, showcasing the potential of LLMs to be integrated into autonomous agents. Since then, the development and deployment of LLM-based agents have rapidly expanded, becoming a prominent area of research and application in artificial intelligence.\n",
            "\n",
            "Would you like more detailed information on the history, specific applications, or recent advancements in LLM-based agents?\n",
            "\n",
            "\n",
            "\n"
          ]
        }
      ],
      "source": [
        "for pattern in patterns:\n",
        "  what_is_string = f\"What is {pattern} and when did it break onto the scene??\"\n",
        "  inputs = {\"messages\" : [HumanMessage(content=what_is_string)]}\n",
        "  messages = agent_with_helpfulness_check.invoke(inputs)\n",
        "  print(messages[\"messages\"][-1].content)\n",
        "  print(\"\\n\\n\")"
      ]
    }
  ],
  "metadata": {
    "colab": {
      "provenance": []
    },
    "kernelspec": {
      "display_name": ".venv",
      "language": "python",
      "name": "python3"
    },
    "language_info": {
      "codemirror_mode": {
        "name": "ipython",
        "version": 3
      },
      "file_extension": ".py",
      "mimetype": "text/x-python",
      "name": "python",
      "nbconvert_exporter": "python",
      "pygments_lexer": "ipython3",
      "version": "3.13.3"
    }
  },
  "nbformat": 4,
  "nbformat_minor": 0
}
