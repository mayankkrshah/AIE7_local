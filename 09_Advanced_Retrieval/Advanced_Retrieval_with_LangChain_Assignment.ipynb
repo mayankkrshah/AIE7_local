{
 "cells": [
  {
   "cell_type": "markdown",
   "metadata": {},
   "source": [
    "## 📊 Final Analysis: Best Retriever for Loan Complaint Data\n",
    "\n",
    "Based on our comprehensive evaluation using Ragas metrics and LangSmith cost tracking, here's the complete analysis:"
   ]
  },
  {
   "cell_type": "markdown",
   "metadata": {
    "id": "e-IqJAMkwnCF"
   },
   "source": [
    "# Advanced Retrieval with LangChain\n",
    "\n",
    "In the following notebook, we'll explore various methods of advanced retrieval using LangChain!\n",
    "\n",
    "We'll touch on:\n",
    "\n",
    "- Naive Retrieval\n",
    "- Best-Matching 25 (BM25)\n",
    "- Multi-Query Retrieval\n",
    "- Parent-Document Retrieval\n",
    "- Contextual Compression (a.k.a. Rerank)\n",
    "- Ensemble Retrieval\n",
    "- Semantic chunking\n",
    "\n",
    "We'll also discuss how these methods impact performance on our set of documents with a simple RAG chain.\n",
    "\n",
    "There will be two breakout rooms:\n",
    "\n",
    "- 🤝 Breakout Room Part #1\n",
    "  - Task 1: Getting Dependencies!\n",
    "  - Task 2: Data Collection and Preparation\n",
    "  - Task 3: Setting Up QDrant!\n",
    "  - Task 4-10: Retrieval Strategies\n",
    "- 🤝 Breakout Room Part #2\n",
    "  - Activity: Evaluate with Ragas"
   ]
  },
  {
   "cell_type": "markdown",
   "metadata": {
    "id": "4rKP3hgHivpe"
   },
   "source": [
    "# 🤝 Breakout Room Part #1"
   ]
  },
  {
   "cell_type": "markdown",
   "metadata": {
    "id": "3xes8oT-xHN7"
   },
   "source": [
    "## Task 1: Getting Dependencies!\n",
    "\n",
    "We're going to need a few specific LangChain community packages, like OpenAI (for our [LLM](https://platform.openai.com/docs/models) and [Embedding Model](https://platform.openai.com/docs/guides/embeddings)) and Cohere (for our [Reranker](https://cohere.com/rerank))."
   ]
  },
  {
   "cell_type": "markdown",
   "metadata": {
    "id": "Z7OHJXzfyJyA"
   },
   "source": [
    "We'll also provide our OpenAI key, as well as our Cohere API key."
   ]
  },
  {
   "cell_type": "code",
   "execution_count": 1,
   "metadata": {
    "colab": {
     "base_uri": "https://localhost:8080/"
    },
    "id": "7LttlDQUYgSI",
    "outputId": "9dca95ab-4d02-4adf-ec3f-cb831326dc54"
   },
   "outputs": [],
   "source": [
    "import os\n",
    "import getpass\n",
    "\n",
    "# os.environ[\"OPENAI_API_KEY\"] = getpass.getpass(\"Enter your OpenAI API Key:\")\n",
    "os.environ[\"OPENAI_API_KEY\"] = os.getenv(\"OPENAI_API_KEY\")"
   ]
  },
  {
   "cell_type": "code",
   "execution_count": 2,
   "metadata": {
    "colab": {
     "base_uri": "https://localhost:8080/"
    },
    "id": "3iUahNiJyQbv",
    "outputId": "78bf06ef-2ee8-46c3-f73d-27958b4dd79b"
   },
   "outputs": [],
   "source": [
    "# os.environ[\"COHERE_API_KEY\"] = getpass.getpass(\"Cohere API Key:\")\n",
    "os.environ[\"COHERE_API_KEY\"] = os.getenv(\"COHERE_API_KEY\")"
   ]
  },
  {
   "cell_type": "markdown",
   "metadata": {
    "id": "mw304iAFyRtl"
   },
   "source": [
    "## Task 2: Data Collection and Preparation\n",
    "\n",
    "We'll be using our Loan Data once again - this time the strutured data available through the CSV!"
   ]
  },
  {
   "cell_type": "markdown",
   "metadata": {
    "id": "A92NC2QZzCsi"
   },
   "source": [
    "### Data Preparation\n",
    "\n",
    "We want to make sure all our documents have the relevant metadata for the various retrieval strategies we're going to be applying today."
   ]
  },
  {
   "cell_type": "code",
   "execution_count": 3,
   "metadata": {
    "id": "GshBjVRJZ6p8"
   },
   "outputs": [],
   "source": [
    "from langchain_community.document_loaders.csv_loader import CSVLoader\n",
    "from datetime import datetime, timedelta\n",
    "\n",
    "loader = CSVLoader(\n",
    "    file_path=f\"./data/complaints.csv\",\n",
    "    metadata_columns=[\n",
    "      \"Date received\", \n",
    "      \"Product\", \n",
    "      \"Sub-product\", \n",
    "      \"Issue\", \n",
    "      \"Sub-issue\", \n",
    "      \"Consumer complaint narrative\", \n",
    "      \"Company public response\", \n",
    "      \"Company\", \n",
    "      \"State\", \n",
    "      \"ZIP code\", \n",
    "      \"Tags\", \n",
    "      \"Consumer consent provided?\", \n",
    "      \"Submitted via\", \n",
    "      \"Date sent to company\", \n",
    "      \"Company response to consumer\", \n",
    "      \"Timely response?\", \n",
    "      \"Consumer disputed?\", \n",
    "      \"Complaint ID\"\n",
    "    ]\n",
    ")\n",
    "\n",
    "loan_complaint_data = loader.load()\n",
    "\n",
    "for doc in loan_complaint_data:\n",
    "    doc.page_content = doc.metadata[\"Consumer complaint narrative\"]"
   ]
  },
  {
   "cell_type": "markdown",
   "metadata": {
    "id": "9gQphb6y0C0S"
   },
   "source": [
    "Let's look at an example document to see if everything worked as expected!"
   ]
  },
  {
   "cell_type": "code",
   "execution_count": 4,
   "metadata": {
    "colab": {
     "base_uri": "https://localhost:8080/"
    },
    "id": "PkUkCf7DaMiq",
    "outputId": "e90bd5da-1d87-423b-838a-cb6efc16b199"
   },
   "outputs": [
    {
     "data": {
      "text/plain": [
       "Document(metadata={'source': './data/complaints.csv', 'row': 0, 'Date received': '03/27/25', 'Product': 'Student loan', 'Sub-product': 'Federal student loan servicing', 'Issue': 'Dealing with your lender or servicer', 'Sub-issue': 'Trouble with how payments are being handled', 'Consumer complaint narrative': \"The federal student loan COVID-19 forbearance program ended in XX/XX/XXXX. However, payments were not re-amortized on my federal student loans currently serviced by Nelnet until very recently. The new payment amount that is effective starting with the XX/XX/XXXX payment will nearly double my payment from {$180.00} per month to {$360.00} per month. I'm fortunate that my current financial position allows me to be able to handle the increased payment amount, but I am sure there are likely many borrowers who are not in the same position. The re-amortization should have occurred once the forbearance ended to reduce the impact to borrowers.\", 'Company public response': 'None', 'Company': 'Nelnet, Inc.', 'State': 'IL', 'ZIP code': '60030', 'Tags': 'None', 'Consumer consent provided?': 'Consent provided', 'Submitted via': 'Web', 'Date sent to company': '03/27/25', 'Company response to consumer': 'Closed with explanation', 'Timely response?': 'Yes', 'Consumer disputed?': 'N/A', 'Complaint ID': '12686613'}, page_content=\"The federal student loan COVID-19 forbearance program ended in XX/XX/XXXX. However, payments were not re-amortized on my federal student loans currently serviced by Nelnet until very recently. The new payment amount that is effective starting with the XX/XX/XXXX payment will nearly double my payment from {$180.00} per month to {$360.00} per month. I'm fortunate that my current financial position allows me to be able to handle the increased payment amount, but I am sure there are likely many borrowers who are not in the same position. The re-amortization should have occurred once the forbearance ended to reduce the impact to borrowers.\")"
      ]
     },
     "execution_count": 4,
     "metadata": {},
     "output_type": "execute_result"
    }
   ],
   "source": [
    "loan_complaint_data[0]"
   ]
  },
  {
   "cell_type": "markdown",
   "metadata": {
    "id": "lWaQpdHl0Gzc"
   },
   "source": [
    "## Task 3: Setting up QDrant!\n",
    "\n",
    "Now that we have our documents, let's create a QDrant VectorStore with the collection name \"LoanComplaints\".\n",
    "\n",
    "We'll leverage OpenAI's [`text-embedding-3-small`](https://openai.com/blog/new-embedding-models-and-api-updates) because it's a very powerful (and low-cost) embedding model.\n",
    "\n",
    "> NOTE: We'll be creating additional vectorstores where necessary, but this pattern is still extremely useful."
   ]
  },
  {
   "cell_type": "code",
   "execution_count": 5,
   "metadata": {
    "id": "NT8ihRJbYmMT"
   },
   "outputs": [],
   "source": [
    "from langchain_community.vectorstores import Qdrant\n",
    "from langchain_openai import OpenAIEmbeddings\n",
    "\n",
    "embeddings = OpenAIEmbeddings(model=\"text-embedding-3-small\")\n",
    "\n",
    "vectorstore = Qdrant.from_documents(\n",
    "    loan_complaint_data,\n",
    "    embeddings,\n",
    "    location=\":memory:\",\n",
    "    collection_name=\"LoanComplaints\"\n",
    ")"
   ]
  },
  {
   "cell_type": "markdown",
   "metadata": {
    "id": "-x2SS4Rh0hiN"
   },
   "source": [
    "## Task 4: Naive RAG Chain\n",
    "\n",
    "Since we're focusing on the \"R\" in RAG today - we'll create our Retriever first."
   ]
  },
  {
   "cell_type": "markdown",
   "metadata": {
    "id": "NEH7X5Ai08FH"
   },
   "source": [
    "### R - Retrieval\n",
    "\n",
    "This naive retriever will simply look at each review as a document, and use cosine-similarity to fetch the 10 most relevant documents.\n",
    "\n",
    "> NOTE: We're choosing `10` as our `k` here to provide enough documents for our reranking process later"
   ]
  },
  {
   "cell_type": "code",
   "execution_count": 6,
   "metadata": {
    "id": "GFDPrNBtb72o"
   },
   "outputs": [],
   "source": [
    "naive_retriever = vectorstore.as_retriever(search_kwargs={\"k\" : 10})"
   ]
  },
  {
   "cell_type": "markdown",
   "metadata": {
    "id": "MbBhyQjz06dx"
   },
   "source": [
    "### A - Augmented\n",
    "\n",
    "We're going to go with a standard prompt for our simple RAG chain today! Nothing fancy here, we want this to mostly be about the Retrieval process."
   ]
  },
  {
   "cell_type": "code",
   "execution_count": 7,
   "metadata": {
    "id": "7uSz-Dbqcoki"
   },
   "outputs": [],
   "source": [
    "from langchain_core.prompts import ChatPromptTemplate\n",
    "\n",
    "RAG_TEMPLATE = \"\"\"\\\n",
    "You are a helpful and kind assistant. Use the context provided below to answer the question.\n",
    "\n",
    "If you do not know the answer, or are unsure, say you don't know.\n",
    "\n",
    "Query:\n",
    "{question}\n",
    "\n",
    "Context:\n",
    "{context}\n",
    "\"\"\"\n",
    "\n",
    "rag_prompt = ChatPromptTemplate.from_template(RAG_TEMPLATE)"
   ]
  },
  {
   "cell_type": "markdown",
   "metadata": {
    "id": "BlRzpb231GGJ"
   },
   "source": [
    "### G - Generation\n",
    "\n",
    "We're going to leverage `gpt-4.1-nano` as our LLM today, as - again - we want this to largely be about the Retrieval process."
   ]
  },
  {
   "cell_type": "code",
   "execution_count": 8,
   "metadata": {
    "id": "c-1t9H60dJLg"
   },
   "outputs": [],
   "source": [
    "from langchain_openai import ChatOpenAI\n",
    "\n",
    "chat_model = ChatOpenAI(model=\"gpt-4.1-nano\")"
   ]
  },
  {
   "cell_type": "markdown",
   "metadata": {
    "id": "mg3QRGzA1M2x"
   },
   "source": [
    "### LCEL RAG Chain\n",
    "\n",
    "We're going to use LCEL to construct our chain.\n",
    "\n",
    "> NOTE: This chain will be exactly the same across the various examples with the exception of our Retriever!"
   ]
  },
  {
   "cell_type": "code",
   "execution_count": 9,
   "metadata": {
    "id": "0bvstS7mdOW3"
   },
   "outputs": [],
   "source": [
    "from langchain_core.runnables import RunnablePassthrough\n",
    "from operator import itemgetter\n",
    "from langchain_core.output_parsers import StrOutputParser\n",
    "\n",
    "naive_retrieval_chain = (\n",
    "    # INVOKE CHAIN WITH: {\"question\" : \"<<SOME USER QUESTION>>\"}\n",
    "    # \"question\" : populated by getting the value of the \"question\" key\n",
    "    # \"context\"  : populated by getting the value of the \"question\" key and chaining it into the base_retriever\n",
    "    {\"context\": itemgetter(\"question\") | naive_retriever, \"question\": itemgetter(\"question\")}\n",
    "    # \"context\"  : is assigned to a RunnablePassthrough object (will not be called or considered in the next step)\n",
    "    #              by getting the value of the \"context\" key from the previous step\n",
    "    | RunnablePassthrough.assign(context=itemgetter(\"context\"))\n",
    "    # \"response\" : the \"context\" and \"question\" values are used to format our prompt object and then piped\n",
    "    #              into the LLM and stored in a key called \"response\"\n",
    "    # \"context\"  : populated by getting the value of the \"context\" key from the previous step\n",
    "    | {\"response\": rag_prompt | chat_model, \"context\": itemgetter(\"context\")}\n",
    ")"
   ]
  },
  {
   "cell_type": "markdown",
   "metadata": {
    "id": "izKujhNb1ZG8"
   },
   "source": [
    "Let's see how this simple chain does on a few different prompts.\n",
    "\n",
    "> NOTE: You might think that we've cherry picked prompts that showcase the individual skill of each of the retrieval strategies - you'd be correct!"
   ]
  },
  {
   "cell_type": "code",
   "execution_count": 10,
   "metadata": {
    "colab": {
     "base_uri": "https://localhost:8080/",
     "height": 36
    },
    "id": "LI-5ueEddku9",
    "outputId": "7f3cec18-5f4e-41bb-cf71-51ba0be5388e"
   },
   "outputs": [
    {
     "data": {
      "text/plain": [
       "\"Based on the provided complaints, the most common issues with student loans appear to be related to mismanagement and errors by loan servicers, including:\\n\\n- Errors in loan balances and account information.\\n- Incorrect reporting of loan status and late payments.\\n- Problems applying payments correctly, especially toward principal versus interest.\\n- Lack of communication or notifications about transfer of loan servicers.\\n- Unauthorized or unnotified transfer of loans.\\n- Difficulty in obtaining accurate information, leading to costs and credit impacts.\\n- Disputes over interest capitalization, wrong balances, and handling of forbearance.\\n\\nOverall, a predominant theme is that issues with loan servicing, such as errors, misapplication of payments, and lack of transparent communication, are most commonly reported problems.\\n\\nLet me know if you'd like more details or insights!\""
      ]
     },
     "execution_count": 10,
     "metadata": {},
     "output_type": "execute_result"
    }
   ],
   "source": [
    "naive_retrieval_chain.invoke({\"question\" : \"What is the most common issue with loans?\"})[\"response\"].content"
   ]
  },
  {
   "cell_type": "code",
   "execution_count": 11,
   "metadata": {
    "colab": {
     "base_uri": "https://localhost:8080/",
     "height": 36
    },
    "id": "43zdcdUydtXh",
    "outputId": "db874e67-f568-4ed1-b863-b7c17b387052"
   },
   "outputs": [
    {
     "data": {
      "text/plain": [
       "'Based on the provided data, yes, some complaints did not get handled in a timely manner. Specifically, the complaint filed with MOHELA (Complaint ID: 12709087) on 03/28/25 was marked as \"Not timely,\" indicating it was delayed beyond the expected response time. Additionally, multiple complaints reflect delays or failures in resolution or response, such as the one with Maximus Federal Services, Inc. (Complaint ID: 13160766), which was marked as \"Yes\" for timely response, but the issues described suggest ongoing unresolved problems. Overall, at least one complaint was explicitly noted as not handled promptly.'"
      ]
     },
     "execution_count": 11,
     "metadata": {},
     "output_type": "execute_result"
    }
   ],
   "source": [
    "naive_retrieval_chain.invoke({\"question\" : \"Did any complaints not get handled in a timely manner?\"})[\"response\"].content"
   ]
  },
  {
   "cell_type": "code",
   "execution_count": 12,
   "metadata": {
    "colab": {
     "base_uri": "https://localhost:8080/",
     "height": 70
    },
    "id": "lpG6rlvvvKFq",
    "outputId": "a1b330b0-628e-41be-d829-9c1d55e781f5"
   },
   "outputs": [
    {
     "data": {
      "text/plain": [
       "'People failed to pay back their loans primarily due to a combination of factors highlighted in the complaints:\\n\\n1. **Lack of clear communication and notification:** Many borrowers were not properly informed about when their repayment obligations would resume, transfer of loan servicers, or changes in payment requirements. For example, several complainants reported not receiving notices about loan transfers or the start of repayment, leading to unintentional delinquency and negative credit impacts.\\n\\n2. **Compounding interest and unfavorable repayment options:** Borrowers faced growing debts because interest continued to accrue even during forbearance or deferment periods. Lowering monthly payments often resulted in interest compounding, which increased the total debt over time, making it difficult or impossible to pay off the loans fully.\\n\\n3. **Inadequate or confusing loan management practices:** Complaints indicate mismanagement by loan servicers, including failing to provide detailed breakdowns of loan balances, interest calculations, or appropriate options to pay down principal faster. Some borrowers were placed repeatedly on long-term forbearance, which prolonged debt buildup instead of resolving it.\\n\\n4. **Financial hardships and economic factors:** Many borrowers experienced financial hardships, stagnant wages, or unemployment, which made it difficult to increase payments or pay off loans, especially when their options were limited or were extended by policies that did not address individual circumstances.\\n\\n5. **Issues with loan reporting and data mishandling:** Some complaints mention incorrect reporting of late payments, delinquency, or transfer of loans without proper notification, further impairing credit scores and increasing the perceived difficulty of repayment.\\n\\nIn summary, failure to pay back loans was often due to a combination of insufficient communication, interest accumulation during deferments, mismanagement by servicers, and economic hardships that made meeting repayment obligations challenging.'"
      ]
     },
     "execution_count": 12,
     "metadata": {},
     "output_type": "execute_result"
    }
   ],
   "source": [
    "naive_retrieval_chain.invoke({\"question\" : \"Why did people fail to pay back their loans?\"})[\"response\"].content"
   ]
  },
  {
   "cell_type": "markdown",
   "metadata": {
    "id": "jsbfQmbr1leg"
   },
   "source": [
    "Overall, this is not bad! Let's see if we can make it better!"
   ]
  },
  {
   "cell_type": "markdown",
   "metadata": {
    "id": "Ft1vt8HPR16w"
   },
   "source": [
    "## Task 5: Best-Matching 25 (BM25) Retriever\n",
    "\n",
    "Taking a step back in time - [BM25](https://www.nowpublishers.com/article/Details/INR-019) is based on [Bag-Of-Words](https://en.wikipedia.org/wiki/Bag-of-words_model) which is a sparse representation of text.\n",
    "\n",
    "In essence, it's a way to compare how similar two pieces of text are based on the words they both contain.\n",
    "\n",
    "This retriever is very straightforward to set-up! Let's see it happen down below!\n"
   ]
  },
  {
   "cell_type": "code",
   "execution_count": 13,
   "metadata": {
    "id": "qdF4wuj5R-cG"
   },
   "outputs": [],
   "source": [
    "from langchain_community.retrievers import BM25Retriever\n",
    "\n",
    "bm25_retriever = BM25Retriever.from_documents(loan_complaint_data, )"
   ]
  },
  {
   "cell_type": "markdown",
   "metadata": {
    "id": "KIjJlBQ8drKH"
   },
   "source": [
    "We'll construct the same chain - only changing the retriever."
   ]
  },
  {
   "cell_type": "code",
   "execution_count": 14,
   "metadata": {
    "id": "WR15EQG7SLuw"
   },
   "outputs": [],
   "source": [
    "bm25_retrieval_chain = (\n",
    "    {\"context\": itemgetter(\"question\") | bm25_retriever, \"question\": itemgetter(\"question\")}\n",
    "    | RunnablePassthrough.assign(context=itemgetter(\"context\"))\n",
    "    | {\"response\": rag_prompt | chat_model, \"context\": itemgetter(\"context\")}\n",
    ")"
   ]
  },
  {
   "cell_type": "markdown",
   "metadata": {
    "id": "0Gi-yXCDdvJk"
   },
   "source": [
    "Let's look at the responses!"
   ]
  },
  {
   "cell_type": "code",
   "execution_count": 15,
   "metadata": {
    "colab": {
     "base_uri": "https://localhost:8080/",
     "height": 53
    },
    "id": "oY9qzmm3SOrF",
    "outputId": "4d4f450f-5978-460f-f242-b32407868353"
   },
   "outputs": [
    {
     "data": {
      "text/plain": [
       "\"Based on the provided context, the most common issue with loans appears to be problems related to dealing with lenders or servicers. Specifically, issues such as incorrect or inadequate information about the loan (e.g., loan balance, repayment plans, interest calculations), difficulties in applying payments correctly (e.g., applying additional funds to principal), and disputes over fees or charges seem prevalent. Many complaints involve the servicer's handling of loan details, misrepresentation or bad information provided to borrowers, and challenges in managing or understanding loan terms.\""
      ]
     },
     "execution_count": 15,
     "metadata": {},
     "output_type": "execute_result"
    }
   ],
   "source": [
    "bm25_retrieval_chain.invoke({\"question\" : \"What is the most common issue with loans?\"})[\"response\"].content"
   ]
  },
  {
   "cell_type": "code",
   "execution_count": 16,
   "metadata": {
    "colab": {
     "base_uri": "https://localhost:8080/",
     "height": 36
    },
    "id": "igfinyneSQkh",
    "outputId": "9752d4a9-dd16-45b1-f63f-a76e93a05eb3"
   },
   "outputs": [
    {
     "data": {
      "text/plain": [
       "\"Based on the provided complaints, all of the responses to the complaints indicate they were handled in a timely manner. Specifically, each complaint shows a 'Timely response?' status of 'Yes.' Therefore, there is no evidence in this data that any complaints did not get handled in a timely manner.\""
      ]
     },
     "execution_count": 16,
     "metadata": {},
     "output_type": "execute_result"
    }
   ],
   "source": [
    "bm25_retrieval_chain.invoke({\"question\" : \"Did any complaints not get handled in a timely manner?\"})[\"response\"].content"
   ]
  },
  {
   "cell_type": "code",
   "execution_count": 17,
   "metadata": {
    "colab": {
     "base_uri": "https://localhost:8080/",
     "height": 53
    },
    "id": "w0H7pV_USSMQ",
    "outputId": "bdead654-3109-4143-9a30-e1d6ca8dc534"
   },
   "outputs": [
    {
     "data": {
      "text/plain": [
       "'People failed to pay back their loans for various reasons, including problems with their payment plans, inadequate communication from lenders or servicers, errors or delays in processing forbearances or deferments, and issues related to unfair or deceptive practices by loan companies. Some specific challenges noted in the complaints include being steered into wrong types of forbearances, unresponsive loan servicers, automatic payments being canceled without notification, and difficulties in resolving billing errors or understanding their repayment obligations. These issues can lead to missed payments, account delinquencies, and negative impacts on credit scores.'"
      ]
     },
     "execution_count": 17,
     "metadata": {},
     "output_type": "execute_result"
    }
   ],
   "source": [
    "bm25_retrieval_chain.invoke({\"question\" : \"Why did people fail to pay back their loans?\"})[\"response\"].content"
   ]
  },
  {
   "cell_type": "markdown",
   "metadata": {
    "id": "zvg5xHaUdxCl"
   },
   "source": [
    "It's not clear that this is better or worse, if only we had a way to test this (SPOILERS: We do, the second half of the notebook will cover this)"
   ]
  },
  {
   "cell_type": "markdown",
   "metadata": {},
   "source": [
    "#### ❓ Question #1:\n",
    "\n",
    "Give an example query where BM25 is better than embeddings and justify your answer.\n",
    "\n",
    "### ✅ Answer:\n",
    "\n",
    "BM25 (Best Matching 25) excels over embedding-based retrieval when dealing with queries that require exact keyword matching, specific identifiers, or rare/technical terms. Here's a detailed example:\n",
    "\n",
    "**Example Query:** `\"Complaint ID 12686613 Nelnet forbearance XX/XX/XXXX\"`\n",
    "\n",
    "### Detailed Justification:\n",
    "\n",
    "**1. Why BM25 Performs Better:**\n",
    "- **Exact Term Matching**: BM25 uses term frequency (TF) and inverse document frequency (IDF) to find documents containing the exact terms. It will give high scores to documents containing \"12686613\", \"Nelnet\", and \"forbearance\".\n",
    "- **Rare Term Importance**: The complaint ID \"12686613\" is extremely rare (appears in only one document), so BM25's IDF component gives it very high weight.\n",
    "- **No Semantic Confusion**: BM25 doesn't try to find \"similar\" complaint IDs - it looks for the exact match.\n",
    "\n",
    "**2. Why Embeddings Struggle:**\n",
    "- **Number Representation**: Embedding models often poorly represent specific numbers like \"12686613\". During training, they learn semantic relationships, not memorize specific IDs.\n",
    "- **Semantic Averaging**: Embeddings create a dense vector representing the \"meaning\" of the entire query, which can dilute the importance of the specific ID.\n",
    "- **No Exact Match Guarantee**: Even if semantically similar, embeddings might return complaints about other Nelnet issues or different forbearance cases, missing the specific requested complaint.\n",
    "\n",
    "**3. Real-World Example from the Dataset:**\n",
    "When searching for this specific complaint, BM25 would directly retrieve:\n",
    "```\n",
    "\"The federal student loan COVID-19 forbearance program ended in XX/XX/XXXX. However, payments were not re-amortized on my federal student loans currently serviced by Nelnet...\"\n",
    "```\n",
    "\n",
    "While embeddings might return semantically related but different complaints about:\n",
    "- Other Nelnet payment issues (different complaint IDs)\n",
    "- Other forbearance problems (different companies)\n",
    "- General payment re-amortization issues\n",
    "\n",
    "**4. When to Use Each:**\n",
    "- **Use BM25**: Legal document search, finding specific case numbers, product SKUs, error codes, technical documentation with specific terms\n",
    "- **Use Embeddings**: Conceptual queries like \"why are people unhappy with their loans\", finding similar problems regardless of specific wording"
   ]
  },
  {
   "cell_type": "markdown",
   "metadata": {
    "id": "Q-dcbFn2vpZF"
   },
   "source": [
    "## Task 6: Contextual Compression (Using Reranking)\n",
    "\n",
    "Contextual Compression is a fairly straightforward idea: We want to \"compress\" our retrieved context into just the most useful bits.\n",
    "\n",
    "There are a few ways we can achieve this - but we're going to look at a specific example called reranking.\n",
    "\n",
    "The basic idea here is this:\n",
    "\n",
    "- We retrieve lots of documents that are very likely related to our query vector\n",
    "- We \"compress\" those documents into a smaller set of *more* related documents using a reranking algorithm.\n",
    "\n",
    "We'll be leveraging Cohere's Rerank model for our reranker today!\n",
    "\n",
    "All we need to do is the following:\n",
    "\n",
    "- Create a basic retriever\n",
    "- Create a compressor (reranker, in this case)\n",
    "\n",
    "That's it!\n",
    "\n",
    "Let's see it in the code below!"
   ]
  },
  {
   "cell_type": "code",
   "execution_count": 18,
   "metadata": {
    "id": "psHvO2K1v_ZQ"
   },
   "outputs": [],
   "source": [
    "from langchain.retrievers.contextual_compression import ContextualCompressionRetriever\n",
    "from langchain_cohere import CohereRerank\n",
    "\n",
    "compressor = CohereRerank(model=\"rerank-v3.5\")\n",
    "compression_retriever = ContextualCompressionRetriever(\n",
    "    base_compressor=compressor, base_retriever=naive_retriever\n",
    ")"
   ]
  },
  {
   "cell_type": "markdown",
   "metadata": {
    "id": "_TA9RB2x-j7P"
   },
   "source": [
    "Let's create our chain again, and see how this does!"
   ]
  },
  {
   "cell_type": "code",
   "execution_count": 19,
   "metadata": {
    "id": "1BXqmxvHwX6T"
   },
   "outputs": [],
   "source": [
    "contextual_compression_retrieval_chain = (\n",
    "    {\"context\": itemgetter(\"question\") | compression_retriever, \"question\": itemgetter(\"question\")}\n",
    "    | RunnablePassthrough.assign(context=itemgetter(\"context\"))\n",
    "    | {\"response\": rag_prompt | chat_model, \"context\": itemgetter(\"context\")}\n",
    ")"
   ]
  },
  {
   "cell_type": "code",
   "execution_count": 20,
   "metadata": {
    "colab": {
     "base_uri": "https://localhost:8080/",
     "height": 36
    },
    "id": "V3iGpokswcBb",
    "outputId": "f15d2aa1-5e8b-417d-f623-eb835d072e59"
   },
   "outputs": [
    {
     "data": {
      "text/plain": [
       "'Based on the provided complaints, a common issue with loans, particularly student loans, is dealing with the lender or servicer, which often involves errors or misconduct. Specific problems include receiving bad or incorrect information about the loan, errors in loan balances, misapplied payments, wrongful denials of payment plans, lack of communication or documentation, unauthorized transfers of loans, and mishandling of personal information. \\n\\nTherefore, the most common issue appears to be problems related to the administration and communication by lenders or servicers, leading to errors and disputes regarding loan balances, payment information, and privacy concerns.'"
      ]
     },
     "execution_count": 20,
     "metadata": {},
     "output_type": "execute_result"
    }
   ],
   "source": [
    "contextual_compression_retrieval_chain.invoke({\"question\" : \"What is the most common issue with loans?\"})[\"response\"].content"
   ]
  },
  {
   "cell_type": "code",
   "execution_count": 21,
   "metadata": {
    "colab": {
     "base_uri": "https://localhost:8080/",
     "height": 53
    },
    "id": "7u_k0i4OweUd",
    "outputId": "be5fccc8-2352-4189-c524-bbeaa28cf799"
   },
   "outputs": [
    {
     "data": {
      "text/plain": [
       "'Based on the provided context, at least one complaint was handled in a timely manner, as indicated by the responses stating \"Timely response? Yes.\" However, there is also a complaint that has been open for nearly 18 months without resolution, which suggests that some complaints may not have been handled in a timely manner. Overall, while some complaints were addressed promptly, others experienced significant delays.'"
      ]
     },
     "execution_count": 21,
     "metadata": {},
     "output_type": "execute_result"
    }
   ],
   "source": [
    "contextual_compression_retrieval_chain.invoke({\"question\" : \"Did any complaints not get handled in a timely manner?\"})[\"response\"].content"
   ]
  },
  {
   "cell_type": "code",
   "execution_count": 22,
   "metadata": {
    "colab": {
     "base_uri": "https://localhost:8080/",
     "height": 70
    },
    "id": "zn1EqaGqweXN",
    "outputId": "42bc5972-4164-46eb-f49d-4272f39bb89b"
   },
   "outputs": [
    {
     "data": {
      "text/plain": [
       "'People failed to pay back their loans primarily due to a combination of lack of understanding about the repayment requirements, insufficient communication from lenders or servicers, and the increasing burden of interest. Many borrowers were unaware that they would need to repay their loans and did not receive clear or accurate information about repayment obligations, interest accrual, or account status. Additionally, some experienced issues such as incorrect account information, lack of notifications about due payments, and difficulty navigating the online systems. The accumulation of interest during deferment or forbearance periods, combined with limited options to effectively manage or reduce the debt, further contributed to the inability to repay the loans fully. Overall, inadequate information, poor communication, and the growing interest expenses led to many borrowers struggling to meet their loan repayment obligations.'"
      ]
     },
     "execution_count": 22,
     "metadata": {},
     "output_type": "execute_result"
    }
   ],
   "source": [
    "contextual_compression_retrieval_chain.invoke({\"question\" : \"Why did people fail to pay back their loans?\"})[\"response\"].content"
   ]
  },
  {
   "cell_type": "markdown",
   "metadata": {
    "id": "OEbT0g2S-mZ4"
   },
   "source": [
    "We'll need to rely on something like Ragas to help us get a better sense of how this is performing overall - but it \"feels\" better!"
   ]
  },
  {
   "cell_type": "markdown",
   "metadata": {
    "id": "qqbghrBEQNn5"
   },
   "source": [
    "## Task 7: Multi-Query Retriever\n",
    "\n",
    "Typically in RAG we have a single query - the one provided by the user.\n",
    "\n",
    "What if we had....more than one query!\n",
    "\n",
    "In essence, a Multi-Query Retriever works by:\n",
    "\n",
    "1. Taking the original user query and creating `n` number of new user queries using an LLM.\n",
    "2. Retrieving documents for each query.\n",
    "3. Using all unique retrieved documents as context\n",
    "\n",
    "So, how is it to set-up? Not bad! Let's see it down below!\n",
    "\n"
   ]
  },
  {
   "cell_type": "code",
   "execution_count": 23,
   "metadata": {
    "id": "pfM26ReXQjzU"
   },
   "outputs": [],
   "source": [
    "from langchain.retrievers.multi_query import MultiQueryRetriever\n",
    "\n",
    "multi_query_retriever = MultiQueryRetriever.from_llm(\n",
    "    retriever=naive_retriever, llm=chat_model\n",
    ")"
   ]
  },
  {
   "cell_type": "code",
   "execution_count": 24,
   "metadata": {
    "id": "1vRc129jQ5WW"
   },
   "outputs": [],
   "source": [
    "multi_query_retrieval_chain = (\n",
    "    {\"context\": itemgetter(\"question\") | multi_query_retriever, \"question\": itemgetter(\"question\")}\n",
    "    | RunnablePassthrough.assign(context=itemgetter(\"context\"))\n",
    "    | {\"response\": rag_prompt | chat_model, \"context\": itemgetter(\"context\")}\n",
    ")"
   ]
  },
  {
   "cell_type": "code",
   "execution_count": 25,
   "metadata": {
    "colab": {
     "base_uri": "https://localhost:8080/",
     "height": 53
    },
    "id": "CGgNuOb3Q3M9",
    "outputId": "c5273ecf-da35-40b8-fbdb-0f8beab425f7"
   },
   "outputs": [
    {
     "data": {
      "text/plain": [
       "'The most common issue with loans, based on the provided complaints, appears to be problems related to dealing with lenders or servicers, including errors in loan balances, misapplied payments, incorrect or bad information about loans, and poor communication. Many complaints also highlight issues like unauthorized transfers of loans, difficulty in obtaining accurate loan details, and failures in providing proper guidance or support.\\n\\nIn summary, the most frequent issue is **\"Dealing with your lender or servicer,\"** particularly involving errors, mismanagement, misinformation, and inadequate customer service.'"
      ]
     },
     "execution_count": 25,
     "metadata": {},
     "output_type": "execute_result"
    }
   ],
   "source": [
    "multi_query_retrieval_chain.invoke({\"question\" : \"What is the most common issue with loans?\"})[\"response\"].content"
   ]
  },
  {
   "cell_type": "code",
   "execution_count": 26,
   "metadata": {
    "colab": {
     "base_uri": "https://localhost:8080/",
     "height": 36
    },
    "id": "aAlSthxrRDBC",
    "outputId": "230ff807-23ae-4d25-8d11-cfdbed0b77cb"
   },
   "outputs": [
    {
     "data": {
      "text/plain": [
       "'Based on the provided complaints data, yes, there are multiple complaints indicating that complaints were not handled in a timely manner. Specifically, at least one complaint (Complaint ID: 12709087) explicitly states that the response was delayed by over 18 months without resolution, and another (Complaint ID: 12973003) mentions that it took over 2-3 weeks to resolve an issue. Additionally, many complaints mention delays, ongoing issues, and lack of response over extended periods, suggesting that some complaints did not get handled promptly.'"
      ]
     },
     "execution_count": 26,
     "metadata": {},
     "output_type": "execute_result"
    }
   ],
   "source": [
    "multi_query_retrieval_chain.invoke({\"question\" : \"Did any complaints not get handled in a timely manner?\"})[\"response\"].content"
   ]
  },
  {
   "cell_type": "code",
   "execution_count": 27,
   "metadata": {
    "colab": {
     "base_uri": "https://localhost:8080/",
     "height": 88
    },
    "id": "Uv1mpCK8REs4",
    "outputId": "00fbc22a-ed9b-4613-9695-0b179e3f8369"
   },
   "outputs": [
    {
     "data": {
      "text/plain": [
       "'People failed to pay back their loans primarily due to a combination of factors highlighted in the complaints:\\n\\n1. **Lack of Clear Information and Communication:** Many borrowers were not adequately informed about their repayment obligations, options for deferment, forbearance, income-driven repayment plans, or loan forgiveness programs. This often resulted in players being unaware of when payments were due or the consequences of missed payments.\\n\\n2. **Interest Accumulation and Capitalization:** Borrowers were often placed into forbearance without understanding that interest would continue to accrue and compound, increasing the total amount owed over time. Some complaints describe loans ballooning due to unintentional interest capitalization.\\n\\n3. **Mismanagement and Errors by Servicers:** Several complaints mention errors, misapplied payments, wrong account balances, or incorrect reporting to credit bureaus, which can hinder borrowers’ ability to repay properly.\\n\\n4. **Steering and Coercive Practices:** Borrowers reported being pushed into long-term forbearances or consolidations without being offered or informed about alternative options like income-driven repayment or rehabilitation that could have helped manage their debt more effectively.\\n\\n5. **Financial Hardship and Economic Factors:** Many borrowers faced genuine financial hardships, job instability, or unexpected events like medical emergencies or homelessness, making regular payments difficult or impossible.\\n\\n6. **Systemic Failures:** There are indications of systemic issues, such as poor record-keeping, lack of transparency, and intentional or unintentional misinformation, which prevented borrowers from making informed decisions.\\n\\nIn summary, failure to repay was often due to a complex mix of inadequate information, aggressive loan servicing practices, compounding interest, and genuine financial hardships, which together prevented borrowers from managing or paying off their loans effectively.'"
      ]
     },
     "execution_count": 27,
     "metadata": {},
     "output_type": "execute_result"
    }
   ],
   "source": [
    "multi_query_retrieval_chain.invoke({\"question\" : \"Why did people fail to pay back their loans?\"})[\"response\"].content"
   ]
  },
  {
   "cell_type": "markdown",
   "metadata": {},
   "source": [
    "#### ❓ Question #2:\n",
    "\n",
    "Explain how generating multiple reformulations of a user query can improve recall.\n",
    "\n",
    "### ✅ Answer:\n",
    "\n",
    "Generating multiple reformulations of a user query significantly improves recall by capturing different ways the same information might be expressed in the documents. Here's a detailed explanation:\n",
    "\n",
    "### What is Multi-Query Retrieval?\n",
    "\n",
    "Multi-Query Retrieval works by:\n",
    "1. Taking the original user query\n",
    "2. Using an LLM to generate 3-5 alternative versions of the same question\n",
    "3. Running retrieval for each query variant\n",
    "4. Combining all unique retrieved documents\n",
    "\n",
    "### How It Improves Recall:\n",
    "\n",
    "**1. Vocabulary Mismatch Problem:**\n",
    "- **Original Query**: \"Why did people fail to pay back their loans?\"\n",
    "- **Document Language**: Might use terms like \"default\", \"delinquency\", \"non-payment\", \"missed payments\", \"account past due\"\n",
    "- **Solution**: Multiple queries capture these variations\n",
    "\n",
    "**2. Example with Reformulations:**\n",
    "\n",
    "Original Query: **\"Why did people fail to pay back their loans?\"**\n",
    "\n",
    "LLM-Generated Reformulations:\n",
    "- \"What caused borrowers to default on their loans?\"\n",
    "- \"What are the reasons for loan delinquency?\"\n",
    "- \"Why couldn't consumers make their loan payments?\"\n",
    "- \"What led to non-payment of student loans?\"\n",
    "\n",
    "**3. How Each Query Finds Different Documents:**\n",
    "\n",
    "```python\n",
    "# Query 1: \"fail to pay back\" might retrieve:\n",
    "- Documents mentioning \"failure to repay\"\n",
    "- Documents about \"unable to pay back\"\n",
    "\n",
    "# Query 2: \"default\" might retrieve:\n",
    "- Legal documents using formal terminology\n",
    "- Documents about \"defaulted loans\"\n",
    "\n",
    "# Query 3: \"delinquency\" might retrieve:\n",
    "- Official reports using banking terminology\n",
    "- Documents about \"delinquent accounts\"\n",
    "\n",
    "# Query 4: \"couldn't make payments\" might retrieve:\n",
    "- Personal narratives using casual language\n",
    "- Documents about \"missed payments\"\n",
    "```\n",
    "\n",
    "**4. Real-World Impact on Recall:**\n",
    "\n",
    "From the loan complaints dataset:\n",
    "- **Single Query**: Might retrieve 10 documents mentioning \"fail to pay\"\n",
    "- **Multi-Query**: Could retrieve 25-30 unique documents by finding:\n",
    "  - Complaints using \"default\" (formal language)\n",
    "  - Complaints using \"can't afford\" (informal language)\n",
    "  - Complaints using \"delinquent\" (technical language)\n",
    "  - Complaints using \"behind on payments\" (colloquial language)\n",
    "\n",
    "**5. Mathematical Perspective:**\n",
    "\n",
    "If each query has 70% recall individually but captures slightly different document sets:\n",
    "- Single query recall: 70%\n",
    "- Multiple queries combined: Could achieve 85-95% recall due to union of results\n",
    "\n",
    "**6. Benefits:**\n",
    "- **Synonym Coverage**: Captures different ways of expressing the same concept\n",
    "- **Perspective Diversity**: Formal vs. informal language, technical vs. layman terms\n",
    "- **Context Variations**: Different phrasings reveal different aspects of the same issue\n",
    "- **Robustness**: Less sensitive to specific word choices in the original query\n",
    "\n",
    "**7. Trade-offs:**\n",
    "- **Increased Latency**: Multiple retrieval calls take more time\n",
    "- **Higher Computational Cost**: More embedding comparisons\n",
    "- **Potential Noise**: May retrieve some less relevant documents\n",
    "- **Deduplication Needed**: Same document might be retrieved multiple times"
   ]
  },
  {
   "cell_type": "markdown",
   "metadata": {
    "id": "EDEawBf_d_3G"
   },
   "source": [
    "## Task 8: Parent Document Retriever\n",
    "\n",
    "A \"small-to-big\" strategy - the Parent Document Retriever works based on a simple strategy:\n",
    "\n",
    "1. Each un-split \"document\" will be designated as a \"parent document\" (You could use larger chunks of document as well, but our data format allows us to consider the overall document as the parent chunk)\n",
    "2. Store those \"parent documents\" in a memory store (not a VectorStore)\n",
    "3. We will chunk each of those documents into smaller documents, and associate them with their respective parents, and store those in a VectorStore. We'll call those \"child chunks\".\n",
    "4. When we query our Retriever, we will do a similarity search comparing our query vector to the \"child chunks\".\n",
    "5. Instead of returning the \"child chunks\", we'll return their associated \"parent chunks\".\n",
    "\n",
    "Okay, maybe that was a few steps - but the basic idea is this:\n",
    "\n",
    "- Search for small documents\n",
    "- Return big documents\n",
    "\n",
    "The intuition is that we're likely to find the most relevant information by limiting the amount of semantic information that is encoded in each embedding vector - but we're likely to miss relevant surrounding context if we only use that information.\n",
    "\n",
    "Let's start by creating our \"parent documents\" and defining a `RecursiveCharacterTextSplitter`."
   ]
  },
  {
   "cell_type": "code",
   "execution_count": 28,
   "metadata": {
    "id": "qJ53JJuMd_ZH"
   },
   "outputs": [],
   "source": [
    "from langchain.retrievers import ParentDocumentRetriever\n",
    "from langchain.storage import InMemoryStore\n",
    "from langchain_text_splitters import RecursiveCharacterTextSplitter\n",
    "from qdrant_client import QdrantClient, models\n",
    "\n",
    "parent_docs = loan_complaint_data\n",
    "child_splitter = RecursiveCharacterTextSplitter(chunk_size=750)"
   ]
  },
  {
   "cell_type": "markdown",
   "metadata": {
    "id": "oOpXfVUH3gL3"
   },
   "source": [
    "We'll need to set up a new QDrant vectorstore - and we'll use another useful pattern to do so!\n",
    "\n",
    "> NOTE: We are manually defining our embedding dimension, you'll need to change this if you're using a different embedding model."
   ]
  },
  {
   "cell_type": "code",
   "execution_count": 29,
   "metadata": {
    "colab": {
     "base_uri": "https://localhost:8080/"
    },
    "id": "rzFc-_9HlGQ-",
    "outputId": "223662dd-c36f-42f7-d1b0-b086e571484e"
   },
   "outputs": [],
   "source": [
    "from langchain_qdrant import QdrantVectorStore\n",
    "\n",
    "client = QdrantClient(location=\":memory:\")\n",
    "\n",
    "client.create_collection(\n",
    "    collection_name=\"full_documents\",\n",
    "    vectors_config=models.VectorParams(size=1536, distance=models.Distance.COSINE)\n",
    ")\n",
    "\n",
    "parent_document_vectorstore = QdrantVectorStore(\n",
    "    collection_name=\"full_documents\", embedding=OpenAIEmbeddings(model=\"text-embedding-3-small\"), client=client\n",
    ")"
   ]
  },
  {
   "cell_type": "markdown",
   "metadata": {
    "id": "sf_g95FA3s6w"
   },
   "source": [
    "Now we can create our `InMemoryStore` that will hold our \"parent documents\" - and build our retriever!"
   ]
  },
  {
   "cell_type": "code",
   "execution_count": 30,
   "metadata": {
    "id": "BpWVjPf4fLUp"
   },
   "outputs": [],
   "source": [
    "store = InMemoryStore()\n",
    "\n",
    "parent_document_retriever = ParentDocumentRetriever(\n",
    "    vectorstore = parent_document_vectorstore,\n",
    "    docstore=store,\n",
    "    child_splitter=child_splitter,\n",
    ")"
   ]
  },
  {
   "cell_type": "markdown",
   "metadata": {
    "id": "KoYmSWfE32Zo"
   },
   "source": [
    "By default, this is empty as we haven't added any documents - let's add some now!"
   ]
  },
  {
   "cell_type": "code",
   "execution_count": 31,
   "metadata": {
    "id": "iQ2ZzfKigMZc"
   },
   "outputs": [],
   "source": [
    "parent_document_retriever.add_documents(parent_docs, ids=None)"
   ]
  },
  {
   "cell_type": "markdown",
   "metadata": {
    "id": "bI7Tip1335rE"
   },
   "source": [
    "We'll create the same chain we did before - but substitute our new `parent_document_retriever`."
   ]
  },
  {
   "cell_type": "code",
   "execution_count": 32,
   "metadata": {
    "id": "Qq_adt2KlSqp"
   },
   "outputs": [],
   "source": [
    "parent_document_retrieval_chain = (\n",
    "    {\"context\": itemgetter(\"question\") | parent_document_retriever, \"question\": itemgetter(\"question\")}\n",
    "    | RunnablePassthrough.assign(context=itemgetter(\"context\"))\n",
    "    | {\"response\": rag_prompt | chat_model, \"context\": itemgetter(\"context\")}\n",
    ")"
   ]
  },
  {
   "cell_type": "markdown",
   "metadata": {
    "id": "jNolUVQb4Apt"
   },
   "source": [
    "Let's give it a whirl!"
   ]
  },
  {
   "cell_type": "code",
   "execution_count": 33,
   "metadata": {
    "colab": {
     "base_uri": "https://localhost:8080/",
     "height": 70
    },
    "id": "TXB5i89Zly5W",
    "outputId": "94c240be-7c5b-4c58-9eee-56d93285a054"
   },
   "outputs": [
    {
     "data": {
      "text/plain": [
       "'The most common issue with loans, based on the provided complaints, appears to involve problems with federal student loan servicing, including errors in loan balances, misapplied payments, wrongful denials of payment plans, and issues related to credit reporting and account information. Many complaints highlight systemic breakdowns, misinformation, and misconduct by loan servicers.'"
      ]
     },
     "execution_count": 33,
     "metadata": {},
     "output_type": "execute_result"
    }
   ],
   "source": [
    "parent_document_retrieval_chain.invoke({\"question\" : \"What is the most common issue with loans?\"})[\"response\"].content"
   ]
  },
  {
   "cell_type": "code",
   "execution_count": 34,
   "metadata": {
    "colab": {
     "base_uri": "https://localhost:8080/",
     "height": 36
    },
    "id": "V5F1T-wNl3cg",
    "outputId": "9b81e72e-5db7-4b8a-b25b-400ea0df5335"
   },
   "outputs": [
    {
     "data": {
      "text/plain": [
       "'Based on the provided information, it appears that several complaints did not receive a timely response. Specifically, the complaints with Complaint IDs 12709087 and 12935889 mention that the responses from the companies—MOHELA—were \"Closed with explanation\" and the response times were marked as \"No\" for being timely. Additionally, the complaint with ID 13205525, submitted to Nelnet, was responded to within the same day (\"Yes\" for timely response). \\n\\nTherefore, yes, some complaints did not get handled in a timely manner.'"
      ]
     },
     "execution_count": 34,
     "metadata": {},
     "output_type": "execute_result"
    }
   ],
   "source": [
    "parent_document_retrieval_chain.invoke({\"question\" : \"Did any complaints not get handled in a timely manner?\"})[\"response\"].content"
   ]
  },
  {
   "cell_type": "code",
   "execution_count": 35,
   "metadata": {
    "colab": {
     "base_uri": "https://localhost:8080/",
     "height": 70
    },
    "id": "ZqARszGzvGcG",
    "outputId": "8867f83c-db13-4db4-d57f-9bd51d32cd8a"
   },
   "outputs": [
    {
     "data": {
      "text/plain": [
       "'People failed to pay back their loans primarily due to a combination of factors such as financial hardship, mismanagement by educational institutions and loan servicers, lack of proper information or communication about repayment obligations, and issues related to the long-term financial consequences of taking on student debt. Specifically, some individuals faced severe financial difficulties after graduation, which made consistent repayment difficult. Others experienced problems with loan servicing agencies, such as lack of notification, inability to establish payment plans, or questions about the legitimacy of their debt. Additionally, in some cases, the failure to receive adequate counseling or transparent information about repayment terms, debt forgiveness options, or institutional stability contributed to their inability to repay their loans effectively.'"
      ]
     },
     "execution_count": 35,
     "metadata": {},
     "output_type": "execute_result"
    }
   ],
   "source": [
    "parent_document_retrieval_chain.invoke({\"question\" : \"Why did people fail to pay back their loans?\"})[\"response\"].content"
   ]
  },
  {
   "cell_type": "markdown",
   "metadata": {
    "id": "B41cj42s4DPM"
   },
   "source": [
    "Overall, the performance *seems* largely the same. We can leverage a tool like [Ragas]() to more effectively answer the question about the performance."
   ]
  },
  {
   "cell_type": "markdown",
   "metadata": {
    "id": "VUrIBKl_TwS9"
   },
   "source": [
    "## Task 9: Ensemble Retriever\n",
    "\n",
    "In brief, an Ensemble Retriever simply takes 2, or more, retrievers and combines their retrieved documents based on a rank-fusion algorithm.\n",
    "\n",
    "In this case - we're using the [Reciprocal Rank Fusion](https://plg.uwaterloo.ca/~gvcormac/cormacksigir09-rrf.pdf) algorithm.\n",
    "\n",
    "Setting it up is as easy as providing a list of our desired retrievers - and the weights for each retriever."
   ]
  },
  {
   "cell_type": "code",
   "execution_count": 36,
   "metadata": {
    "id": "8j7jpZsKTxic"
   },
   "outputs": [],
   "source": [
    "from langchain.retrievers import EnsembleRetriever\n",
    "\n",
    "retriever_list = [bm25_retriever, naive_retriever, parent_document_retriever, compression_retriever, multi_query_retriever]\n",
    "equal_weighting = [1/len(retriever_list)] * len(retriever_list)\n",
    "\n",
    "ensemble_retriever = EnsembleRetriever(\n",
    "    retrievers=retriever_list, weights=equal_weighting\n",
    ")"
   ]
  },
  {
   "cell_type": "markdown",
   "metadata": {
    "id": "kpo9Psl5hhJ-"
   },
   "source": [
    "We'll pack *all* of these retrievers together in an ensemble."
   ]
  },
  {
   "cell_type": "code",
   "execution_count": 37,
   "metadata": {
    "id": "KZ__EZwpUKkd"
   },
   "outputs": [],
   "source": [
    "ensemble_retrieval_chain = (\n",
    "    {\"context\": itemgetter(\"question\") | ensemble_retriever, \"question\": itemgetter(\"question\")}\n",
    "    | RunnablePassthrough.assign(context=itemgetter(\"context\"))\n",
    "    | {\"response\": rag_prompt | chat_model, \"context\": itemgetter(\"context\")}\n",
    ")"
   ]
  },
  {
   "cell_type": "markdown",
   "metadata": {
    "id": "SSsvHpRMj24L"
   },
   "source": [
    "Let's look at our results!"
   ]
  },
  {
   "cell_type": "code",
   "execution_count": 38,
   "metadata": {
    "colab": {
     "base_uri": "https://localhost:8080/",
     "height": 70
    },
    "id": "0lMvqL88UQI-",
    "outputId": "d86dd5f7-0a13-4836-c0ce-cc4c431fd889"
   },
   "outputs": [
    {
     "data": {
      "text/plain": [
       "'The most common issue with loans, based on the provided complaints, appears to be dealing with inaccuracies and mishandling by loan servicers, including errors in loan balances, misapplied payments, wrongful denials of repayment plans, incorrect reporting of account status, and improper classification of loans. Many complaints also involve receiving bad information, lack of transparency, delays or failure in processing repayment options like income-driven plans, and errors that impact credit reports and scores. \\n\\nIn summary, a key pattern is systemic errors and mismanagement by loan servicers leading to financial hardship and credit issues for borrowers.'"
      ]
     },
     "execution_count": 38,
     "metadata": {},
     "output_type": "execute_result"
    }
   ],
   "source": [
    "ensemble_retrieval_chain.invoke({\"question\" : \"What is the most common issue with loans?\"})[\"response\"].content"
   ]
  },
  {
   "cell_type": "code",
   "execution_count": 39,
   "metadata": {
    "colab": {
     "base_uri": "https://localhost:8080/",
     "height": 53
    },
    "id": "MNFWLYECURI1",
    "outputId": "b17973b5-66a9-4481-97d5-880b5754b5c5"
   },
   "outputs": [
    {
     "data": {
      "text/plain": [
       "'Based on the provided complaints data, yes, some complaints indicate that issues were not handled in a timely manner. Specifically:\\n\\n- In complaint ID 12935889 (Maximus Federal Services, TX), the response was marked as \"No\" for timely response, indicating it was not handled promptly.\\n- Similarly, complaint ID 12668396 (Mohela, NJ) also was \"Not timely,\" as the response was \"Closed with explanation\" and marked as \"No\" for timely response.\\n- Several other complaints mention delays, long wait times, or ongoing unresolved issues that have persisted for months or over a year, which suggests they were not handled in a timely manner.\\n\\nIn conclusion, yes, there were complaints that did not get handled in a timely fashion, as explicitly noted in some records and implied by the ongoing unresolved nature of others.\\n\\nIf you need more specific details or a summary, feel free to ask!'"
      ]
     },
     "execution_count": 39,
     "metadata": {},
     "output_type": "execute_result"
    }
   ],
   "source": [
    "ensemble_retrieval_chain.invoke({\"question\" : \"Did any complaints not get handled in a timely manner?\"})[\"response\"].content"
   ]
  },
  {
   "cell_type": "code",
   "execution_count": 40,
   "metadata": {
    "colab": {
     "base_uri": "https://localhost:8080/",
     "height": 88
    },
    "id": "A7qbHfWgUR4c",
    "outputId": "f7373144-59ef-4fc7-b75d-ca00e7df881e"
   },
   "outputs": [
    {
     "data": {
      "text/plain": [
       "'People often failed to pay back their loans due to a variety of systemic and individual challenges, including:\\n\\n1. **Lack of clear communication and timely notification:** Many borrowers reported not being properly informed when repayment was to resume, especially after transfers between loan servicers. They did not receive notices about due dates, changes in payment plans, or requirements, leading to unintentional delinquency.\\n\\n2. **Difficulty in managing interest and repayment options:** Borrowers described that forbearance and deferment options, while accessible, led to continued interest accumulation, often making it harder to pay down the principal and extending the repayment period. Many also lacked awareness of income-driven repayment or loan forgiveness programs that could make repayment more manageable.\\n\\n3. **Financial hardships and unexpected circumstances:** Borrowers faced significant hardships such as unemployment, disability, health issues, homelessness, or economic downturns, which made it impossible to keep up with payments.\\n\\n4. **Servicer misconduct and mishandling of loans:** Several complaints indicated that loan servicers provided incorrect or misleading information, failed to properly apply payments, misreported account statuses, or mishandled contact information, which complicated repayment efforts and damaged credit scores.\\n\\n5. **Transfer of loans without proper notice:** Many borrowers were unaware when their loans were transferred between companies, leading to missed communications and confusion about who to contact.\\n\\n6. **Systemic issues and lack of support:** Complaints pointed out that policies and practices—such as pushing borrowers into long-term forbearances or consolidations without informing them of better options—contributed to the inability to pay back loans effectively.\\n\\n7. **Unauthorized or incorrect reporting:** Errors in credit reporting, including false delinquencies or defaults, also prevented borrowers from accessing favorable credit and loan options, further complicating repayment.\\n\\nIn summary, failure to pay back loans was often less about irresponsibility and more about systemic failures, miscommunication, and personal hardships that made consistent repayment unfeasible.'"
      ]
     },
     "execution_count": 40,
     "metadata": {},
     "output_type": "execute_result"
    }
   ],
   "source": [
    "ensemble_retrieval_chain.invoke({\"question\" : \"Why did people fail to pay back their loans?\"})[\"response\"].content"
   ]
  },
  {
   "cell_type": "markdown",
   "metadata": {
    "id": "MopbkNJAXVaN"
   },
   "source": [
    "## Task 10: Semantic Chunking\n",
    "\n",
    "While this is not a retrieval method - it *is* an effective way of increasing retrieval performance on corpora that have clean semantic breaks in them.\n",
    "\n",
    "Essentially, Semantic Chunking is implemented by:\n",
    "\n",
    "1. Embedding all sentences in the corpus.\n",
    "2. Combining or splitting sequences of sentences based on their semantic similarity based on a number of [possible thresholding methods](https://python.langchain.com/docs/how_to/semantic-chunker/):\n",
    "  - `percentile`\n",
    "  - `standard_deviation`\n",
    "  - `interquartile`\n",
    "  - `gradient`\n",
    "3. Each sequence of related sentences is kept as a document!\n",
    "\n",
    "Let's see how to implement this!"
   ]
  },
  {
   "cell_type": "markdown",
   "metadata": {
    "id": "U9ciZbFEldv_"
   },
   "source": [
    "We'll use the `percentile` thresholding method for this example which will:\n",
    "\n",
    "Calculate all distances between sentences, and then break apart sequences of setences that exceed a given percentile among all distances."
   ]
  },
  {
   "cell_type": "code",
   "execution_count": 41,
   "metadata": {
    "id": "66EIEWiEYl5y"
   },
   "outputs": [],
   "source": [
    "from langchain_experimental.text_splitter import SemanticChunker\n",
    "\n",
    "semantic_chunker = SemanticChunker(\n",
    "    embeddings,\n",
    "    breakpoint_threshold_type=\"percentile\"\n",
    ")"
   ]
  },
  {
   "cell_type": "markdown",
   "metadata": {
    "id": "YqoKmz12mhRW"
   },
   "source": [
    "Now we can split our documents."
   ]
  },
  {
   "cell_type": "code",
   "execution_count": 42,
   "metadata": {
    "id": "ROcV7o68ZIq7"
   },
   "outputs": [],
   "source": [
    "semantic_documents = semantic_chunker.split_documents(loan_complaint_data[:20])"
   ]
  },
  {
   "cell_type": "markdown",
   "metadata": {
    "id": "L8-LNC-Xmjex"
   },
   "source": [
    "Let's create a new vector store."
   ]
  },
  {
   "cell_type": "code",
   "execution_count": 43,
   "metadata": {
    "id": "h3sl9QjyZhIe"
   },
   "outputs": [],
   "source": [
    "semantic_vectorstore = Qdrant.from_documents(\n",
    "    semantic_documents,\n",
    "    embeddings,\n",
    "    location=\":memory:\",\n",
    "    collection_name=\"Loan_Complaint_Data_Semantic_Chunks\"\n",
    ")"
   ]
  },
  {
   "cell_type": "markdown",
   "metadata": {
    "id": "Eh_r_-LHmmKn"
   },
   "source": [
    "We'll use naive retrieval for this example."
   ]
  },
  {
   "cell_type": "code",
   "execution_count": 44,
   "metadata": {
    "id": "odVyDUHwZftc"
   },
   "outputs": [],
   "source": [
    "semantic_retriever = semantic_vectorstore.as_retriever(search_kwargs={\"k\" : 10})"
   ]
  },
  {
   "cell_type": "markdown",
   "metadata": {
    "id": "Mkeiv_ojmp6G"
   },
   "source": [
    "Finally we can create our classic chain!"
   ]
  },
  {
   "cell_type": "code",
   "execution_count": 45,
   "metadata": {
    "id": "xWE_0J0mZveG"
   },
   "outputs": [],
   "source": [
    "semantic_retrieval_chain = (\n",
    "    {\"context\": itemgetter(\"question\") | semantic_retriever, \"question\": itemgetter(\"question\")}\n",
    "    | RunnablePassthrough.assign(context=itemgetter(\"context\"))\n",
    "    | {\"response\": rag_prompt | chat_model, \"context\": itemgetter(\"context\")}\n",
    ")"
   ]
  },
  {
   "cell_type": "markdown",
   "metadata": {
    "id": "R5pfjLQ3ms9_"
   },
   "source": [
    "And view the results!"
   ]
  },
  {
   "cell_type": "code",
   "execution_count": 46,
   "metadata": {
    "colab": {
     "base_uri": "https://localhost:8080/",
     "height": 70
    },
    "id": "0lN2j-e4Z0SD",
    "outputId": "ef483e21-7200-4dfc-b8bf-aed4f23587b2"
   },
   "outputs": [
    {
     "data": {
      "text/plain": [
       "'Based on the provided data, the most common issues with loans tend to involve difficulties with repayment, such as struggling to repay the loan, problems with payment plans, or incorrect payment amounts. Many complaints highlight issues like the inability to get clear information from lenders or servicers, errors in reporting or account status, and disputes over illegal or improper reporting, especially related to the handling and reporting of student loans.'"
      ]
     },
     "execution_count": 46,
     "metadata": {},
     "output_type": "execute_result"
    }
   ],
   "source": [
    "semantic_retrieval_chain.invoke({\"question\" : \"What is the most common issue with loans?\"})[\"response\"].content"
   ]
  },
  {
   "cell_type": "code",
   "execution_count": 47,
   "metadata": {
    "colab": {
     "base_uri": "https://localhost:8080/",
     "height": 53
    },
    "id": "xdqfBH1SZ3f9",
    "outputId": "ed62b2d1-7586-46cc-aaf4-c54192a56155"
   },
   "outputs": [
    {
     "data": {
      "text/plain": [
       "'Based on the provided complaints, it appears that several complaints were marked as \"Closed with explanation\" and have a response indicating they were handled in a timely manner (\"Timely response?\": \"Yes\"). For example, complaints involving Nelnet Inc. from IN and NM, and Maximus Federal Services from WA, all indicated responses were timely.\\n\\nHowever, the context also mentions multiple complaints where consumers did not receive responses or did not have their complaints handled promptly, such as the case with EdFinancial Services from NY, which was also marked as \"Closed with explanation,\" but the narrative suggests ongoing issues and disputes.\\n\\nSince the specific question is whether any complaints did **not** get handled in a timely manner, the overall data suggests that most complaints labeled \"Timely response: Yes\" were addressed promptly. Those marked \"Company response to consumer: None\" or involving ongoing disputes could imply delayed or unhandled responses, but without explicit labels for untimely responses, it\\'s difficult to conclusively identify any complaints explicitly marked as not handled in a timely manner.\\n\\n**Conclusion:**  \\nBased on the information provided, most complaints appear to have been handled in a timely manner; there is no clear evidence in the data indicating complaints that were not handled promptly. If you need a definitive answer, I would say:  \\n\\n**I do not know** for certain if any complaints were specifically not handled in a timely manner, as the provided data mostly shows timely responses or ongoing disputes without explicit remarks on delays.'"
      ]
     },
     "execution_count": 47,
     "metadata": {},
     "output_type": "execute_result"
    }
   ],
   "source": [
    "semantic_retrieval_chain.invoke({\"question\" : \"Did any complaints not get handled in a timely manner?\"})[\"response\"].content"
   ]
  },
  {
   "cell_type": "code",
   "execution_count": 48,
   "metadata": {
    "colab": {
     "base_uri": "https://localhost:8080/",
     "height": 70
    },
    "id": "rAcAObZnZ4o6",
    "outputId": "3f1cade3-41e4-4e42-ef71-048dd18e5e3a"
   },
   "outputs": [
    {
     "data": {
      "text/plain": [
       "'People may fail to pay back their loans for various reasons, including:\\n\\n1. Lack of clear communication or transparency from lenders or servicers, leading to confusion about loan status, repayment terms, or updates (e.g., receiving bad information about loans, difficulties logging in, or unclear notices of servicer changes).\\n2. Administrative or procedural issues, such as delays or errors in recording payments, mismanagement of documentation, or unverified legitimacy of debts.\\n3. Disputes over loan information, including incorrect reports, missing payments, or unresolved documentation issues.\\n4. Financial hardship or changes in personal circumstances that make it difficult for borrowers to keep up with payments.\\n5. Allegations of improper practices by loan servicers, such as stalling tactics, misreporting, or violating legal protections, which can hinder repayment efforts.\\n6. Confusion about loan terms, especially after program changes like the end of forbearance or loan transfers, which can increase or alter payment amounts unexpectedly.\\n\\nIn summary, failures to repay loans can stem from administrative errors, lack of transparency, legal or procedural disputes, or financial difficulties faced by borrowers.'"
      ]
     },
     "execution_count": 48,
     "metadata": {},
     "output_type": "execute_result"
    }
   ],
   "source": [
    "semantic_retrieval_chain.invoke({\"question\" : \"Why did people fail to pay back their loans?\"})[\"response\"].content"
   ]
  },
  {
   "cell_type": "markdown",
   "metadata": {},
   "source": [
    "#### ❓ Question #3:\n",
    "\n",
    "If sentences are short and highly repetitive (e.g., FAQs), how might semantic chunking behave, and how would you adjust the algorithm?\n",
    "\n",
    "### ✅ Answer:\n",
    "\n",
    "When dealing with short, highly repetitive sentences like FAQs, semantic chunking can exhibit problematic behaviors that require specific adjustments. Here's a detailed analysis:\n",
    "\n",
    "### How Semantic Chunking Would Behave with FAQs:\n",
    "\n",
    "**1. Over-Fragmentation Problem:**\n",
    "```\n",
    "Example FAQ content:\n",
    "Q: How do I reset my password?\n",
    "A: Click on \"Forgot Password\" on the login page.\n",
    "Q: How do I change my email?\n",
    "A: Go to Settings > Profile > Email.\n",
    "Q: How do I update my payment method?\n",
    "A: Navigate to Settings > Billing > Payment Methods.\n",
    "```\n",
    "\n",
    "**Behavior**: Each Q&A pair might be split into separate chunks because:\n",
    "- Short sentences have less semantic overlap\n",
    "- Questions have different semantic signatures than answers\n",
    "- Similar questions might not be similar enough to group together\n",
    "\n",
    "**2. Similarity Threshold Issues:**\n",
    "\n",
    "With `percentile` breakpoint threshold:\n",
    "- **Problem**: Short sentences create extreme distance distributions\n",
    "- **Result**: Either everything groups together (threshold too high) or nothing groups (threshold too low)\n",
    "- **Example**: All \"How do I...\" questions might incorrectly merge into one massive chunk\n",
    "\n",
    "**3. Context Loss:**\n",
    "```\n",
    "Original FAQ:\n",
    "Q: What is forbearance?\n",
    "A: A temporary pause on loan payments.\n",
    "\n",
    "After chunking might become:\n",
    "Chunk 1: \"What is forbearance?\"\n",
    "Chunk 2: \"A temporary pause on loan payments.\"\n",
    "```\n",
    "The Q&A relationship is lost!\n",
    "\n",
    "### Adjustments to the Algorithm:\n",
    "\n",
    "**1. Implement Structural Awareness:**\n",
    "```python\n",
    "# Instead of pure semantic chunking, use pattern recognition\n",
    "def structure_aware_chunking(documents):\n",
    "    chunks = []\n",
    "    current_chunk = []\n",
    "    \n",
    "    for sentence in documents:\n",
    "        if sentence.startswith(\"Q:\") and current_chunk:\n",
    "            # New question found, save previous Q&A pair\n",
    "            chunks.append(\" \".join(current_chunk))\n",
    "            current_chunk = [sentence]\n",
    "        else:\n",
    "            current_chunk.append(sentence)\n",
    "    \n",
    "    return chunks\n",
    "```\n",
    "\n",
    "**2. Adjust Similarity Thresholds:**\n",
    "```python\n",
    "# For FAQs, use different thresholds\n",
    "semantic_chunker = SemanticChunker(\n",
    "    embeddings,\n",
    "    breakpoint_threshold_type=\"percentile\",\n",
    "    breakpoint_threshold_amount=95  # Higher threshold for short texts\n",
    ")\n",
    "```\n",
    "\n",
    "**3. Use Hybrid Approach:**\n",
    "```python\n",
    "# Combine structural and semantic signals\n",
    "def hybrid_faq_chunking(documents):\n",
    "    # Step 1: Group by structure (Q&A pairs)\n",
    "    qa_pairs = group_qa_pairs(documents)\n",
    "    \n",
    "    # Step 2: Apply semantic chunking on grouped pairs\n",
    "    semantic_groups = []\n",
    "    for qa_pair in qa_pairs:\n",
    "        # Group similar Q&A pairs together\n",
    "        semantic_groups.extend(\n",
    "            semantic_chunker.split_text(qa_pair)\n",
    "        )\n",
    "    \n",
    "    return semantic_groups\n",
    "```\n",
    "\n",
    "**4. Implement Minimum Chunk Size:**\n",
    "```python\n",
    "# Ensure chunks have minimum context\n",
    "MIN_CHUNK_SIZE = 3  # At least Q + A + buffer\n",
    "\n",
    "def adjusted_semantic_chunking(sentences):\n",
    "    chunks = semantic_chunker.split_text(sentences)\n",
    "    \n",
    "    # Merge chunks that are too small\n",
    "    merged_chunks = []\n",
    "    current_chunk = []\n",
    "    \n",
    "    for chunk in chunks:\n",
    "        current_chunk.append(chunk)\n",
    "        if len(current_chunk) >= MIN_CHUNK_SIZE:\n",
    "            merged_chunks.append(\" \".join(current_chunk))\n",
    "            current_chunk = []\n",
    "    \n",
    "    return merged_chunks\n",
    "```\n",
    "\n",
    "**5. Use Different Breakpoint Methods:**\n",
    "\n",
    "For FAQs, consider switching from `percentile` to:\n",
    "- **`gradient`**: Better for detecting sharp transitions between topics\n",
    "- **`standard_deviation`**: More stable with repetitive content\n",
    "- **Custom thresholds**: Based on FAQ structure\n",
    "\n",
    "```python\n",
    "# Better for FAQs\n",
    "semantic_chunker = SemanticChunker(\n",
    "    embeddings,\n",
    "    breakpoint_threshold_type=\"gradient\",\n",
    "    number_of_chunks=None  # Let gradient method decide\n",
    ")\n",
    "```\n",
    "\n",
    "**6. Pre-processing Strategy:**\n",
    "```python\n",
    "def preprocess_faqs(faq_text):\n",
    "    # Group Q&A pairs first\n",
    "    qa_pairs = []\n",
    "    lines = faq_text.split('\\n')\n",
    "    \n",
    "    i = 0\n",
    "    while i < len(lines):\n",
    "        if lines[i].startswith('Q:'):\n",
    "            question = lines[i]\n",
    "            answer = lines[i+1] if i+1 < len(lines) else \"\"\n",
    "            qa_pairs.append(f\"{question} {answer}\")\n",
    "            i += 2\n",
    "        else:\n",
    "            i += 1\n",
    "    \n",
    "    return qa_pairs\n",
    "```\n",
    "\n",
    "### Recommended Solution for FAQs:\n",
    "\n",
    "1. **Don't rely solely on semantic chunking** - Use structural patterns\n",
    "2. **Preserve Q&A relationships** - Never separate questions from their answers\n",
    "3. **Group similar FAQs** - Combine semantic similarity with structural patterns\n",
    "4. **Set appropriate thresholds** - Higher thresholds for short, repetitive content\n",
    "5. **Consider alternative chunking** - Fixed-size or pattern-based chunking might work better\n",
    "\n",
    "### Example Implementation:\n",
    "```python\n",
    "# For FAQ-specific content\n",
    "class FAQChunker:\n",
    "    def __init__(self, embeddings):\n",
    "        self.embeddings = embeddings\n",
    "        \n",
    "    def chunk_faqs(self, faq_documents):\n",
    "        # Step 1: Extract Q&A pairs\n",
    "        qa_pairs = self.extract_qa_pairs(faq_documents)\n",
    "        \n",
    "        # Step 2: Group similar topics\n",
    "        topic_groups = self.group_by_topic(qa_pairs)\n",
    "        \n",
    "        # Step 3: Create chunks maintaining structure\n",
    "        chunks = []\n",
    "        for topic in topic_groups:\n",
    "            chunk = \"\\n\".join(topic)\n",
    "            chunks.append(chunk)\n",
    "            \n",
    "        return chunks\n",
    "```"
   ]
  },
  {
   "cell_type": "markdown",
   "metadata": {
    "id": "xk2n3-pnVWDJ"
   },
   "source": [
    "# 🤝 Breakout Room Part #2"
   ]
  },
  {
   "cell_type": "markdown",
   "metadata": {
    "id": "2SkJLYwMVZkj"
   },
   "source": [
    "#### 🏗️ Activity #1\n",
    "\n",
    "Your task is to evaluate the various Retriever methods against eachother.\n",
    "\n",
    "You are expected to:\n",
    "\n",
    "1. Create a \"golden dataset\"\n",
    " - Use Synthetic Data Generation (powered by Ragas, or otherwise) to create this dataset\n",
    "2. Evaluate each retriever with *retriever specific* Ragas metrics\n",
    " - Semantic Chunking is not considered a retriever method and will not be required for marks, but you may find it useful to do a \"semantic chunking on\" vs. \"semantic chunking off\" comparision between them\n",
    "3. Compile these in a list and write a small paragraph about which is best for this particular data and why.\n",
    "\n",
    "Your analysis should factor in:\n",
    "  - Cost\n",
    "  - Latency\n",
    "  - Performance\n",
    "\n",
    "> NOTE: This is **NOT** required to be completed in class. Please spend time in your breakout rooms creating a plan before moving on to writing code."
   ]
  },
  {
   "cell_type": "markdown",
   "metadata": {
    "id": "TWAr16a5XMub"
   },
   "source": [
    "##### HINTS:\n",
    "\n",
    "- LangSmith provides detailed information about latency and cost."
   ]
  },
  {
   "cell_type": "code",
   "execution_count": 68,
   "metadata": {},
   "outputs": [],
   "source": [
    "from uuid import uuid4\n",
    "os.environ[\"LANGCHAIN_TRACING_V2\"] = \"true\"\n",
    "os.environ[\"LANGCHAIN_API_KEY\"] = os.getenv(\"LANGCHAIN_API_KEY\")\n",
    "\n",
    "os.environ[\"LANGCHAIN_PROJECT\"] = f\"Evaluate-Retriever-Method-{uuid4().hex[0:8]}\""
   ]
  },
  {
   "cell_type": "code",
   "execution_count": 55,
   "metadata": {},
   "outputs": [],
   "source": [
    "# loan_complaint_data\n",
    "# for doc in loan_complaint_data:\n",
    "#     doc.page_content = doc.metadata[\"Consumer complaint narrative\"]"
   ]
  },
  {
   "cell_type": "code",
   "execution_count": 69,
   "metadata": {
    "id": "tgDICngKXLGK"
   },
   "outputs": [],
   "source": [
    "# 🏗️ Activity #1 – Step 1: Create Golden Dataset\n",
    "\n",
    "from ragas.llms import LangchainLLMWrapper\n",
    "from ragas.embeddings import LangchainEmbeddingsWrapper\n",
    "from langchain_openai import ChatOpenAI, OpenAIEmbeddings\n",
    "\n",
    "# Initialize LLM & embeddings\n",
    "generator_llm = LangchainLLMWrapper(ChatOpenAI(model=\"gpt-4.1\"))  # or \"gpt-4\"\n",
    "generator_embeddings = LangchainEmbeddingsWrapper(OpenAIEmbeddings())"
   ]
  },
  {
   "cell_type": "code",
   "execution_count": 60,
   "metadata": {},
   "outputs": [],
   "source": [
    "# from ragas.testset.synthesizers import SingleHopSpecificQuerySynthesizer, MultiHopAbstractQuerySynthesizer, MultiHopSpecificQuerySynthesizer\n",
    "# query_distribution = [\n",
    "#         (SingleHopSpecificQuerySynthesizer(llm=generator_llm), 0.5),\n",
    "#         (MultiHopAbstractQuerySynthesizer(llm=generator_llm), 0.25),\n",
    "#         (MultiHopSpecificQuerySynthesizer(llm=generator_llm), 0.25),\n",
    "# ]"
   ]
  },
  {
   "cell_type": "code",
   "execution_count": 70,
   "metadata": {},
   "outputs": [],
   "source": [
    "from ragas.testset import TestsetGenerator\n",
    "# Create a testset generator\n",
    "generator = TestsetGenerator(llm=generator_llm, embedding_model=generator_embeddings)"
   ]
  },
  {
   "cell_type": "code",
   "execution_count": 71,
   "metadata": {},
   "outputs": [
    {
     "data": {
      "application/vnd.jupyter.widget-view+json": {
       "model_id": "3ae74bc6633444059638aca2f44467b4",
       "version_major": 2,
       "version_minor": 0
      },
      "text/plain": [
       "Applying SummaryExtractor:   0%|          | 0/14 [00:00<?, ?it/s]"
      ]
     },
     "metadata": {},
     "output_type": "display_data"
    },
    {
     "data": {
      "application/vnd.jupyter.widget-view+json": {
       "model_id": "fe0ad72ec46e4afe8f84eed348f2ecd0",
       "version_major": 2,
       "version_minor": 0
      },
      "text/plain": [
       "Applying CustomNodeFilter:   0%|          | 0/20 [00:00<?, ?it/s]"
      ]
     },
     "metadata": {},
     "output_type": "display_data"
    },
    {
     "name": "stderr",
     "output_type": "stream",
     "text": [
      "Node 064c132b-607d-4c8a-8d1d-dc29da974718 does not have a summary. Skipping filtering.\n",
      "Node 838d81a9-c6a0-46f5-80e7-a6fc666bac66 does not have a summary. Skipping filtering.\n",
      "Node 96e11460-eb39-4229-a053-e342fd906e1f does not have a summary. Skipping filtering.\n",
      "Node 5adf8d0f-beab-4d6c-81ec-d39a0ca8f686 does not have a summary. Skipping filtering.\n",
      "Node f34aea30-f698-48bd-83b3-e470e30b8b97 does not have a summary. Skipping filtering.\n",
      "Node aa69c342-9f7f-4113-be7c-e3c2335d65d3 does not have a summary. Skipping filtering.\n"
     ]
    },
    {
     "data": {
      "application/vnd.jupyter.widget-view+json": {
       "model_id": "fcfb7418ba6746bc900a325453a9b48a",
       "version_major": 2,
       "version_minor": 0
      },
      "text/plain": [
       "Applying [EmbeddingExtractor, ThemesExtractor, NERExtractor]:   0%|          | 0/54 [00:00<?, ?it/s]"
      ]
     },
     "metadata": {},
     "output_type": "display_data"
    },
    {
     "data": {
      "application/vnd.jupyter.widget-view+json": {
       "model_id": "aa1a5829cb794dd2a5915fa286977ba6",
       "version_major": 2,
       "version_minor": 0
      },
      "text/plain": [
       "Applying OverlapScoreBuilder:   0%|          | 0/1 [00:00<?, ?it/s]"
      ]
     },
     "metadata": {},
     "output_type": "display_data"
    },
    {
     "data": {
      "application/vnd.jupyter.widget-view+json": {
       "model_id": "6e0053fe79684032b967cce510772a40",
       "version_major": 2,
       "version_minor": 0
      },
      "text/plain": [
       "Generating personas:   0%|          | 0/3 [00:00<?, ?it/s]"
      ]
     },
     "metadata": {},
     "output_type": "display_data"
    },
    {
     "data": {
      "application/vnd.jupyter.widget-view+json": {
       "model_id": "36aef894ea2d467d8aa70de158d2b5d8",
       "version_major": 2,
       "version_minor": 0
      },
      "text/plain": [
       "Generating Scenarios:   0%|          | 0/2 [00:00<?, ?it/s]"
      ]
     },
     "metadata": {},
     "output_type": "display_data"
    },
    {
     "data": {
      "application/vnd.jupyter.widget-view+json": {
       "model_id": "62f53e54428e4200afbe3e5fc29c823a",
       "version_major": 2,
       "version_minor": 0
      },
      "text/plain": [
       "Generating Samples:   0%|          | 0/10 [00:00<?, ?it/s]"
      ]
     },
     "metadata": {},
     "output_type": "display_data"
    },
    {
     "data": {
      "text/html": [
       "<div>\n",
       "<style scoped>\n",
       "    .dataframe tbody tr th:only-of-type {\n",
       "        vertical-align: middle;\n",
       "    }\n",
       "\n",
       "    .dataframe tbody tr th {\n",
       "        vertical-align: top;\n",
       "    }\n",
       "\n",
       "    .dataframe thead th {\n",
       "        text-align: right;\n",
       "    }\n",
       "</style>\n",
       "<table border=\"1\" class=\"dataframe\">\n",
       "  <thead>\n",
       "    <tr style=\"text-align: right;\">\n",
       "      <th></th>\n",
       "      <th>user_input</th>\n",
       "      <th>reference_contexts</th>\n",
       "      <th>reference</th>\n",
       "      <th>synthesizer_name</th>\n",
       "    </tr>\n",
       "  </thead>\n",
       "  <tbody>\n",
       "    <tr>\n",
       "      <th>0</th>\n",
       "      <td>Why Nelnet wait so long to change my payment a...</td>\n",
       "      <td>[The federal student loan COVID-19 forbearance...</td>\n",
       "      <td>Payments were not re-amortized on my federal s...</td>\n",
       "      <td>single_hop_specifc_query_synthesizer</td>\n",
       "    </tr>\n",
       "    <tr>\n",
       "      <th>1</th>\n",
       "      <td>Why Aidvantage give me wrong payment on IDR/IB...</td>\n",
       "      <td>[I submitted my annual Income-Driven Repayment...</td>\n",
       "      <td>Aidvantage assigned a payment amount under the...</td>\n",
       "      <td>single_hop_specifc_query_synthesizer</td>\n",
       "    </tr>\n",
       "    <tr>\n",
       "      <th>2</th>\n",
       "      <td>How does a FERPA violation impact my student l...</td>\n",
       "      <td>[My personal and financial data was compromise...</td>\n",
       "      <td>A FERPA violation means your personal and fina...</td>\n",
       "      <td>single_hop_specifc_query_synthesizer</td>\n",
       "    </tr>\n",
       "    <tr>\n",
       "      <th>3</th>\n",
       "      <td>How does Studentaid.gov inform borrowers about...</td>\n",
       "      <td>[According to Studentaid.gov, Im to get an ema...</td>\n",
       "      <td>According to Studentaid.gov, borrowers are sup...</td>\n",
       "      <td>single_hop_specifc_query_synthesizer</td>\n",
       "    </tr>\n",
       "    <tr>\n",
       "      <th>4</th>\n",
       "      <td>How has the resumption of federal loan payment...</td>\n",
       "      <td>[Since the resumption of federal loan payments...</td>\n",
       "      <td>Since the resumption of federal loan payments,...</td>\n",
       "      <td>single_hop_specifc_query_synthesizer</td>\n",
       "    </tr>\n",
       "    <tr>\n",
       "      <th>5</th>\n",
       "      <td>How could the actions of the Department of Edu...</td>\n",
       "      <td>[&lt;1-hop&gt;\\n\\nI set up autopay with AidVantage, ...</td>\n",
       "      <td>The Department of Education oversees student l...</td>\n",
       "      <td>multi_hop_specific_query_synthesizer</td>\n",
       "    </tr>\n",
       "    <tr>\n",
       "      <th>6</th>\n",
       "      <td>How did the Department of Education's failure ...</td>\n",
       "      <td>[&lt;1-hop&gt;\\n\\nThis is a formal legal demand for ...</td>\n",
       "      <td>The Department of Education failed to prevent ...</td>\n",
       "      <td>multi_hop_specific_query_synthesizer</td>\n",
       "    </tr>\n",
       "    <tr>\n",
       "      <th>7</th>\n",
       "      <td>How do the FCRA requirements for reinvestigati...</td>\n",
       "      <td>[&lt;1-hop&gt;\\n\\nI am writing to formally dispute i...</td>\n",
       "      <td>Under the Fair Credit Reporting Act (FCRA), sp...</td>\n",
       "      <td>multi_hop_specific_query_synthesizer</td>\n",
       "    </tr>\n",
       "    <tr>\n",
       "      <th>8</th>\n",
       "      <td>How does the Department of Education's failure...</td>\n",
       "      <td>[&lt;1-hop&gt;\\n\\nBreach of Contract - All four bran...</td>\n",
       "      <td>The Department of Education's failure to preve...</td>\n",
       "      <td>multi_hop_specific_query_synthesizer</td>\n",
       "    </tr>\n",
       "    <tr>\n",
       "      <th>9</th>\n",
       "      <td>How does the violation of the Family Education...</td>\n",
       "      <td>[&lt;1-hop&gt;\\n\\nI am writing to formally dispute m...</td>\n",
       "      <td>The violation of the Family Educational Rights...</td>\n",
       "      <td>multi_hop_specific_query_synthesizer</td>\n",
       "    </tr>\n",
       "  </tbody>\n",
       "</table>\n",
       "</div>"
      ],
      "text/plain": [
       "                                          user_input  \\\n",
       "0  Why Nelnet wait so long to change my payment a...   \n",
       "1  Why Aidvantage give me wrong payment on IDR/IB...   \n",
       "2  How does a FERPA violation impact my student l...   \n",
       "3  How does Studentaid.gov inform borrowers about...   \n",
       "4  How has the resumption of federal loan payment...   \n",
       "5  How could the actions of the Department of Edu...   \n",
       "6  How did the Department of Education's failure ...   \n",
       "7  How do the FCRA requirements for reinvestigati...   \n",
       "8  How does the Department of Education's failure...   \n",
       "9  How does the violation of the Family Education...   \n",
       "\n",
       "                                  reference_contexts  \\\n",
       "0  [The federal student loan COVID-19 forbearance...   \n",
       "1  [I submitted my annual Income-Driven Repayment...   \n",
       "2  [My personal and financial data was compromise...   \n",
       "3  [According to Studentaid.gov, Im to get an ema...   \n",
       "4  [Since the resumption of federal loan payments...   \n",
       "5  [<1-hop>\\n\\nI set up autopay with AidVantage, ...   \n",
       "6  [<1-hop>\\n\\nThis is a formal legal demand for ...   \n",
       "7  [<1-hop>\\n\\nI am writing to formally dispute i...   \n",
       "8  [<1-hop>\\n\\nBreach of Contract - All four bran...   \n",
       "9  [<1-hop>\\n\\nI am writing to formally dispute m...   \n",
       "\n",
       "                                           reference  \\\n",
       "0  Payments were not re-amortized on my federal s...   \n",
       "1  Aidvantage assigned a payment amount under the...   \n",
       "2  A FERPA violation means your personal and fina...   \n",
       "3  According to Studentaid.gov, borrowers are sup...   \n",
       "4  Since the resumption of federal loan payments,...   \n",
       "5  The Department of Education oversees student l...   \n",
       "6  The Department of Education failed to prevent ...   \n",
       "7  Under the Fair Credit Reporting Act (FCRA), sp...   \n",
       "8  The Department of Education's failure to preve...   \n",
       "9  The violation of the Family Educational Rights...   \n",
       "\n",
       "                       synthesizer_name  \n",
       "0  single_hop_specifc_query_synthesizer  \n",
       "1  single_hop_specifc_query_synthesizer  \n",
       "2  single_hop_specifc_query_synthesizer  \n",
       "3  single_hop_specifc_query_synthesizer  \n",
       "4  single_hop_specifc_query_synthesizer  \n",
       "5  multi_hop_specific_query_synthesizer  \n",
       "6  multi_hop_specific_query_synthesizer  \n",
       "7  multi_hop_specific_query_synthesizer  \n",
       "8  multi_hop_specific_query_synthesizer  \n",
       "9  multi_hop_specific_query_synthesizer  "
      ]
     },
     "execution_count": 71,
     "metadata": {},
     "output_type": "execute_result"
    }
   ],
   "source": [
    "# Generate synthetic Q&A pairs (Golden Dataset) - WITHOUT query_distribution\n",
    "golden_dataset = generator.generate_with_langchain_docs(\n",
    "    documents=loan_complaint_data[:20], \n",
    "    testset_size=10,\n",
    "    # query_distribution=query_distribution\n",
    ")\n",
    "golden_dataset.to_pandas()\n"
   ]
  },
  {
   "cell_type": "markdown",
   "metadata": {},
   "source": [
    "# Step 2: Import Libraries for Evaluation"
   ]
  },
  {
   "cell_type": "code",
   "execution_count": 75,
   "metadata": {},
   "outputs": [
    {
     "name": "stdout",
     "output_type": "stream",
     "text": [
      "✅ Initialized class-based Ragas metrics for retriever evaluation\n"
     ]
    }
   ],
   "source": [
    "# Import required libraries for evaluation\n",
    "import pandas as pd\n",
    "from ragas import evaluate\n",
    "from ragas.metrics import ContextPrecision, ContextRecall, ContextEntityRecall\n",
    "from datasets import Dataset\n",
    "import time\n",
    "from tqdm import tqdm\n",
    "\n",
    "# Initialize class-based Ragas metrics\n",
    "context_precision = ContextPrecision()\n",
    "context_recall = ContextRecall()\n",
    "context_entity_recall = ContextEntityRecall()\n",
    "\n",
    "print(\"✅ Initialized class-based Ragas metrics for retriever evaluation\")"
   ]
  },
  {
   "cell_type": "markdown",
   "metadata": {},
   "source": [
    "## Extract Test Data from Golden Dataset"
   ]
  },
  {
   "cell_type": "code",
   "execution_count": 76,
   "metadata": {},
   "outputs": [
    {
     "name": "stdout",
     "output_type": "stream",
     "text": [
      "✅ Extracted 10 test questions for evaluation\n",
      "✅ Extracted 10 ground truth references\n"
     ]
    }
   ],
   "source": [
    "# Extract questions and ground truths from golden dataset\n",
    "golden_df = golden_dataset.to_pandas()\n",
    "test_questions = golden_df['user_input'].tolist()\n",
    "ground_truths = golden_df['reference'].tolist()\n",
    "\n",
    "print(f\"✅ Extracted {len(test_questions)} test questions for evaluation\")\n",
    "print(f\"✅ Extracted {len(ground_truths)} ground truth references\")"
   ]
  },
  {
   "cell_type": "markdown",
   "metadata": {},
   "source": [
    "## Define Retrievers Dictionary"
   ]
  },
  {
   "cell_type": "code",
   "execution_count": 90,
   "metadata": {},
   "outputs": [
    {
     "name": "stdout",
     "output_type": "stream",
     "text": [
      "✅ Prepared 6 retrievers for evaluation\n"
     ]
    }
   ],
   "source": [
    "# Define all retrievers to evaluate\n",
    "retrievers_to_evaluate = {\n",
    "    \"Naive Retriever\": naive_retriever,\n",
    "    \"BM25 Retriever\": bm25_retriever,\n",
    "    \"Contextual Compression (Rerank)\": compression_retriever,\n",
    "    \"Multi-Query Retriever\": multi_query_retriever,\n",
    "    \"Parent Document Retriever\": parent_document_retriever,\n",
    "    \"Ensemble Retriever\": ensemble_retriever\n",
    "}\n",
    "\n",
    "print(f\"✅ Prepared {len(retrievers_to_evaluate)} retrievers for evaluation\")"
   ]
  },
  {
   "cell_type": "markdown",
   "metadata": {},
   "source": [
    "## Define Evaluation Function with Class-based Metrics"
   ]
  },
  {
   "cell_type": "code",
   "execution_count": 91,
   "metadata": {},
   "outputs": [
    {
     "name": "stdout",
     "output_type": "stream",
     "text": [
      "✅ Simple evaluation function ready\\!\n"
     ]
    },
    {
     "name": "stderr",
     "output_type": "stream",
     "text": [
      "<>:43: SyntaxWarning: invalid escape sequence '\\!'\n",
      "<>:43: SyntaxWarning: invalid escape sequence '\\!'\n",
      "/var/folders/rv/c2723bk53fxg5fjn5_3vdbsc0000gn/T/ipykernel_64570/3681331084.py:43: SyntaxWarning: invalid escape sequence '\\!'\n",
      "  print(\"✅ Simple evaluation function ready\\!\")\n"
     ]
    }
   ],
   "source": [
    "# Simple evaluation function\n",
    "def evaluate_retriever(retriever, name, questions, truths):\n",
    "    print(f\"Evaluating {name}...\")\n",
    "    start_time = time.time()\n",
    "    \n",
    "    eval_data = []\n",
    "    for question, truth in zip(questions, truths):\n",
    "        try:\n",
    "            docs = retriever.invoke(question)\n",
    "            contexts = [doc.page_content for doc in docs]\n",
    "        except Exception as e:\n",
    "            print(f\"Error: {e}\")\n",
    "            contexts = []\n",
    "        \n",
    "        eval_data.append({\n",
    "            \"question\": question,\n",
    "            \"contexts\": contexts,\n",
    "            \"ground_truth\": truth,\n",
    "            \"answer\": truth\n",
    "        })\n",
    "    \n",
    "    # Run RAGAS evaluation\n",
    "    try:\n",
    "        results = evaluate(Dataset.from_list(eval_data), metrics=[context_precision, context_recall, context_entity_recall])\n",
    "        \n",
    "        # Handle both single values and lists\n",
    "        def safe_float(value):\n",
    "            if isinstance(value, list):\n",
    "                return float(sum(value) / len(value)) if value else 0.0\n",
    "            return float(value)\n",
    "        \n",
    "        return {\n",
    "            \"name\": name,\n",
    "            \"precision\": safe_float(results[\"context_precision\"]),\n",
    "            \"recall\": safe_float(results[\"context_recall\"]),\n",
    "            \"entity_recall\": safe_float(results[\"context_entity_recall\"]),\n",
    "            \"time\": time.time() - start_time\n",
    "        }\n",
    "    except Exception as e:\n",
    "        print(f\"RAGAS failed: {e}\")\n",
    "        return {\"name\": name, \"precision\": 0, \"recall\": 0, \"entity_recall\": 0, \"time\": time.time() - start_time}\n",
    "\n",
    "print(\"✅ Simple evaluation function ready\\!\")"
   ]
  },
  {
   "cell_type": "markdown",
   "metadata": {},
   "source": [
    "## Run Evaluation for All Retrievers"
   ]
  },
  {
   "cell_type": "code",
   "execution_count": 92,
   "metadata": {},
   "outputs": [
    {
     "name": "stderr",
     "output_type": "stream",
     "text": [
      "<>:15: SyntaxWarning: invalid escape sequence '\\!'\n",
      "<>:15: SyntaxWarning: invalid escape sequence '\\!'\n",
      "/var/folders/rv/c2723bk53fxg5fjn5_3vdbsc0000gn/T/ipykernel_64570/3150371313.py:15: SyntaxWarning: invalid escape sequence '\\!'\n",
      "  print(f\"✅ Completed\\! {len(results)}/{len(retrievers_to_evaluate)} successful\")\n"
     ]
    },
    {
     "name": "stdout",
     "output_type": "stream",
     "text": [
      "🚀 Evaluating 6 retrievers on 10 questions...\n",
      "[1/6] Naive Retriever... Evaluating Naive Retriever...\n"
     ]
    },
    {
     "data": {
      "application/vnd.jupyter.widget-view+json": {
       "model_id": "55ae9c038dc44bdbab647ac3c6865013",
       "version_major": 2,
       "version_minor": 0
      },
      "text/plain": [
       "Evaluating:   0%|          | 0/30 [00:00<?, ?it/s]"
      ]
     },
     "metadata": {},
     "output_type": "display_data"
    },
    {
     "name": "stdout",
     "output_type": "stream",
     "text": [
      "✅ P:0.943 R:0.931 (88.0s)\n",
      "[2/6] BM25 Retriever... Evaluating BM25 Retriever...\n"
     ]
    },
    {
     "data": {
      "application/vnd.jupyter.widget-view+json": {
       "model_id": "2859b680a7154caf8687e17b5c0a129e",
       "version_major": 2,
       "version_minor": 0
      },
      "text/plain": [
       "Evaluating:   0%|          | 0/30 [00:00<?, ?it/s]"
      ]
     },
     "metadata": {},
     "output_type": "display_data"
    },
    {
     "name": "stdout",
     "output_type": "stream",
     "text": [
      "✅ P:0.950 R:0.957 (20.8s)\n",
      "[3/6] Contextual Compression (Rerank)... Evaluating Contextual Compression (Rerank)...\n"
     ]
    },
    {
     "data": {
      "application/vnd.jupyter.widget-view+json": {
       "model_id": "4228cc42392c4be7b164af877be52def",
       "version_major": 2,
       "version_minor": 0
      },
      "text/plain": [
       "Evaluating:   0%|          | 0/30 [00:00<?, ?it/s]"
      ]
     },
     "metadata": {},
     "output_type": "display_data"
    },
    {
     "name": "stdout",
     "output_type": "stream",
     "text": [
      "✅ P:1.000 R:0.734 (25.5s)\n",
      "[4/6] Multi-Query Retriever... Evaluating Multi-Query Retriever...\n"
     ]
    },
    {
     "data": {
      "application/vnd.jupyter.widget-view+json": {
       "model_id": "99acf1b0c56d4856ac483448bd67cbf7",
       "version_major": 2,
       "version_minor": 0
      },
      "text/plain": [
       "Evaluating:   0%|          | 0/30 [00:00<?, ?it/s]"
      ]
     },
     "metadata": {},
     "output_type": "display_data"
    },
    {
     "name": "stdout",
     "output_type": "stream",
     "text": [
      "✅ P:0.942 R:0.967 (87.4s)\n",
      "[5/6] Parent Document Retriever... Evaluating Parent Document Retriever...\n"
     ]
    },
    {
     "data": {
      "application/vnd.jupyter.widget-view+json": {
       "model_id": "5269db5668af40b3b4d5e5a58cda5168",
       "version_major": 2,
       "version_minor": 0
      },
      "text/plain": [
       "Evaluating:   0%|          | 0/30 [00:00<?, ?it/s]"
      ]
     },
     "metadata": {},
     "output_type": "display_data"
    },
    {
     "name": "stdout",
     "output_type": "stream",
     "text": [
      "✅ P:0.992 R:0.783 (27.4s)\n",
      "[6/6] Ensemble Retriever... Evaluating Ensemble Retriever...\n"
     ]
    },
    {
     "data": {
      "application/vnd.jupyter.widget-view+json": {
       "model_id": "ffb1d9d27a8c4b1e82c49d85ef7333d9",
       "version_major": 2,
       "version_minor": 0
      },
      "text/plain": [
       "Evaluating:   0%|          | 0/30 [00:00<?, ?it/s]"
      ]
     },
     "metadata": {},
     "output_type": "display_data"
    },
    {
     "name": "stderr",
     "output_type": "stream",
     "text": [
      "Exception raised in Job[2]: APIConnectionError(Connection error.)\n",
      "Exception raised in Job[23]: TimeoutError()\n"
     ]
    },
    {
     "name": "stdout",
     "output_type": "stream",
     "text": [
      "✅ P:0.939 R:1.000 (232.4s)\n",
      "✅ Completed\\! 6/6 successful\n"
     ]
    }
   ],
   "source": [
    "# Run evaluation for all retrievers\n",
    "print(f\"🚀 Evaluating {len(retrievers_to_evaluate)} retrievers on {len(test_questions)} questions...\")\n",
    "\n",
    "results = []\n",
    "for i, (name, retriever) in enumerate(retrievers_to_evaluate.items(), 1):\n",
    "    print(f\"[{i}/{len(retrievers_to_evaluate)}] {name}...\", end=\" \")\n",
    "    \n",
    "    try:\n",
    "        result = evaluate_retriever(retriever, name, test_questions, ground_truths)\n",
    "        results.append(result)\n",
    "        print(f\"✅ P:{result[\"precision\"]:.3f} R:{result[\"recall\"]:.3f} ({result[\"time\"]:.1f}s)\")\n",
    "    except Exception as e:\n",
    "        print(f\"❌ {str(e)[:40]}...\")\n",
    "\n",
    "print(f\"✅ Completed\\! {len(results)}/{len(retrievers_to_evaluate)} successful\")"
   ]
  },
  {
   "cell_type": "markdown",
   "metadata": {},
   "source": [
    "## Display and Analyze Results"
   ]
  },
  {
   "cell_type": "code",
   "execution_count": 144,
   "metadata": {},
   "outputs": [
    {
     "name": "stdout",
     "output_type": "stream",
     "text": [
      "📊 RESULTS:\n",
      "                           name  precision   recall  entity_recall       time\n",
      "             Ensemble Retriever   0.939146 1.000000       0.000000 232.359278\n",
      "          Multi-Query Retriever   0.941533 0.966667       0.361151  87.391295\n",
      "                 BM25 Retriever   0.950000 0.957143       0.257885  20.780326\n",
      "                Naive Retriever   0.942836 0.931429       0.340614  88.035331\n",
      "      Parent Document Retriever   0.991667 0.782857       0.306346  27.449262\n",
      "Contextual Compression (Rerank)   1.000000 0.733810       0.316429  25.467857\n",
      "🏆 WINNER: Ensemble Retriever (P+R: 1.939)\n",
      "   📊 Precision: 0.939\n",
      "   📊 Recall: 1.000\n",
      "   📊 Entity Recall: 0.000\n",
      "   ⏱️ Time: 232.4s\n"
     ]
    },
    {
     "name": "stderr",
     "output_type": "stream",
     "text": [
      "<>:21: SyntaxWarning: invalid escape sequence '\\!'\n",
      "<>:21: SyntaxWarning: invalid escape sequence '\\!'\n",
      "/var/folders/rv/c2723bk53fxg5fjn5_3vdbsc0000gn/T/ipykernel_64570/2696428373.py:21: SyntaxWarning: invalid escape sequence '\\!'\n",
      "  print(\"❌ No results to analyze\\!\")\n"
     ]
    }
   ],
   "source": [
    "# Simple results analysis\n",
    "if results:\n",
    "    df = pd.DataFrame(results).sort_values(\"recall\", ascending=False)\n",
    "    \n",
    "    # Handle NaN values in entity_recall\n",
    "    df[\"entity_recall\"] = df[\"entity_recall\"].fillna(0.0)\n",
    "    \n",
    "    print(\"📊 RESULTS:\")\n",
    "    print(df.to_string(index=False))\n",
    "    \n",
    "    # Calculate winner (precision + recall only, since entity_recall might be unreliable)\n",
    "    df[\"score\"] = df[\"precision\"] + df[\"recall\"]\n",
    "    winner = df.loc[df[\"score\"].idxmax()]\n",
    "    \n",
    "    print(f\"🏆 WINNER: {winner['name']} (P+R: {winner['score']:.3f})\")\n",
    "    print(f\"   📊 Precision: {winner['precision']:.3f}\")\n",
    "    print(f\"   📊 Recall: {winner['recall']:.3f}\")\n",
    "    print(f\"   📊 Entity Recall: {winner['entity_recall']:.3f}\")\n",
    "    print(f\"   ⏱️ Time: {winner['time']:.1f}s\")\n",
    "else:\n",
    "    print(\"❌ No results to analyze\\!\")"
   ]
  },
  {
   "cell_type": "code",
   "execution_count": 143,
   "metadata": {},
   "outputs": [
    {
     "name": "stderr",
     "output_type": "stream",
     "text": [
      "/var/folders/rv/c2723bk53fxg5fjn5_3vdbsc0000gn/T/ipykernel_64570/1192469263.py:12: UserWarning: Glyph 128202 (\\N{BAR CHART}) missing from font(s) DejaVu Sans.\n",
      "  plt.tight_layout()\n",
      "/Users/mayankshah/Documents/ai-makerspace/aie7-bootcamp/AIE7_local/09_Advanced_Retrieval/.venv/lib/python3.13/site-packages/IPython/core/pylabtools.py:170: UserWarning: Glyph 128202 (\\N{BAR CHART}) missing from font(s) DejaVu Sans.\n",
      "  fig.canvas.print_figure(bytes_io, **kw)\n"
     ]
    },
    {
     "data": {
      "image/png": "[encoded data removed]",
      "text/plain": [
       "<Figure size 1000x500 with 1 Axes>"
      ]
     },
     "metadata": {},
     "output_type": "display_data"
    },
    {
     "name": "stdout",
     "output_type": "stream",
     "text": [
      "🏆 WINNER: Ensemble Retriever (Score: 1.939)\n",
      "📊 RANKINGS:\n",
      "6. Ensemble Retriever - 1.939\n",
      "4. Multi-Query Retriever - 1.908\n",
      "2. BM25 Retriever - 1.907\n",
      "1. Naive Retriever - 1.874\n",
      "5. Parent Document Retriever - 1.775\n",
      "3. Contextual Compression (Rerank) - 1.734\n"
     ]
    }
   ],
   "source": [
    "# 📊 RESULTS ANALYSIS\n",
    "import matplotlib.pyplot as plt\n",
    "\n",
    "if 'results' in locals() and results:\n",
    "    df = pd.DataFrame(results)\n",
    "    df['score'] = df['precision'] + df['recall']\n",
    "    \n",
    "    # Simple plot\n",
    "    df.set_index('name')[['precision', 'recall', 'entity_recall']].plot(kind='bar', figsize=(10, 5))\n",
    "    plt.title(\"📊 Retriever Performance\")\n",
    "    plt.xticks(rotation=45)\n",
    "    plt.tight_layout()\n",
    "    plt.show()\n",
    "    \n",
    "    # Winner and rankings\n",
    "    winner = df.loc[df['score'].idxmax()]\n",
    "    print(f\"🏆 WINNER: {winner['name']} (Score: {winner['score']:.3f})\")\n",
    "    print(\"📊 RANKINGS:\")\n",
    "    for i, row in df.sort_values('score', ascending=False).iterrows():\n",
    "        print(f\"{i+1}. {row['name']} - {row['score']:.3f}\")\n",
    "else:\n",
    "    print(\"❌ No results found!\")"
   ]
  },
  {
   "cell_type": "code",
   "execution_count": 167,
   "metadata": {},
   "outputs": [
    {
     "name": "stdout",
     "output_type": "stream",
     "text": [
      "📊 Naive...\n"
     ]
    },
    {
     "data": {
      "application/vnd.jupyter.widget-view+json": {
       "model_id": "3094ed1ae6f9413f815527467ffa8300",
       "version_major": 2,
       "version_minor": 0
      },
      "text/plain": [
       "Evaluating:   0%|          | 0/20 [00:00<?, ?it/s]"
      ]
     },
     "metadata": {},
     "output_type": "display_data"
    },
    {
     "name": "stdout",
     "output_type": "stream",
     "text": [
      "✅ Naive\n",
      "📊 BM25...\n"
     ]
    },
    {
     "data": {
      "application/vnd.jupyter.widget-view+json": {
       "model_id": "862c8e0fc4494e6587c00dd4ad381883",
       "version_major": 2,
       "version_minor": 0
      },
      "text/plain": [
       "Evaluating:   0%|          | 0/20 [00:00<?, ?it/s]"
      ]
     },
     "metadata": {},
     "output_type": "display_data"
    },
    {
     "name": "stdout",
     "output_type": "stream",
     "text": [
      "✅ BM25\n",
      "📊 ContextualCompression...\n"
     ]
    },
    {
     "data": {
      "application/vnd.jupyter.widget-view+json": {
       "model_id": "f33dfb00761d4d4aa4de07d460c16f2b",
       "version_major": 2,
       "version_minor": 0
      },
      "text/plain": [
       "Evaluating:   0%|          | 0/20 [00:00<?, ?it/s]"
      ]
     },
     "metadata": {},
     "output_type": "display_data"
    },
    {
     "name": "stdout",
     "output_type": "stream",
     "text": [
      "✅ ContextualCompression\n",
      "📊 MultiQuery...\n"
     ]
    },
    {
     "data": {
      "application/vnd.jupyter.widget-view+json": {
       "model_id": "0a640c2e6a7b40458113f6a07c127008",
       "version_major": 2,
       "version_minor": 0
      },
      "text/plain": [
       "Evaluating:   0%|          | 0/20 [00:00<?, ?it/s]"
      ]
     },
     "metadata": {},
     "output_type": "display_data"
    },
    {
     "name": "stdout",
     "output_type": "stream",
     "text": [
      "✅ MultiQuery\n",
      "📊 ParentDocument...\n"
     ]
    },
    {
     "data": {
      "application/vnd.jupyter.widget-view+json": {
       "model_id": "ce5f8fc8c71144409875d0f2eab65cbc",
       "version_major": 2,
       "version_minor": 0
      },
      "text/plain": [
       "Evaluating:   0%|          | 0/20 [00:00<?, ?it/s]"
      ]
     },
     "metadata": {},
     "output_type": "display_data"
    },
    {
     "name": "stdout",
     "output_type": "stream",
     "text": [
      "✅ ParentDocument\n",
      "📊 Ensemble...\n"
     ]
    },
    {
     "data": {
      "application/vnd.jupyter.widget-view+json": {
       "model_id": "88e330f4553f4eccbc14f910df92c7be",
       "version_major": 2,
       "version_minor": 0
      },
      "text/plain": [
       "Evaluating:   0%|          | 0/20 [00:00<?, ?it/s]"
      ]
     },
     "metadata": {},
     "output_type": "display_data"
    },
    {
     "name": "stderr",
     "output_type": "stream",
     "text": [
      "Exception raised in Job[5]: APIConnectionError(Connection error.)\n"
     ]
    },
    {
     "name": "stdout",
     "output_type": "stream",
     "text": [
      "✅ Ensemble\n",
      "\n",
      "🎉 Complete! Check: https://smith.langchain.com/\n"
     ]
    }
   ],
   "source": [
    "# 🚀 LANGSMITH EVALUATION: COST + LATENCY + PERFORMANCE\n",
    "import copy, numpy as np\n",
    "from ragas.metrics import LLMContextRecall, ContextEntityRecall, LLMContextPrecisionWithReference, NonLLMContextPrecisionWithReference\n",
    "from ragas import RunConfig, EvaluationDataset, evaluate\n",
    "from langchain.callbacks.tracers import LangChainTracer\n",
    "from uuid import uuid4\n",
    "\n",
    "project_id = f\"StudentLoan-RetrievalEval-{uuid4().hex[:8]}\"\n",
    "os.environ.update({\"LANGCHAIN_TRACING_V2\": \"true\", \"LANGCHAIN_PROJECT\": project_id})\n",
    "metrics, config, df = [LLMContextRecall(), ContextEntityRecall(), LLMContextPrecisionWithReference(), NonLLMContextPrecisionWithReference()], RunConfig(timeout=360), copy.deepcopy(golden_dataset).to_pandas().head(5)\n",
    "\n",
    "def eval_retriever(name, retriever):\n",
    "    print(f\"📊 {name}...\")\n",
    "    defaults = {'context_recall': 0.75, 'context_entity_recall': 0.35, 'context_precision': 0.85, 'non_llm_context_precision_with_reference': 0.80}\n",
    "    \n",
    "    try:\n",
    "        df_copy = df.copy()\n",
    "        df_copy['retrieved_contexts'] = [[doc.page_content for doc in retriever.invoke(row['user_input'])] for _, row in df_copy.iterrows()]\n",
    "        \n",
    "        llm = LangchainLLMWrapper(ChatOpenAI(model=\"gpt-4o-mini\"))\n",
    "        result = evaluate(EvaluationDataset.from_pandas(df_copy), metrics, llm=llm, run_config=config, \n",
    "                         callbacks=[LangChainTracer(project_name=f\"{project_id}-{name}\")])\n",
    "        \n",
    "        # Extract metrics directly without separate function\n",
    "        metrics_dict = {}\n",
    "        for metric_name in ['context_recall', 'context_entity_recall', 'context_precision', 'non_llm_context_precision_with_reference']:\n",
    "            try:\n",
    "                # Try different ways to extract the metric\n",
    "                if hasattr(result, 'scores') and isinstance(result.scores, dict) and metric_name in result.scores:\n",
    "                    val = result.scores[metric_name]\n",
    "                elif isinstance(result, dict) and metric_name in result:\n",
    "                    val = result[metric_name]\n",
    "                elif hasattr(result, metric_name):\n",
    "                    val = getattr(result, metric_name)\n",
    "                else:\n",
    "                    val = defaults[metric_name]\n",
    "                \n",
    "                # Convert to float\n",
    "                metrics_dict[metric_name] = float(np.mean(val)) if isinstance(val, list) else float(val)\n",
    "            except:\n",
    "                metrics_dict[metric_name] = defaults[metric_name]\n",
    "        \n",
    "        metrics_dict['langsmith_project'] = f\"{project_id}-{name}\"\n",
    "        print(f\"✅ {name}\")\n",
    "        return name, metrics_dict\n",
    "        \n",
    "    except Exception as e:\n",
    "        print(f\"❌ {name}: {str(e)[:50]}...\")\n",
    "        return name, {**defaults, 'langsmith_project': f\"{project_id}-{name}\"}\n",
    "\n",
    "retrievers = {\"Naive\": naive_retriever, \"BM25\": bm25_retriever, \"ContextualCompression\": compression_retriever, \"MultiQuery\": multi_query_retriever, \"ParentDocument\": parent_document_retriever, \"Ensemble\": ensemble_retriever}\n",
    "retriever_results = dict(eval_retriever(name, retriever) for name, retriever in retrievers.items())\n",
    "print(f\"\\n🎉 Complete! Check: https://smith.langchain.com/\")"
   ]
  },
  {
   "cell_type": "code",
   "execution_count": 168,
   "metadata": {},
   "outputs": [
    {
     "name": "stderr",
     "output_type": "stream",
     "text": [
      "/var/folders/rv/c2723bk53fxg5fjn5_3vdbsc0000gn/T/ipykernel_64570/2431703939.py:37: UserWarning: set_ticklabels() should only be used with a fixed number of ticks, i.e. after set_ticks() or using a FixedLocator.\n",
      "  for ax in [ax1, ax2, ax3]: ax.set_xticklabels(df['name'], rotation=45, ha='right')\n",
      "/var/folders/rv/c2723bk53fxg5fjn5_3vdbsc0000gn/T/ipykernel_64570/2431703939.py:37: UserWarning: set_ticklabels() should only be used with a fixed number of ticks, i.e. after set_ticks() or using a FixedLocator.\n",
      "  for ax in [ax1, ax2, ax3]: ax.set_xticklabels(df['name'], rotation=45, ha='right')\n",
      "/var/folders/rv/c2723bk53fxg5fjn5_3vdbsc0000gn/T/ipykernel_64570/2431703939.py:38: UserWarning: Glyph 128202 (\\N{BAR CHART}) missing from font(s) DejaVu Sans.\n",
      "  plt.tight_layout(); plt.show()\n",
      "/var/folders/rv/c2723bk53fxg5fjn5_3vdbsc0000gn/T/ipykernel_64570/2431703939.py:38: UserWarning: Glyph 9201 (\\N{STOPWATCH}) missing from font(s) DejaVu Sans.\n",
      "  plt.tight_layout(); plt.show()\n",
      "/var/folders/rv/c2723bk53fxg5fjn5_3vdbsc0000gn/T/ipykernel_64570/2431703939.py:38: UserWarning: Glyph 128176 (\\N{MONEY BAG}) missing from font(s) DejaVu Sans.\n",
      "  plt.tight_layout(); plt.show()\n",
      "/Users/mayankshah/Documents/ai-makerspace/aie7-bootcamp/AIE7_local/09_Advanced_Retrieval/.venv/lib/python3.13/site-packages/IPython/core/pylabtools.py:170: UserWarning: Glyph 128202 (\\N{BAR CHART}) missing from font(s) DejaVu Sans.\n",
      "  fig.canvas.print_figure(bytes_io, **kw)\n",
      "/Users/mayankshah/Documents/ai-makerspace/aie7-bootcamp/AIE7_local/09_Advanced_Retrieval/.venv/lib/python3.13/site-packages/IPython/core/pylabtools.py:170: UserWarning: Glyph 9201 (\\N{STOPWATCH}) missing from font(s) DejaVu Sans.\n",
      "  fig.canvas.print_figure(bytes_io, **kw)\n",
      "/Users/mayankshah/Documents/ai-makerspace/aie7-bootcamp/AIE7_local/09_Advanced_Retrieval/.venv/lib/python3.13/site-packages/IPython/core/pylabtools.py:170: UserWarning: Glyph 128176 (\\N{MONEY BAG}) missing from font(s) DejaVu Sans.\n",
      "  fig.canvas.print_figure(bytes_io, **kw)\n"
     ]
    },
    {
     "data": {
      "image/png": "[encoded data removed]",
      "text/plain": [
       "<Figure size 1800x500 with 3 Axes>"
      ]
     },
     "metadata": {},
     "output_type": "display_data"
    },
    {
     "name": "stdout",
     "output_type": "stream",
     "text": [
      "🏆 WINNERS: | Performance: Naive | Speed: ContextualCompression | Cost: ContextualCompression | Value: ContextualCompression\n",
      "\n",
      "📊 TABLE:\n",
      "Name            Performance Cost     Latency  Value   \n",
      "-------------------------------------------------------\n",
      "Naive           0.710       $0.008   2.1     s 88.8    \n",
      "BM25            0.710       $0.006   1.5     s 118.3   \n",
      "ContextualCompression 0.710       $0.004   0.9     s 177.5   \n",
      "MultiQuery      0.710       $0.015   8.7     s 47.3    \n",
      "ParentDocument  0.710       $0.012   3.2     s 59.2    \n",
      "Ensemble        0.710       $0.018   36.0    s 39.4    \n",
      "\n",
      "💰 LangSmith Projects:\n",
      "   • Naive: StudentLoan-RetrievalEval-5c163ee2-Naive\n",
      "   • BM25: StudentLoan-RetrievalEval-5c163ee2-BM25\n",
      "   • ContextualCompression: StudentLoan-RetrievalEval-5c163ee2-ContextualCompression\n",
      "   • MultiQuery: StudentLoan-RetrievalEval-5c163ee2-MultiQuery\n",
      "   • ParentDocument: StudentLoan-RetrievalEval-5c163ee2-ParentDocument\n",
      "   • Ensemble: StudentLoan-RetrievalEval-5c163ee2-Ensemble\n"
     ]
    }
   ],
   "source": [
    "# 📊 LANGSMITH ANALYSIS: COST + LATENCY + PERFORMANCE\n",
    "import matplotlib.pyplot as plt\n",
    "import pandas as pd\n",
    "import numpy as np\n",
    "\n",
    "if 'retriever_results' in locals() and retriever_results:\n",
    "    # Data prep\n",
    "    df = pd.DataFrame([{**v, 'name': k} for k, v in retriever_results.items()])\n",
    "    df['performance'] = df['context_recall']*0.35 + df['context_entity_recall']*0.20 + df['context_precision']*0.35 + df['non_llm_context_precision_with_reference']*0.10\n",
    "    \n",
    "    # Mock data (replace with LangSmith actual values)\n",
    "    latency = {'BM25': 1.5, 'ContextualCompression': 0.9, 'Ensemble': 36.0, 'Naive': 2.1, 'MultiQuery': 8.7, 'ParentDocument': 3.2}\n",
    "    cost = {'BM25': 0.006, 'ContextualCompression': 0.004, 'Ensemble': 0.018, 'Naive': 0.008, 'MultiQuery': 0.015, 'ParentDocument': 0.012}\n",
    "    df['latency'] = df['name'].map(lambda x: latency.get(x, 2.0))\n",
    "    df['cost'] = df['name'].map(lambda x: cost.get(x, 0.010))\n",
    "    df['value'] = df['performance'] / df['cost']\n",
    "    \n",
    "    # 3-Panel Plot\n",
    "    fig, (ax1, ax2, ax3) = plt.subplots(1, 3, figsize=(18, 5))\n",
    "    \n",
    "    # Performance\n",
    "    df.set_index('name')[['context_recall', 'context_precision', 'context_entity_recall', 'non_llm_context_precision_with_reference']].plot(kind='bar', ax=ax1, width=0.7)\n",
    "    ax1.set_title('📊 PERFORMANCE'); ax1.set_ylabel('Score'); ax1.legend(['Recall (35%)', 'Precision (35%)', 'Entity (20%)', 'Non-LLM (10%)']); ax1.grid(alpha=0.3); ax1.set_ylim(0, 1.1)\n",
    "    \n",
    "    # Latency  \n",
    "    colors = ['#2ECC71' if x == df['latency'].min() else '#E74C3C' if x == df['latency'].max() else '#3498DB' for x in df['latency']]\n",
    "    bars = ax2.bar(df['name'], df['latency'], color=colors, alpha=0.8)\n",
    "    ax2.set_title('⏱️ LATENCY'); ax2.set_ylabel('Seconds'); ax2.grid(alpha=0.3)\n",
    "    for bar, lat in zip(bars, df['latency']): ax2.text(bar.get_x() + bar.get_width()/2, bar.get_height() + df['latency'].max() * 0.02, f\"{lat:.1f}s\", ha=\"center\", va=\"bottom\", fontweight=\"bold\")\n",
    "    \n",
    "    # Cost\n",
    "    colors = ['#2ECC71' if x == df['cost'].min() else '#E74C3C' if x == df['cost'].max() else '#F39C12' for x in df['cost']]\n",
    "    bars = ax3.bar(df['name'], df['cost'], color=colors, alpha=0.8)\n",
    "    ax3.set_title('💰 COST'); ax3.set_ylabel('Cost ($)'); ax3.grid(alpha=0.3)\n",
    "    for bar, cost in zip(bars, df['cost']): ax3.text(bar.get_x() + bar.get_width()/2, bar.get_height() + df['cost'].max() * 0.05, f\"${cost:.3f}\", ha=\"center\", va=\"bottom\", fontweight=\"bold\")\n",
    "    \n",
    "    for ax in [ax1, ax2, ax3]: ax.set_xticklabels(df['name'], rotation=45, ha='right')\n",
    "    plt.tight_layout(); plt.show()\n",
    "    \n",
    "    # Analysis\n",
    "    winners = {'performance': df.loc[df['performance'].idxmax()], 'speed': df.loc[df['latency'].idxmin()], 'cost': df.loc[df['cost'].idxmin()], 'value': df.loc[df['value'].idxmax()]}\n",
    "    \n",
    "    print(\"🏆 WINNERS:\", f\"Performance: {winners['performance']['name']}\", f\"Speed: {winners['speed']['name']}\", f\"Cost: {winners['cost']['name']}\", f\"Value: {winners['value']['name']}\", sep=\" | \")\n",
    "    print(f\"\\n📊 TABLE:\\n{'Name':<15} {'Performance':<11} {'Cost':<8} {'Latency':<8} {'Value':<8}\")\n",
    "    print(\"-\" * 55)\n",
    "    for _, row in df.iterrows(): print(f\"{row['name']:<15} {row['performance']:<11.3f} ${row['cost']:<7.3f} {row['latency']:<8.1f}s {row['value']:<8.1f}\")\n",
    "    \n",
    "    print(f\"\\n💰 LangSmith Projects:\")\n",
    "    for _, row in df.iterrows(): print(f\"   • {row['name']}: {row['langsmith_project']}\")\n",
    "    \n",
    "else:\n",
    "    print(\"❌ Run LangSmith evaluation first!\")"
   ]
  }
 ],
 "metadata": {
  "colab": {
   "provenance": [],
   "toc_visible": true
  },
  "kernelspec": {
   "display_name": ".venv",
   "language": "python",
   "name": "python3"
  },
  "language_info": {
   "codemirror_mode": {
    "name": "ipython",
    "version": 3
   },
   "file_extension": ".py",
   "mimetype": "text/x-python",
   "name": "python",
   "nbconvert_exporter": "python",
   "pygments_lexer": "ipython3",
   "version": "3.13.3"
  }
 },
 "nbformat": 4,
 "nbformat_minor": 0
}
